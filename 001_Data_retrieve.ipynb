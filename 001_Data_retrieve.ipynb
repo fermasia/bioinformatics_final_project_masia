{
 "cells": [
  {
   "cell_type": "code",
   "execution_count": 26,
   "id": "fdb81e9b-de92-4614-acdf-fc50d739c8d0",
   "metadata": {},
   "outputs": [
    {
     "name": "stdout",
     "output_type": "stream",
     "text": [
      "The autoreload extension is already loaded. To reload it, use:\n",
      "  %reload_ext autoreload\n"
     ]
    }
   ],
   "source": [
    "%load_ext autoreload\n",
    "%autoreload 2"
   ]
  },
  {
   "cell_type": "markdown",
   "id": "0f63690e-2afb-4096-9462-b66f5425bcda",
   "metadata": {},
   "source": [
    "# Proyecto final Bioinformática (NLP)"
   ]
  },
  {
   "cell_type": "markdown",
   "id": "d70fde61-b8d1-4d2b-adf5-5d9670891d15",
   "metadata": {},
   "source": [
    "Mirar el siguiente video. Sobre todo la primer parte como para tener contexto sobre descubrimiento de drogas:\n",
    "\n",
    "https://www.youtube.com/watch?v=jBlTQjcKuaY"
   ]
  },
  {
   "cell_type": "markdown",
   "id": "5e532b12-83cc-4a5e-9f0e-d53459b26a37",
   "metadata": {},
   "source": [
    "Resumen y puntos importantes del video:\n",
    "- Queremos entender la bioactividad de una molecúla (molecule_chembl_id) sobre una encima (Acetylcholinesterase)\n",
    "- La bioactividad se medirá en este caso con el IC50 (standard_value)\n",
    "- A menor IC50, menos droga para generar la misma actividad, es decir, mayor actividad relativa\n",
    "- La notación de la fórmula química se llama smiles (https://en.wikipedia.org/wiki/Simplified_molecular-input_line-entry_system)\n",
    "- Existen distintas técnicas para obtener features de las moléculas y en el video se describen 2:\n",
    "    - Descriptores de Lipinski\n",
    "    - Fingerprints del tipo pubchem\n",
    "- Se construye un modelo de regresión con RandomForest para estimar el pI50 (IC50 en escala logarítimica) dado los fingerprints de entrada"
   ]
  },
  {
   "cell_type": "markdown",
   "id": "1da95879-3221-4d3c-9815-2cc16d6f65b7",
   "metadata": {},
   "source": [
    "### Objetivos del proyecto:\n",
    "- Evaluar distintas alternativas de modelos de deep learning para resolver este problema\n",
    "    - LSTM\n",
    "    - CNN\n",
    "    - TextCNN\n",
    "- Mejorar la métrica del RandomForest\n",
    "- En vez de ingresar con los features de entrada (fingerprints) como en el video, utilizar técnicas de embeddings usuales en NLP\n",
    "    - Tokenización en modo caracter dado el smiles de la fórmula química\n",
    "    - Utilizando un tokenizer sobre los smiles\n",
    "    - Puedo usar técnicas modernas de tokenización (https://deepchem.readthedocs.io/en/2.4.0/api_reference/tokenizers.html)\n",
    "- La salida a estimar por el modelo será el pIC50\n",
    "- La métrica, para comparar con los resultados del RandomForest será el $R^2$"
   ]
  },
  {
   "cell_type": "markdown",
   "id": "d621c55a-a01c-48c7-b6df-cf64f12b6835",
   "metadata": {},
   "source": [
    "### Librerías:\n",
    "- chembl-webresource-client: Para bajar el dataset (https://pypi.org/project/chembl-webresource-client/)\n",
    "- deepchem: libería muy interesante con muchas implementaciones de deep learning aplicadas a la química (https://github.com/deepchem/deepchem)"
   ]
  },
  {
   "cell_type": "code",
   "execution_count": 27,
   "id": "80ccdc33-30b0-4266-8703-080ad56dce22",
   "metadata": {},
   "outputs": [],
   "source": [
    "import pandas as pd\n",
    "from chembl_webresource_client.new_client import new_client"
   ]
  },
  {
   "cell_type": "markdown",
   "id": "9c5a7da0-e660-41c0-9000-e2ad86bc4a6a",
   "metadata": {},
   "source": [
    "# Cliente API\n",
    "\n",
    "En esta notebook solo se baja el dataset. No tiene que hacer nada más que ejecutarla y entenderla\n",
    "\n",
    "Librería para baja el dataset"
   ]
  },
  {
   "cell_type": "code",
   "execution_count": 28,
   "id": "996336bf-261f-47af-8fe6-4f1635acdea6",
   "metadata": {},
   "outputs": [],
   "source": [
    "target = new_client.target\n",
    "target_query = target.search('acetylcholinesterase')\n",
    "targets = pd.DataFrame.from_dict(target_query)"
   ]
  },
  {
   "cell_type": "code",
   "execution_count": 29,
   "id": "c9396382-0723-4e74-b290-8fa9b88e3daa",
   "metadata": {},
   "outputs": [
    {
     "data": {
      "text/plain": [
       "array(['Acetylcholinesterase', 'Cholinesterases; ACHE & BCHE', 'AChE2',\n",
       "       'Ace-orthologous acetylcholinesterase',\n",
       "       'Acetylcholinesterase and butyrylcholinesterase (AChE and BChE)',\n",
       "       'Acetylcholinesterase 1'], dtype=object)"
      ]
     },
     "execution_count": 29,
     "metadata": {},
     "output_type": "execute_result"
    }
   ],
   "source": [
    "targets.pref_name.unique()"
   ]
  },
  {
   "cell_type": "code",
   "execution_count": 30,
   "id": "80c0c43c-b00c-4f82-b52f-1b5df6d04e59",
   "metadata": {},
   "outputs": [
    {
     "data": {
      "text/plain": [
       "'CHEMBL220'"
      ]
     },
     "execution_count": 30,
     "metadata": {},
     "output_type": "execute_result"
    }
   ],
   "source": [
    "selected_target = targets.target_chembl_id[0]\n",
    "selected_target\n",
    "# 'CHEMBL220'"
   ]
  },
  {
   "cell_type": "code",
   "execution_count": 31,
   "id": "5f5d536c-1268-4ef5-9eff-73492f24fbec",
   "metadata": {},
   "outputs": [],
   "source": [
    "activity = new_client.activity\n",
    "res = activity.filter(target_chembl_id=selected_target).filter(standard_type=\"IC50\")"
   ]
  },
  {
   "cell_type": "markdown",
   "id": "51107422-8cb2-4b77-bab5-eb2495e1a814",
   "metadata": {},
   "source": [
    "# Bajada de data\n",
    "Puede tardar un poco dependiendo de que tan saturado este el server\n",
    "\n",
    "Por eso el for, para ver el progreso y bajar la ansiedad. Son en el orden de 7500K"
   ]
  },
  {
   "cell_type": "code",
   "execution_count": 7,
   "id": "1afbf1a9-a4c9-4aec-8255-63948e667b3c",
   "metadata": {},
   "outputs": [
    {
     "name": "stdout",
     "output_type": "stream",
     "text": [
      "8831\r"
     ]
    }
   ],
   "source": [
    "res_cols = []\n",
    "\n",
    "for i, r in enumerate(res):\n",
    "    print(f'{i}\\r', end='')\n",
    "    res_cols.append(r)"
   ]
  },
  {
   "cell_type": "code",
   "execution_count": 8,
   "id": "e8f48b84-3f49-42e7-9973-30e9abb55641",
   "metadata": {},
   "outputs": [],
   "source": [
    "df = pd.DataFrame(res_cols)"
   ]
  },
  {
   "cell_type": "code",
   "execution_count": 9,
   "id": "e33ba495-9f3b-4bad-9639-a4496c7e2eef",
   "metadata": {},
   "outputs": [
    {
     "data": {
      "text/plain": [
       "0         0.75\n",
       "1         0.10\n",
       "2        50.00\n",
       "3         0.30\n",
       "4         0.80\n",
       "         ...  \n",
       "8827    274.00\n",
       "8828     76.20\n",
       "8829     55.00\n",
       "8830      1.18\n",
       "8831      5.40\n",
       "Name: value, Length: 8832, dtype: float64"
      ]
     },
     "execution_count": 9,
     "metadata": {},
     "output_type": "execute_result"
    }
   ],
   "source": [
    "df.value.astype(float)"
   ]
  },
  {
   "cell_type": "markdown",
   "id": "be1247ba-95c4-4a0d-951d-f9ce7b531be4",
   "metadata": {},
   "source": [
    "# Limpio data"
   ]
  },
  {
   "cell_type": "code",
   "execution_count": 10,
   "id": "0be90440-645e-49c7-9571-eafb81238e7d",
   "metadata": {},
   "outputs": [],
   "source": [
    "df = df.dropna(subset=['standard_value', 'canonical_smiles'])\n",
    "df = df.drop_duplicates(['canonical_smiles'])"
   ]
  },
  {
   "cell_type": "code",
   "execution_count": 11,
   "id": "90e52e55-fcab-4bcd-9c57-f3f091e2b19b",
   "metadata": {},
   "outputs": [],
   "source": [
    "selection = ['molecule_chembl_id','canonical_smiles','standard_value']\n",
    "df = df[selection]"
   ]
  },
  {
   "cell_type": "code",
   "execution_count": 12,
   "id": "0b2290f4-aaf2-456a-8f8a-0a47fc61eab6",
   "metadata": {},
   "outputs": [
    {
     "data": {
      "text/html": [
       "<div>\n",
       "<style scoped>\n",
       "    .dataframe tbody tr th:only-of-type {\n",
       "        vertical-align: middle;\n",
       "    }\n",
       "\n",
       "    .dataframe tbody tr th {\n",
       "        vertical-align: top;\n",
       "    }\n",
       "\n",
       "    .dataframe thead th {\n",
       "        text-align: right;\n",
       "    }\n",
       "</style>\n",
       "<table border=\"1\" class=\"dataframe\">\n",
       "  <thead>\n",
       "    <tr style=\"text-align: right;\">\n",
       "      <th></th>\n",
       "      <th>molecule_chembl_id</th>\n",
       "      <th>canonical_smiles</th>\n",
       "      <th>standard_value</th>\n",
       "    </tr>\n",
       "  </thead>\n",
       "  <tbody>\n",
       "    <tr>\n",
       "      <th>0</th>\n",
       "      <td>CHEMBL133897</td>\n",
       "      <td>CCOc1nn(-c2cccc(OCc3ccccc3)c2)c(=O)o1</td>\n",
       "      <td>750.0</td>\n",
       "    </tr>\n",
       "    <tr>\n",
       "      <th>1</th>\n",
       "      <td>CHEMBL336398</td>\n",
       "      <td>O=C(N1CCCCC1)n1nc(-c2ccc(Cl)cc2)nc1SCC1CC1</td>\n",
       "      <td>100.0</td>\n",
       "    </tr>\n",
       "    <tr>\n",
       "      <th>2</th>\n",
       "      <td>CHEMBL131588</td>\n",
       "      <td>CN(C(=O)n1nc(-c2ccc(Cl)cc2)nc1SCC(F)(F)F)c1ccccc1</td>\n",
       "      <td>50000.0</td>\n",
       "    </tr>\n",
       "    <tr>\n",
       "      <th>3</th>\n",
       "      <td>CHEMBL130628</td>\n",
       "      <td>O=C(N1CCCCC1)n1nc(-c2ccc(Cl)cc2)nc1SCC(F)(F)F</td>\n",
       "      <td>300.0</td>\n",
       "    </tr>\n",
       "    <tr>\n",
       "      <th>4</th>\n",
       "      <td>CHEMBL130478</td>\n",
       "      <td>CSc1nc(-c2ccc(OC(F)(F)F)cc2)nn1C(=O)N(C)C</td>\n",
       "      <td>800.0</td>\n",
       "    </tr>\n",
       "    <tr>\n",
       "      <th>...</th>\n",
       "      <td>...</td>\n",
       "      <td>...</td>\n",
       "      <td>...</td>\n",
       "    </tr>\n",
       "    <tr>\n",
       "      <th>8825</th>\n",
       "      <td>CHEMBL5219841</td>\n",
       "      <td>COc1cccc2c1CCCC2NS(=O)(=O)NC(=O)OCc1ccccc1</td>\n",
       "      <td>0.209</td>\n",
       "    </tr>\n",
       "    <tr>\n",
       "      <th>8827</th>\n",
       "      <td>CHEMBL5219046</td>\n",
       "      <td>CC[C@@]1(c2cccc(OC(=O)Nc3ccccc3)c2)CCCCN(C)C1</td>\n",
       "      <td>274.0</td>\n",
       "    </tr>\n",
       "    <tr>\n",
       "      <th>8828</th>\n",
       "      <td>CHEMBL5219594</td>\n",
       "      <td>O=c1[nH]c2ccc(OCc3ccc(F)cc3)cc2c(=O)o1</td>\n",
       "      <td>76200.0</td>\n",
       "    </tr>\n",
       "    <tr>\n",
       "      <th>8829</th>\n",
       "      <td>CHEMBL5219958</td>\n",
       "      <td>CC(C)c1ccc(COc2ccc3[nH]c(=O)oc(=O)c3c2)cc1</td>\n",
       "      <td>55000.0</td>\n",
       "    </tr>\n",
       "    <tr>\n",
       "      <th>8831</th>\n",
       "      <td>CHEMBL5220884</td>\n",
       "      <td>Cn1ccc2cc(-c3cnc4ccc(C(=O)N5CCCCC5)cc4n3)ccc2c1=O</td>\n",
       "      <td>5400.0</td>\n",
       "    </tr>\n",
       "  </tbody>\n",
       "</table>\n",
       "<p>6157 rows × 3 columns</p>\n",
       "</div>"
      ],
      "text/plain": [
       "     molecule_chembl_id                                   canonical_smiles  \\\n",
       "0          CHEMBL133897              CCOc1nn(-c2cccc(OCc3ccccc3)c2)c(=O)o1   \n",
       "1          CHEMBL336398         O=C(N1CCCCC1)n1nc(-c2ccc(Cl)cc2)nc1SCC1CC1   \n",
       "2          CHEMBL131588  CN(C(=O)n1nc(-c2ccc(Cl)cc2)nc1SCC(F)(F)F)c1ccccc1   \n",
       "3          CHEMBL130628      O=C(N1CCCCC1)n1nc(-c2ccc(Cl)cc2)nc1SCC(F)(F)F   \n",
       "4          CHEMBL130478          CSc1nc(-c2ccc(OC(F)(F)F)cc2)nn1C(=O)N(C)C   \n",
       "...                 ...                                                ...   \n",
       "8825      CHEMBL5219841         COc1cccc2c1CCCC2NS(=O)(=O)NC(=O)OCc1ccccc1   \n",
       "8827      CHEMBL5219046      CC[C@@]1(c2cccc(OC(=O)Nc3ccccc3)c2)CCCCN(C)C1   \n",
       "8828      CHEMBL5219594             O=c1[nH]c2ccc(OCc3ccc(F)cc3)cc2c(=O)o1   \n",
       "8829      CHEMBL5219958         CC(C)c1ccc(COc2ccc3[nH]c(=O)oc(=O)c3c2)cc1   \n",
       "8831      CHEMBL5220884  Cn1ccc2cc(-c3cnc4ccc(C(=O)N5CCCCC5)cc4n3)ccc2c1=O   \n",
       "\n",
       "     standard_value  \n",
       "0             750.0  \n",
       "1             100.0  \n",
       "2           50000.0  \n",
       "3             300.0  \n",
       "4             800.0  \n",
       "...             ...  \n",
       "8825          0.209  \n",
       "8827          274.0  \n",
       "8828        76200.0  \n",
       "8829        55000.0  \n",
       "8831         5400.0  \n",
       "\n",
       "[6157 rows x 3 columns]"
      ]
     },
     "execution_count": 12,
     "metadata": {},
     "output_type": "execute_result"
    }
   ],
   "source": [
    "df"
   ]
  },
  {
   "cell_type": "markdown",
   "id": "a0e5d88c-277a-4ab2-a13b-851da0efef62",
   "metadata": {},
   "source": [
    "# Preprocesamiento y normalización"
   ]
  },
  {
   "cell_type": "code",
   "execution_count": 13,
   "id": "feaadbcf-f2c5-4deb-a67f-26c41bfd1baa",
   "metadata": {},
   "outputs": [],
   "source": [
    "import numpy as np"
   ]
  },
  {
   "cell_type": "code",
   "execution_count": 14,
   "id": "32fdc9c0-accd-4212-927c-6389be9260a9",
   "metadata": {},
   "outputs": [],
   "source": [
    "df['standard_value'] = df['standard_value'].apply(pd.to_numeric)"
   ]
  },
  {
   "cell_type": "code",
   "execution_count": 15,
   "id": "766e46cf-5e59-4a7b-806e-9a869744fbe2",
   "metadata": {},
   "outputs": [],
   "source": [
    "# En el video se hace esta normalización. No la veo del todo necesaria\n",
    "df['standard_value_norm'] = df['standard_value'].apply(lambda x: (x>1e8)*1e8 + (x<=1e8)*x)"
   ]
  },
  {
   "cell_type": "code",
   "execution_count": 16,
   "id": "e33acf0a-7260-42ec-832f-473e339df2e0",
   "metadata": {},
   "outputs": [],
   "source": [
    "df['pIC50'] = df['standard_value'].apply(lambda x: -np.log10(x*(10**-9)))"
   ]
  },
  {
   "cell_type": "code",
   "execution_count": 17,
   "id": "987515af-fb28-46f0-a752-91ff88cd0224",
   "metadata": {},
   "outputs": [
    {
     "data": {
      "text/html": [
       "<div>\n",
       "<style scoped>\n",
       "    .dataframe tbody tr th:only-of-type {\n",
       "        vertical-align: middle;\n",
       "    }\n",
       "\n",
       "    .dataframe tbody tr th {\n",
       "        vertical-align: top;\n",
       "    }\n",
       "\n",
       "    .dataframe thead th {\n",
       "        text-align: right;\n",
       "    }\n",
       "</style>\n",
       "<table border=\"1\" class=\"dataframe\">\n",
       "  <thead>\n",
       "    <tr style=\"text-align: right;\">\n",
       "      <th></th>\n",
       "      <th>molecule_chembl_id</th>\n",
       "      <th>canonical_smiles</th>\n",
       "      <th>standard_value</th>\n",
       "      <th>standard_value_norm</th>\n",
       "      <th>pIC50</th>\n",
       "    </tr>\n",
       "  </thead>\n",
       "  <tbody>\n",
       "    <tr>\n",
       "      <th>0</th>\n",
       "      <td>CHEMBL133897</td>\n",
       "      <td>CCOc1nn(-c2cccc(OCc3ccccc3)c2)c(=O)o1</td>\n",
       "      <td>750.000</td>\n",
       "      <td>750.000</td>\n",
       "      <td>6.124939</td>\n",
       "    </tr>\n",
       "    <tr>\n",
       "      <th>1</th>\n",
       "      <td>CHEMBL336398</td>\n",
       "      <td>O=C(N1CCCCC1)n1nc(-c2ccc(Cl)cc2)nc1SCC1CC1</td>\n",
       "      <td>100.000</td>\n",
       "      <td>100.000</td>\n",
       "      <td>7.000000</td>\n",
       "    </tr>\n",
       "    <tr>\n",
       "      <th>2</th>\n",
       "      <td>CHEMBL131588</td>\n",
       "      <td>CN(C(=O)n1nc(-c2ccc(Cl)cc2)nc1SCC(F)(F)F)c1ccccc1</td>\n",
       "      <td>50000.000</td>\n",
       "      <td>50000.000</td>\n",
       "      <td>4.301030</td>\n",
       "    </tr>\n",
       "    <tr>\n",
       "      <th>3</th>\n",
       "      <td>CHEMBL130628</td>\n",
       "      <td>O=C(N1CCCCC1)n1nc(-c2ccc(Cl)cc2)nc1SCC(F)(F)F</td>\n",
       "      <td>300.000</td>\n",
       "      <td>300.000</td>\n",
       "      <td>6.522879</td>\n",
       "    </tr>\n",
       "    <tr>\n",
       "      <th>4</th>\n",
       "      <td>CHEMBL130478</td>\n",
       "      <td>CSc1nc(-c2ccc(OC(F)(F)F)cc2)nn1C(=O)N(C)C</td>\n",
       "      <td>800.000</td>\n",
       "      <td>800.000</td>\n",
       "      <td>6.096910</td>\n",
       "    </tr>\n",
       "    <tr>\n",
       "      <th>...</th>\n",
       "      <td>...</td>\n",
       "      <td>...</td>\n",
       "      <td>...</td>\n",
       "      <td>...</td>\n",
       "      <td>...</td>\n",
       "    </tr>\n",
       "    <tr>\n",
       "      <th>8825</th>\n",
       "      <td>CHEMBL5219841</td>\n",
       "      <td>COc1cccc2c1CCCC2NS(=O)(=O)NC(=O)OCc1ccccc1</td>\n",
       "      <td>0.209</td>\n",
       "      <td>0.209</td>\n",
       "      <td>9.679854</td>\n",
       "    </tr>\n",
       "    <tr>\n",
       "      <th>8827</th>\n",
       "      <td>CHEMBL5219046</td>\n",
       "      <td>CC[C@@]1(c2cccc(OC(=O)Nc3ccccc3)c2)CCCCN(C)C1</td>\n",
       "      <td>274.000</td>\n",
       "      <td>274.000</td>\n",
       "      <td>6.562249</td>\n",
       "    </tr>\n",
       "    <tr>\n",
       "      <th>8828</th>\n",
       "      <td>CHEMBL5219594</td>\n",
       "      <td>O=c1[nH]c2ccc(OCc3ccc(F)cc3)cc2c(=O)o1</td>\n",
       "      <td>76200.000</td>\n",
       "      <td>76200.000</td>\n",
       "      <td>4.118045</td>\n",
       "    </tr>\n",
       "    <tr>\n",
       "      <th>8829</th>\n",
       "      <td>CHEMBL5219958</td>\n",
       "      <td>CC(C)c1ccc(COc2ccc3[nH]c(=O)oc(=O)c3c2)cc1</td>\n",
       "      <td>55000.000</td>\n",
       "      <td>55000.000</td>\n",
       "      <td>4.259637</td>\n",
       "    </tr>\n",
       "    <tr>\n",
       "      <th>8831</th>\n",
       "      <td>CHEMBL5220884</td>\n",
       "      <td>Cn1ccc2cc(-c3cnc4ccc(C(=O)N5CCCCC5)cc4n3)ccc2c1=O</td>\n",
       "      <td>5400.000</td>\n",
       "      <td>5400.000</td>\n",
       "      <td>5.267606</td>\n",
       "    </tr>\n",
       "  </tbody>\n",
       "</table>\n",
       "<p>6157 rows × 5 columns</p>\n",
       "</div>"
      ],
      "text/plain": [
       "     molecule_chembl_id                                   canonical_smiles  \\\n",
       "0          CHEMBL133897              CCOc1nn(-c2cccc(OCc3ccccc3)c2)c(=O)o1   \n",
       "1          CHEMBL336398         O=C(N1CCCCC1)n1nc(-c2ccc(Cl)cc2)nc1SCC1CC1   \n",
       "2          CHEMBL131588  CN(C(=O)n1nc(-c2ccc(Cl)cc2)nc1SCC(F)(F)F)c1ccccc1   \n",
       "3          CHEMBL130628      O=C(N1CCCCC1)n1nc(-c2ccc(Cl)cc2)nc1SCC(F)(F)F   \n",
       "4          CHEMBL130478          CSc1nc(-c2ccc(OC(F)(F)F)cc2)nn1C(=O)N(C)C   \n",
       "...                 ...                                                ...   \n",
       "8825      CHEMBL5219841         COc1cccc2c1CCCC2NS(=O)(=O)NC(=O)OCc1ccccc1   \n",
       "8827      CHEMBL5219046      CC[C@@]1(c2cccc(OC(=O)Nc3ccccc3)c2)CCCCN(C)C1   \n",
       "8828      CHEMBL5219594             O=c1[nH]c2ccc(OCc3ccc(F)cc3)cc2c(=O)o1   \n",
       "8829      CHEMBL5219958         CC(C)c1ccc(COc2ccc3[nH]c(=O)oc(=O)c3c2)cc1   \n",
       "8831      CHEMBL5220884  Cn1ccc2cc(-c3cnc4ccc(C(=O)N5CCCCC5)cc4n3)ccc2c1=O   \n",
       "\n",
       "      standard_value  standard_value_norm     pIC50  \n",
       "0            750.000              750.000  6.124939  \n",
       "1            100.000              100.000  7.000000  \n",
       "2          50000.000            50000.000  4.301030  \n",
       "3            300.000              300.000  6.522879  \n",
       "4            800.000              800.000  6.096910  \n",
       "...              ...                  ...       ...  \n",
       "8825           0.209                0.209  9.679854  \n",
       "8827         274.000              274.000  6.562249  \n",
       "8828       76200.000            76200.000  4.118045  \n",
       "8829       55000.000            55000.000  4.259637  \n",
       "8831        5400.000             5400.000  5.267606  \n",
       "\n",
       "[6157 rows x 5 columns]"
      ]
     },
     "execution_count": 17,
     "metadata": {},
     "output_type": "execute_result"
    }
   ],
   "source": [
    "df"
   ]
  },
  {
   "cell_type": "code",
   "execution_count": null,
   "id": "b63aa28c-e229-4989-91f0-7f8c3ee4584c",
   "metadata": {},
   "outputs": [],
   "source": [
    "! mkdir data"
   ]
  },
  {
   "cell_type": "code",
   "execution_count": 18,
   "id": "e5985ec3-c649-4ceb-a0c4-52d3f7e8664a",
   "metadata": {},
   "outputs": [],
   "source": [
    "df.to_csv('data/acetylcholinesterase_02_bioactivity_data_preprocessed.csv', index=False)"
   ]
  }
 ],
 "metadata": {
  "kernelspec": {
   "display_name": "work",
   "language": "python",
   "name": "work"
  },
  "language_info": {
   "codemirror_mode": {
    "name": "ipython",
    "version": 3
   },
   "file_extension": ".py",
   "mimetype": "text/x-python",
   "name": "python",
   "nbconvert_exporter": "python",
   "pygments_lexer": "ipython3",
   "version": "3.10.4"
  }
 },
 "nbformat": 4,
 "nbformat_minor": 5
}
