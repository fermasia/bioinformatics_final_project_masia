{
 "cells": [
  {
   "cell_type": "code",
   "execution_count": 1,
   "id": "21bee0a3-79a7-43b2-9ac2-15cad5630e22",
   "metadata": {},
   "outputs": [],
   "source": [
    "import pandas as pd\n",
    "import numpy as np"
   ]
  },
  {
   "cell_type": "markdown",
   "id": "08544474-e883-4105-bcc3-9f3f9f014079",
   "metadata": {},
   "source": [
    "# Modelo Recurrentes con Embeddings a nivel de caracter"
   ]
  },
  {
   "cell_type": "code",
   "execution_count": 2,
   "id": "353a2d75-f0f4-4563-9842-c68d77118161",
   "metadata": {},
   "outputs": [],
   "source": [
    "df = pd.read_csv('data/acetylcholinesterase_02_bioactivity_data_preprocessed.csv')"
   ]
  },
  {
   "cell_type": "code",
   "execution_count": 3,
   "id": "d1554fa5-d9ee-456c-be20-80571e319fc6",
   "metadata": {},
   "outputs": [
    {
     "data": {
      "text/html": [
       "<div>\n",
       "<style scoped>\n",
       "    .dataframe tbody tr th:only-of-type {\n",
       "        vertical-align: middle;\n",
       "    }\n",
       "\n",
       "    .dataframe tbody tr th {\n",
       "        vertical-align: top;\n",
       "    }\n",
       "\n",
       "    .dataframe thead th {\n",
       "        text-align: right;\n",
       "    }\n",
       "</style>\n",
       "<table border=\"1\" class=\"dataframe\">\n",
       "  <thead>\n",
       "    <tr style=\"text-align: right;\">\n",
       "      <th></th>\n",
       "      <th>molecule_chembl_id</th>\n",
       "      <th>canonical_smiles</th>\n",
       "      <th>standard_value</th>\n",
       "      <th>standard_value_norm</th>\n",
       "      <th>pIC50</th>\n",
       "    </tr>\n",
       "  </thead>\n",
       "  <tbody>\n",
       "    <tr>\n",
       "      <th>0</th>\n",
       "      <td>CHEMBL133897</td>\n",
       "      <td>CCOc1nn(-c2cccc(OCc3ccccc3)c2)c(=O)o1</td>\n",
       "      <td>750.0</td>\n",
       "      <td>750.0</td>\n",
       "      <td>6.124939</td>\n",
       "    </tr>\n",
       "    <tr>\n",
       "      <th>1</th>\n",
       "      <td>CHEMBL336398</td>\n",
       "      <td>O=C(N1CCCCC1)n1nc(-c2ccc(Cl)cc2)nc1SCC1CC1</td>\n",
       "      <td>100.0</td>\n",
       "      <td>100.0</td>\n",
       "      <td>7.000000</td>\n",
       "    </tr>\n",
       "    <tr>\n",
       "      <th>2</th>\n",
       "      <td>CHEMBL131588</td>\n",
       "      <td>CN(C(=O)n1nc(-c2ccc(Cl)cc2)nc1SCC(F)(F)F)c1ccccc1</td>\n",
       "      <td>50000.0</td>\n",
       "      <td>50000.0</td>\n",
       "      <td>4.301030</td>\n",
       "    </tr>\n",
       "    <tr>\n",
       "      <th>3</th>\n",
       "      <td>CHEMBL130628</td>\n",
       "      <td>O=C(N1CCCCC1)n1nc(-c2ccc(Cl)cc2)nc1SCC(F)(F)F</td>\n",
       "      <td>300.0</td>\n",
       "      <td>300.0</td>\n",
       "      <td>6.522879</td>\n",
       "    </tr>\n",
       "    <tr>\n",
       "      <th>4</th>\n",
       "      <td>CHEMBL130478</td>\n",
       "      <td>CSc1nc(-c2ccc(OC(F)(F)F)cc2)nn1C(=O)N(C)C</td>\n",
       "      <td>800.0</td>\n",
       "      <td>800.0</td>\n",
       "      <td>6.096910</td>\n",
       "    </tr>\n",
       "  </tbody>\n",
       "</table>\n",
       "</div>"
      ],
      "text/plain": [
       "  molecule_chembl_id                                   canonical_smiles  \\\n",
       "0       CHEMBL133897              CCOc1nn(-c2cccc(OCc3ccccc3)c2)c(=O)o1   \n",
       "1       CHEMBL336398         O=C(N1CCCCC1)n1nc(-c2ccc(Cl)cc2)nc1SCC1CC1   \n",
       "2       CHEMBL131588  CN(C(=O)n1nc(-c2ccc(Cl)cc2)nc1SCC(F)(F)F)c1ccccc1   \n",
       "3       CHEMBL130628      O=C(N1CCCCC1)n1nc(-c2ccc(Cl)cc2)nc1SCC(F)(F)F   \n",
       "4       CHEMBL130478          CSc1nc(-c2ccc(OC(F)(F)F)cc2)nn1C(=O)N(C)C   \n",
       "\n",
       "   standard_value  standard_value_norm     pIC50  \n",
       "0           750.0                750.0  6.124939  \n",
       "1           100.0                100.0  7.000000  \n",
       "2         50000.0              50000.0  4.301030  \n",
       "3           300.0                300.0  6.522879  \n",
       "4           800.0                800.0  6.096910  "
      ]
     },
     "execution_count": 3,
     "metadata": {},
     "output_type": "execute_result"
    }
   ],
   "source": [
    "df.head()"
   ]
  },
  {
   "cell_type": "markdown",
   "id": "2985df76-23b9-45a8-83ed-ce8ae510219f",
   "metadata": {},
   "source": [
    "# Canonical_smiles To secuence"
   ]
  },
  {
   "cell_type": "code",
   "execution_count": 4,
   "id": "87e524d2-e7e9-4d3b-b1f1-b62254a0bc66",
   "metadata": {},
   "outputs": [
    {
     "name": "stderr",
     "output_type": "stream",
     "text": [
      "2023-08-31 00:20:21.920700: I tensorflow/core/util/port.cc:110] oneDNN custom operations are on. You may see slightly different numerical results due to floating-point round-off errors from different computation orders. To turn them off, set the environment variable `TF_ENABLE_ONEDNN_OPTS=0`.\n",
      "2023-08-31 00:20:21.933485: I tensorflow/tsl/cuda/cudart_stub.cc:28] Could not find cuda drivers on your machine, GPU will not be used.\n",
      "2023-08-31 00:20:22.445940: I tensorflow/tsl/cuda/cudart_stub.cc:28] Could not find cuda drivers on your machine, GPU will not be used.\n",
      "2023-08-31 00:20:22.456261: I tensorflow/core/platform/cpu_feature_guard.cc:182] This TensorFlow binary is optimized to use available CPU instructions in performance-critical operations.\n",
      "To enable the following instructions: AVX2 AVX512F AVX512_VNNI FMA, in other operations, rebuild TensorFlow with the appropriate compiler flags.\n",
      "2023-08-31 00:20:26.507185: W tensorflow/compiler/tf2tensorrt/utils/py_utils.cc:38] TF-TRT Warning: Could not find TensorRT\n"
     ]
    }
   ],
   "source": [
    "from tensorflow.keras.preprocessing.text import Tokenizer\n",
    "from tensorflow.keras.preprocessing.sequence import pad_sequences"
   ]
  },
  {
   "cell_type": "markdown",
   "id": "b524afd5-79ed-433d-827b-ac04510ae8ad",
   "metadata": {},
   "source": [
    "Utilizando Tokenizer y pad_sequences de keras a nivel de caracter, obtener la entrada tokenizada. Por ejemplo:\n",
    "\n",
    "**El smiles**:\n",
    "\n",
    "'C[C@@]12CC[C@H]3[C@]4(C)CCC[C@@]5(C)C(=O)OCC[N+](C)(C)CCCCCCCCC[N+](C)(C)CCOC(=O)[C@]6(C)CCC[C@]7(C)[C@@H]6CC[C@@]68C[C@@H](OC(=O)CCCCCCCCC(=O)O[C@@H]1C[C@@]3(CC[C@@H]45)C2)[C@@](C)(CC[C@@H]76)C8.[Br-].[Br-]'\n",
    "\n",
    "**Tendría que quedar algo asi (puede que no sea exacto):**\n",
    "\n",
    "array([ 2, 11,  2, 13, 13, 12,  5,  7,  2,  2, 11,  2, 13, 16, 12, 10, 11,\n",
    "        2, 13, 12, 15,  3,  2,  4,  2,  2,  2, 11,  2, 13, 13, 12, 23,  3,\n",
    "        2,  4,  2,  3,  9,  6,  4,  6,  2,  2, 11,  8, 21, 12,  3,  2,  4,\n",
    "        3,  2,  4,  2,  2,  2,  2,  2,  2,  2,  2,  2, 11,  8, 21, 12,  3,\n",
    "        2,  4,  3,  2,  4,  2,  2,  6,  2,  3,  9,  6,  4, 11,  2, 13, 12,\n",
    "       30,  3,  2,  4,  2,  2,  2, 11,  2, 13, 12, 35,  3,  2,  4, 11,  2,\n",
    "       13, 13, 16, 12, 30,  2,  2, 11,  2, 13, 13, 12, 30, 36,  2, 11,  2,\n",
    "       13, 13, 16, 12,  3,  6,  2,  3,  9,  6,  4,  2,  2,  2,  2,  2,  2,\n",
    "        2,  2,  2,  3,  9,  6,  4,  6, 11,  2, 13, 13, 16, 12,  5,  2, 11,\n",
    "        2, 13, 13, 12, 10,  3,  2,  2, 11,  2, 13, 13, 16, 12, 15, 23,  4,\n",
    "        2,  7,  4, 11,  2, 13, 13, 12,  3,  2,  4,  3,  2,  2, 11,  2, 13,\n",
    "       13, 16, 12, 35, 30,  4,  2, 36, 20, 11, 25, 26, 17, 12, 20, 11, 25,\n",
    "       26, 17, 12], dtype=int32)\n",
    "       \n",
    "\n",
    "**Otro ejemplo:**\n",
    "smiles: 'NC(=O)O'\n",
    "\n",
    "array([0, 0, 0, 0, 0, 0, 0, 0, 0, 0, 0, 0, 0, 0, 0, 0, 0, 0, 0, 0, 0, 0,\n",
    "       0, 0, 0, 0, 0, 0, 0, 0, 0, 0, 0, 0, 0, 0, 0, 0, 0, 0, 0, 0, 0, 0,\n",
    "       0, 0, 0, 0, 0, 0, 0, 0, 0, 0, 0, 0, 0, 0, 0, 0, 0, 0, 0, 0, 0, 0,\n",
    "       0, 0, 0, 0, 0, 0, 0, 0, 0, 0, 0, 0, 0, 0, 0, 0, 0, 0, 0, 0, 0, 0,\n",
    "       0, 0, 0, 0, 0, 0, 0, 0, 0, 0, 0, 0, 0, 0, 0, 0, 0, 0, 0, 0, 0, 0,\n",
    "       0, 0, 0, 0, 0, 0, 0, 0, 0, 0, 0, 0, 0, 0, 0, 0, 0, 0, 0, 0, 0, 0,\n",
    "       0, 0, 0, 0, 0, 0, 0, 0, 0, 0, 0, 0, 0, 0, 0, 0, 0, 0, 0, 0, 0, 0,\n",
    "       0, 0, 0, 0, 0, 0, 0, 0, 0, 0, 0, 0, 0, 0, 0, 0, 0, 0, 0, 0, 0, 0,\n",
    "       0, 0, 0, 0, 0, 0, 0, 0, 0, 0, 0, 0, 0, 0, 0, 0, 0, 0, 0, 0, 0, 0,\n",
    "       0, 0, 8, 2, 3, 9, 6, 4, 6], dtype=int32)\n",
    "\n",
    "**Tener en cuenta:**\n",
    "\n",
    "- Ver cuanta es la máxima longitud para agregar el padding correspondiente\n",
    "- En el ejemplo se agrego padding a la izquierda"
   ]
  },
  {
   "cell_type": "code",
   "execution_count": 5,
   "id": "07f8fff5-c1f6-48d6-9e19-ee5defde20b1",
   "metadata": {},
   "outputs": [],
   "source": [
    "max_len_idx = df['canonical_smiles'].apply(len).argmax()\n",
    "min_len_idx = df['canonical_smiles'].apply(len).argmin()"
   ]
  },
  {
   "cell_type": "code",
   "execution_count": 6,
   "id": "6a21da0d-f5cd-4c5f-a95c-94b9a1c9c359",
   "metadata": {},
   "outputs": [],
   "source": [
    "min_sequence_length = df['canonical_smiles'].apply(len).min()\n",
    "max_sequence_length = df['canonical_smiles'].apply(len).max()"
   ]
  },
  {
   "cell_type": "code",
   "execution_count": 11,
   "id": "c9eaa10c-da25-4386-b332-ca86528c7341",
   "metadata": {},
   "outputs": [
    {
     "data": {
      "text/plain": [
       "204"
      ]
     },
     "execution_count": 11,
     "metadata": {},
     "output_type": "execute_result"
    }
   ],
   "source": [
    "max_sequence_length"
   ]
  },
  {
   "cell_type": "code",
   "execution_count": 7,
   "id": "703325ab-0193-4bf5-9b66-a880d7bc346b",
   "metadata": {},
   "outputs": [],
   "source": [
    "X = df['canonical_smiles']\n",
    "y = df['pIC50']"
   ]
  },
  {
   "cell_type": "code",
   "execution_count": 8,
   "id": "09894d86-4408-469c-b1f9-60f6d7218b5c",
   "metadata": {},
   "outputs": [],
   "source": [
    "# Implementar tokenización y guardar en X_seq_pad el dataset tokenizado"
   ]
  },
  {
   "cell_type": "code",
   "execution_count": 10,
   "id": "5028a561-00e6-4462-81dd-c1f25e44cd1f",
   "metadata": {},
   "outputs": [],
   "source": [
    "import tensorflow as tf\n",
    "from tensorflow.keras.preprocessing.text import Tokenizer\n",
    "from tensorflow.keras.preprocessing.sequence import pad_sequences\n",
    "\n",
    "# Extract canonical smiles from the DataFrame\n",
    "canonical_smiles = X.tolist()\n",
    "\n",
    "# Initialize the Tokenizer\n",
    "tokenizer = Tokenizer(char_level=True)\n",
    "\n",
    "# Fit the tokenizer on the canonical smiles\n",
    "tokenizer.fit_on_texts(canonical_smiles)\n",
    "\n",
    "# Tokenize and pad the canonical smiles sequences\n",
    "canonical_smiles_tokenized = tokenizer.texts_to_sequences(canonical_smiles)\n",
    "max_sequence_length = max(map(len, canonical_smiles_tokenized))\n",
    "canonical_smiles_padded = pad_sequences(canonical_smiles_tokenized, \n",
    "                                        maxlen=max_sequence_length)\n",
    "\n",
    "# Convert padded sequences to a numpy array\n",
    "X_seq_pad = np.array(canonical_smiles_padded)"
   ]
  },
  {
   "cell_type": "code",
   "execution_count": null,
   "id": "9233351c-7a53-464c-beaf-89d043cd8719",
   "metadata": {},
   "outputs": [
    {
     "data": {
      "text/plain": [
       "204"
      ]
     },
     "execution_count": 13,
     "metadata": {},
     "output_type": "execute_result"
    }
   ],
   "source": [
    "X_seq_pad.shape[1]"
   ]
  },
  {
   "cell_type": "code",
   "execution_count": null,
   "id": "a9b3f66e-8ee9-4d05-8835-39645fd68920",
   "metadata": {},
   "outputs": [],
   "source": [
    "# Find rows with inf values\n",
    "rows_with_inf = np.any(np.isinf(X_seq_pad), axis=1)\n",
    "\n",
    "# Remove rows with inf values\n",
    "X_seq_pad = X_seq_pad[~rows_with_inf]\n",
    "\n",
    "X_seq_pad.shape"
   ]
  },
  {
   "cell_type": "code",
   "execution_count": 98,
   "id": "8557166f-c696-48d7-9764-7414f62fbe27",
   "metadata": {},
   "outputs": [
    {
     "data": {
      "text/plain": [
       "array([ 8,  1,  5,  1,  7,  1,  3, 13,  1, 10,  1,  5,  2,  2,  2,  2, 10,\n",
       "        4,  2,  2,  2,  2,  7,  0,  0,  0,  0,  0,  0,  0,  0,  0,  0,  0,\n",
       "        0,  0,  0,  0,  0,  0,  0,  0,  0,  0,  0,  0,  0,  0,  0,  0,  0,\n",
       "        0,  0,  0,  0,  0,  0,  0,  0,  0,  0,  0,  0,  0,  0,  0,  0,  0,\n",
       "        0,  0,  0,  0,  0,  0,  0,  0,  0,  0,  0,  0,  0,  0,  0,  0,  0,\n",
       "        0,  0,  0,  0,  0,  0,  0,  0,  0,  0,  0,  0,  0,  0,  0,  0,  0,\n",
       "        0,  0,  0,  0,  0,  0,  0,  0,  0,  0,  0,  0,  0,  0,  0,  0,  0,\n",
       "        0,  0,  0,  0,  0,  0,  0,  0,  0,  0,  0,  0,  0,  0,  0,  0,  0,\n",
       "        0,  0,  0,  0,  0,  0,  0,  0,  0,  0,  0,  0,  0,  0,  0,  0,  0,\n",
       "        0,  0,  0,  0,  0,  0,  0,  0,  0,  0,  0,  0,  0,  0,  0,  0,  0,\n",
       "        0,  0,  0,  0,  0,  0,  0,  0,  0,  0,  0,  0,  0,  0,  0,  0,  0,\n",
       "        0,  0,  0,  0,  0,  0,  0,  0,  0,  0,  0,  0,  0,  0,  0,  0,  0],\n",
       "      dtype=int32)"
      ]
     },
     "execution_count": 98,
     "metadata": {},
     "output_type": "execute_result"
    }
   ],
   "source": [
    "X_seq_pad[200]"
   ]
  },
  {
   "cell_type": "markdown",
   "id": "4233710d-9274-4dae-b22d-cf42b57ad862",
   "metadata": {},
   "source": [
    "# Split"
   ]
  },
  {
   "cell_type": "code",
   "execution_count": 35,
   "id": "ce7a95e6-2486-42fb-97fb-865e3fd6a561",
   "metadata": {},
   "outputs": [],
   "source": [
    "from sklearn.model_selection import train_test_split"
   ]
  },
  {
   "cell_type": "code",
   "execution_count": 36,
   "id": "fcb9840f-2f41-45be-99a5-f05f3ab73ed8",
   "metadata": {},
   "outputs": [],
   "source": [
    "# Convert labels to a numpy array\n",
    "X_train, X_test, y_train, y_test = train_test_split(X_seq_pad, labels_array, test_size=0.2, random_state=999)\n",
    "X_train = np.delete(X_train,slice(4100,4150),axis=0)\n",
    "y_train = np.delete(y_train,slice(4100,4150),axis=0)"
   ]
  },
  {
   "cell_type": "code",
   "execution_count": 37,
   "id": "4ad17134-3e15-42d1-b8c9-0c793169e145",
   "metadata": {},
   "outputs": [
    {
     "data": {
      "text/plain": [
       "(4875, 4875, 1232, 1232)"
      ]
     },
     "execution_count": 37,
     "metadata": {},
     "output_type": "execute_result"
    }
   ],
   "source": [
    "len(X_train), len(y_train), len(X_test) , len(y_test)"
   ]
  },
  {
   "cell_type": "markdown",
   "id": "85941430-2534-4d7d-ba52-d934a31c1bf6",
   "metadata": {},
   "source": [
    "# Network Model"
   ]
  },
  {
   "cell_type": "code",
   "execution_count": 38,
   "id": "6bd5d1bf-4640-4cbc-acd3-72881ddcc07e",
   "metadata": {},
   "outputs": [],
   "source": [
    "from tensorflow.keras import Sequential\n",
    "from tensorflow.keras.layers import LSTM, Dense, Embedding, Bidirectional, Dropout, Activation, BatchNormalization\n",
    "from tensorflow.keras.callbacks import ModelCheckpoint\n",
    "from tensorflow.keras.optimizers import Adam, RMSprop\n",
    "from tensorflow.keras import backend as K"
   ]
  },
  {
   "cell_type": "code",
   "execution_count": 39,
   "id": "4bf115a2-9f1b-42b8-9b62-59728f1da977",
   "metadata": {},
   "outputs": [],
   "source": [
    "# Métrica\n",
    "def R2(y_true, y_pred):\n",
    "    SS_res =  K.sum(K.square( y_true-y_pred ))\n",
    "    SS_tot = K.sum(K.square( y_true - K.mean(y_true) ) )\n",
    "    return ( 1 - SS_res/(SS_tot + K.epsilon()) )"
   ]
  },
  {
   "cell_type": "code",
   "execution_count": 40,
   "id": "92d30b68-3110-459c-887d-a06f056d067b",
   "metadata": {},
   "outputs": [],
   "source": [
    "# vocab_size = # Completar largo del vocabulario\n",
    "vocab_size = len(list(tokenizer.word_index.keys()))"
   ]
  },
  {
   "cell_type": "code",
   "execution_count": 41,
   "id": "6166a72b-ccd1-459c-a3a1-fa43bf31a369",
   "metadata": {},
   "outputs": [],
   "source": [
    "max_sequence_len = len(max(X_seq_pad, key=len))"
   ]
  },
  {
   "cell_type": "markdown",
   "id": "cc91cd42-b885-4ab5-b348-57296b0c0d10",
   "metadata": {},
   "source": [
    "# Armar modelo en keras de LSTM\n",
    "El de abajo es un ejemplo propuesto pero puede armar otro similar (siempre con LSTM o GRU)"
   ]
  },
  {
   "cell_type": "raw",
   "id": "9883ed67-e2d9-412a-8f8b-1e463df69ed8",
   "metadata": {},
   "source": [
    "Model: \"sequential\"\n",
    "_________________________________________________________________\n",
    "Layer (type)                 Output Shape              Param #   \n",
    "=================================================================\n",
    "embedding (Embedding)        (None, 207, 64)           2496      \n",
    "_________________________________________________________________\n",
    "bidirectional (Bidirectional (None, 200)               132000    \n",
    "_________________________________________________________________\n",
    "dense (Dense)                (None, 50)                10050     \n",
    "_________________________________________________________________\n",
    "batch_normalization (BatchNo (None, 50)                200       \n",
    "_________________________________________________________________\n",
    "activation (Activation)      (None, 50)                0         \n",
    "_________________________________________________________________\n",
    "dense_1 (Dense)              (None, 1)                 51        \n",
    "=================================================================\n",
    "Total params: 144,797\n",
    "Trainable params: 144,697\n",
    "Non-trainable params: 100\n",
    "_________________________________________________________________"
   ]
  },
  {
   "cell_type": "code",
   "execution_count": 108,
   "id": "771e04f3-b991-4ffb-be76-0d2075494f58",
   "metadata": {},
   "outputs": [
    {
     "data": {
      "text/plain": [
       "array([ 2,  2,  6,  2,  3,  9,  6,  4,  2,  5,  9,  2,  3,  2,  4,  6,  1,\n",
       "        7, 13,  1, 10,  1,  3,  1,  3,  8,  4,  1,  7, 11,  2, 14, 16, 12,\n",
       "        5,  1,  5,  1,  1,  1,  1,  3,  6,  2,  4,  1,  5,  4,  2,  2,  2,\n",
       "        2,  2, 10,  0,  0,  0,  0,  0,  0,  0,  0,  0,  0,  0,  0,  0,  0,\n",
       "        0,  0,  0,  0,  0,  0,  0,  0,  0,  0,  0,  0,  0,  0,  0,  0,  0,\n",
       "        0,  0,  0,  0,  0,  0,  0,  0,  0,  0,  0,  0,  0,  0,  0,  0,  0,\n",
       "        0,  0,  0,  0,  0,  0,  0,  0,  0,  0,  0,  0,  0,  0,  0,  0,  0,\n",
       "        0,  0,  0,  0,  0,  0,  0,  0,  0,  0,  0,  0,  0,  0,  0,  0,  0,\n",
       "        0,  0,  0,  0,  0,  0,  0,  0,  0,  0,  0,  0,  0,  0,  0,  0,  0,\n",
       "        0,  0,  0,  0,  0,  0,  0,  0,  0,  0,  0,  0,  0,  0,  0,  0,  0,\n",
       "        0,  0,  0,  0,  0,  0,  0,  0,  0,  0,  0,  0,  0,  0,  0,  0,  0,\n",
       "        0,  0,  0,  0,  0,  0,  0,  0,  0,  0,  0,  0,  0,  0,  0,  0,  0],\n",
       "      dtype=int32)"
      ]
     },
     "execution_count": 108,
     "metadata": {},
     "output_type": "execute_result"
    }
   ],
   "source": [
    "X_train[0]"
   ]
  },
  {
   "cell_type": "code",
   "execution_count": 73,
   "id": "2ab3423d-95a5-4901-b119-3bcb1d712f24",
   "metadata": {},
   "outputs": [],
   "source": [
    "del(model)"
   ]
  },
  {
   "cell_type": "code",
   "execution_count": 74,
   "id": "d05209e0-5358-40c0-b806-2e98367e9f1c",
   "metadata": {},
   "outputs": [
    {
     "name": "stdout",
     "output_type": "stream",
     "text": [
      "Model: \"sequential_3\"\n",
      "_________________________________________________________________\n",
      " Layer (type)                Output Shape              Param #   \n",
      "=================================================================\n",
      " embedding_3 (Embedding)     (None, 204, 128)          4992      \n",
      "                                                                 \n",
      " bidirectional_3 (Bidirecti  (None, 250)               254000    \n",
      " onal)                                                           \n",
      "                                                                 \n",
      " dense_6 (Dense)             (None, 1000)              251000    \n",
      "                                                                 \n",
      " batch_normalization_3 (Bat  (None, 1000)              4000      \n",
      " chNormalization)                                                \n",
      "                                                                 \n",
      " activation_3 (Activation)   (None, 1000)              0         \n",
      "                                                                 \n",
      " dense_7 (Dense)             (None, 1)                 1001      \n",
      "                                                                 \n",
      "=================================================================\n",
      "Total params: 514993 (1.96 MB)\n",
      "Trainable params: 512993 (1.96 MB)\n",
      "Non-trainable params: 2000 (7.81 KB)\n",
      "_________________________________________________________________\n"
     ]
    }
   ],
   "source": [
    "import numpy as np\n",
    "import tensorflow as tf\n",
    "from tensorflow.keras.models import Sequential\n",
    "from tensorflow.keras.layers import Embedding, Bidirectional, Dense, BatchNormalization, Activation, LSTM\n",
    "from tensorflow.keras.callbacks import ReduceLROnPlateau, EarlyStopping\n",
    "from tensorflow.keras.regularizers import l2\n",
    "from tensorflow.keras.preprocessing.text import Tokenizer\n",
    "from tensorflow.keras.preprocessing.sequence import pad_sequences\n",
    "\n",
    "# Build the sequential model\n",
    "model = Sequential()\n",
    "\n",
    "# Embedding layer\n",
    "model.add(Embedding(input_dim=len(tokenizer.word_index) + 1, output_dim=128, input_length=X_seq_pad.shape[1]))\n",
    "\n",
    "# Bidirectional LSTM layer with L2 regularization\n",
    "model.add(Bidirectional(LSTM(125, return_sequences=False, kernel_regularizer=l2(0.01))))\n",
    "\n",
    "# Dense layer with L2 regularization\n",
    "model.add(Dense(1000, kernel_regularizer=l2(0.01)))\n",
    "\n",
    "# Batch normalization layer\n",
    "model.add(BatchNormalization())\n",
    "\n",
    "# Activation layer\n",
    "model.add(Activation('relu'))\n",
    "\n",
    "# Output dense layer\n",
    "model.add(Dense(1))\n",
    "\n",
    "# Print the model summary\n",
    "model.summary()\n",
    "\n",
    "# Learning rate scheduler\n",
    "lr_scheduler = ReduceLROnPlateau(monitor='val_loss', factor=0.5, patience=5, min_lr=1e-6)\n",
    "\n",
    "# Early stopping\n",
    "early_stopping = EarlyStopping(monitor='val_loss', patience=10, restore_best_weights=True)\n",
    "\n",
    "# Compile the model\n",
    "model.compile(optimizer=RMSprop(learning_rate=0.001, clipvalue=0.1), loss='mse', metrics=[R2])\n",
    "\n",
    "\n"
   ]
  },
  {
   "cell_type": "code",
   "execution_count": 45,
   "id": "62c3f792-f413-4150-8ebf-1f59c5fb986d",
   "metadata": {},
   "outputs": [],
   "source": [
    "mcp = ModelCheckpoint('models/best_model_{epoch}', save_best_only=True, save_format=\"h5\")"
   ]
  },
  {
   "cell_type": "code",
   "execution_count": 75,
   "id": "3f37ab4e-0e3a-44c6-a572-ba5c67930c61",
   "metadata": {},
   "outputs": [
    {
     "name": "stdout",
     "output_type": "stream",
     "text": [
      "Epoch 1/100\n",
      "153/153 [==============================] - 22s 128ms/step - loss: 7.3442 - R2: -1.0467 - val_loss: 22.5147 - val_R2: -8.1710 - lr: 0.0010\n",
      "Epoch 2/100\n",
      "153/153 [==============================] - 19s 123ms/step - loss: 3.8766 - R2: -0.1698 - val_loss: 10.2225 - val_R2: -2.9737 - lr: 0.0010\n",
      "Epoch 3/100\n",
      "153/153 [==============================] - 19s 122ms/step - loss: 3.0723 - R2: 0.0154 - val_loss: 5.8591 - val_R2: -1.1917 - lr: 0.0010\n",
      "Epoch 4/100\n",
      "153/153 [==============================] - 19s 123ms/step - loss: 2.6129 - R2: 0.0951 - val_loss: 3.3504 - val_R2: -0.1661 - lr: 0.0010\n",
      "Epoch 5/100\n",
      "153/153 [==============================] - 19s 123ms/step - loss: 2.3413 - R2: 0.1468 - val_loss: 5.9567 - val_R2: -1.3841 - lr: 0.0010\n",
      "Epoch 6/100\n",
      "153/153 [==============================] - 19s 123ms/step - loss: 2.2042 - R2: 0.1643 - val_loss: 2.4497 - val_R2: 0.0776 - lr: 0.0010\n",
      "Epoch 7/100\n",
      "153/153 [==============================] - 19s 126ms/step - loss: 2.1088 - R2: 0.1768 - val_loss: 2.9666 - val_R2: -0.1540 - lr: 0.0010\n",
      "Epoch 8/100\n",
      "153/153 [==============================] - 20s 131ms/step - loss: 2.0443 - R2: 0.1992 - val_loss: 2.4477 - val_R2: 0.0745 - lr: 0.0010\n",
      "Epoch 9/100\n",
      "153/153 [==============================] - ETA: 0s - loss: 1.9895 - R2: 0.1980INFO:tensorflow:Assets written to: models/best_model_9/assets\n"
     ]
    },
    {
     "name": "stderr",
     "output_type": "stream",
     "text": [
      "INFO:tensorflow:Assets written to: models/best_model_9/assets\n"
     ]
    },
    {
     "name": "stdout",
     "output_type": "stream",
     "text": [
      "153/153 [==============================] - 26s 172ms/step - loss: 1.9895 - R2: 0.1980 - val_loss: 2.0839 - val_R2: 0.2104 - lr: 0.0010\n",
      "Epoch 10/100\n",
      "153/153 [==============================] - 21s 134ms/step - loss: 1.9697 - R2: 0.2206 - val_loss: 4.0024 - val_R2: -0.6740 - lr: 0.0010\n",
      "Epoch 11/100\n",
      "153/153 [==============================] - 19s 123ms/step - loss: 1.8940 - R2: 0.2258 - val_loss: 5.2239 - val_R2: -1.2102 - lr: 0.0010\n",
      "Epoch 12/100\n",
      "153/153 [==============================] - 20s 128ms/step - loss: 1.8848 - R2: 0.2384 - val_loss: 3.5346 - val_R2: -0.4288 - lr: 0.0010\n",
      "Epoch 13/100\n",
      "153/153 [==============================] - 19s 125ms/step - loss: 1.8426 - R2: 0.2540 - val_loss: 2.2920 - val_R2: 0.0862 - lr: 0.0010\n",
      "Epoch 14/100\n",
      "153/153 [==============================] - 21s 138ms/step - loss: 1.8096 - R2: 0.2589 - val_loss: 3.1375 - val_R2: -0.2755 - lr: 0.0010\n",
      "Epoch 15/100\n",
      "153/153 [==============================] - 23s 150ms/step - loss: 1.6143 - R2: 0.3435 - val_loss: 3.0743 - val_R2: -0.2356 - lr: 5.0000e-04\n",
      "Epoch 16/100\n",
      "153/153 [==============================] - 22s 145ms/step - loss: 1.5874 - R2: 0.3547 - val_loss: 2.4215 - val_R2: 0.0392 - lr: 5.0000e-04\n",
      "Epoch 17/100\n",
      "153/153 [==============================] - 21s 137ms/step - loss: 1.5457 - R2: 0.3728 - val_loss: 2.9283 - val_R2: -0.2056 - lr: 5.0000e-04\n",
      "Epoch 18/100\n",
      "153/153 [==============================] - ETA: 0s - loss: 1.5479 - R2: 0.3666INFO:tensorflow:Assets written to: models/best_model_18/assets\n"
     ]
    },
    {
     "name": "stderr",
     "output_type": "stream",
     "text": [
      "INFO:tensorflow:Assets written to: models/best_model_18/assets\n"
     ]
    },
    {
     "name": "stdout",
     "output_type": "stream",
     "text": [
      "153/153 [==============================] - 26s 172ms/step - loss: 1.5479 - R2: 0.3666 - val_loss: 2.0712 - val_R2: 0.2010 - lr: 5.0000e-04\n",
      "Epoch 19/100\n",
      "153/153 [==============================] - ETA: 0s - loss: 1.5102 - R2: 0.3863INFO:tensorflow:Assets written to: models/best_model_19/assets\n"
     ]
    },
    {
     "name": "stderr",
     "output_type": "stream",
     "text": [
      "INFO:tensorflow:Assets written to: models/best_model_19/assets\n"
     ]
    },
    {
     "name": "stdout",
     "output_type": "stream",
     "text": [
      "153/153 [==============================] - 26s 168ms/step - loss: 1.5102 - R2: 0.3863 - val_loss: 2.0153 - val_R2: 0.1933 - lr: 5.0000e-04\n",
      "Epoch 20/100\n",
      "153/153 [==============================] - 20s 131ms/step - loss: 1.5203 - R2: 0.3788 - val_loss: 4.0253 - val_R2: -0.6430 - lr: 5.0000e-04\n",
      "Epoch 21/100\n",
      "153/153 [==============================] - 21s 136ms/step - loss: 1.4897 - R2: 0.3843 - val_loss: 2.1931 - val_R2: 0.1317 - lr: 5.0000e-04\n",
      "Epoch 22/100\n",
      "153/153 [==============================] - ETA: 0s - loss: 1.5078 - R2: 0.3829INFO:tensorflow:Assets written to: models/best_model_22/assets\n"
     ]
    },
    {
     "name": "stderr",
     "output_type": "stream",
     "text": [
      "INFO:tensorflow:Assets written to: models/best_model_22/assets\n"
     ]
    },
    {
     "name": "stdout",
     "output_type": "stream",
     "text": [
      "153/153 [==============================] - 26s 173ms/step - loss: 1.5078 - R2: 0.3829 - val_loss: 1.9358 - val_R2: 0.2273 - lr: 5.0000e-04\n",
      "Epoch 23/100\n",
      "153/153 [==============================] - ETA: 0s - loss: 1.4606 - R2: 0.3942INFO:tensorflow:Assets written to: models/best_model_23/assets\n"
     ]
    },
    {
     "name": "stderr",
     "output_type": "stream",
     "text": [
      "INFO:tensorflow:Assets written to: models/best_model_23/assets\n"
     ]
    },
    {
     "name": "stdout",
     "output_type": "stream",
     "text": [
      "153/153 [==============================] - 26s 170ms/step - loss: 1.4606 - R2: 0.3942 - val_loss: 1.8606 - val_R2: 0.2680 - lr: 5.0000e-04\n",
      "Epoch 24/100\n",
      "153/153 [==============================] - ETA: 0s - loss: 1.4791 - R2: 0.3948INFO:tensorflow:Assets written to: models/best_model_24/assets\n"
     ]
    },
    {
     "name": "stderr",
     "output_type": "stream",
     "text": [
      "INFO:tensorflow:Assets written to: models/best_model_24/assets\n"
     ]
    },
    {
     "name": "stdout",
     "output_type": "stream",
     "text": [
      "153/153 [==============================] - 25s 166ms/step - loss: 1.4791 - R2: 0.3948 - val_loss: 1.7543 - val_R2: 0.3076 - lr: 5.0000e-04\n",
      "Epoch 25/100\n",
      "153/153 [==============================] - 21s 135ms/step - loss: 1.4367 - R2: 0.4111 - val_loss: 2.2312 - val_R2: 0.0715 - lr: 5.0000e-04\n",
      "Epoch 26/100\n",
      "153/153 [==============================] - 21s 139ms/step - loss: 1.4339 - R2: 0.4155 - val_loss: 2.7995 - val_R2: -0.1813 - lr: 5.0000e-04\n",
      "Epoch 27/100\n",
      "153/153 [==============================] - 21s 138ms/step - loss: 1.4310 - R2: 0.4045 - val_loss: 1.7628 - val_R2: 0.3114 - lr: 5.0000e-04\n",
      "Epoch 28/100\n",
      "153/153 [==============================] - 22s 147ms/step - loss: 1.4161 - R2: 0.4226 - val_loss: 2.1966 - val_R2: 0.1337 - lr: 5.0000e-04\n",
      "Epoch 29/100\n",
      "153/153 [==============================] - 21s 140ms/step - loss: 1.4238 - R2: 0.4081 - val_loss: 2.3010 - val_R2: 0.0500 - lr: 5.0000e-04\n",
      "Epoch 30/100\n",
      "153/153 [==============================] - ETA: 0s - loss: 1.3058 - R2: 0.4692INFO:tensorflow:Assets written to: models/best_model_30/assets\n"
     ]
    },
    {
     "name": "stderr",
     "output_type": "stream",
     "text": [
      "INFO:tensorflow:Assets written to: models/best_model_30/assets\n"
     ]
    },
    {
     "name": "stdout",
     "output_type": "stream",
     "text": [
      "153/153 [==============================] - 28s 186ms/step - loss: 1.3058 - R2: 0.4692 - val_loss: 1.5239 - val_R2: 0.4074 - lr: 2.5000e-04\n",
      "Epoch 31/100\n",
      "153/153 [==============================] - 22s 142ms/step - loss: 1.2768 - R2: 0.4873 - val_loss: 1.5268 - val_R2: 0.4104 - lr: 2.5000e-04\n",
      "Epoch 32/100\n",
      "153/153 [==============================] - 22s 146ms/step - loss: 1.2553 - R2: 0.4937 - val_loss: 2.2316 - val_R2: 0.1208 - lr: 2.5000e-04\n",
      "Epoch 33/100\n",
      "153/153 [==============================] - 23s 147ms/step - loss: 1.2681 - R2: 0.4816 - val_loss: 2.0308 - val_R2: 0.1923 - lr: 2.5000e-04\n",
      "Epoch 34/100\n",
      "153/153 [==============================] - 23s 151ms/step - loss: 1.2610 - R2: 0.4883 - val_loss: 1.7842 - val_R2: 0.2867 - lr: 2.5000e-04\n",
      "Epoch 35/100\n",
      "153/153 [==============================] - 22s 142ms/step - loss: 1.2556 - R2: 0.4906 - val_loss: 2.4126 - val_R2: 0.0070 - lr: 2.5000e-04\n",
      "Epoch 36/100\n",
      "153/153 [==============================] - ETA: 0s - loss: 1.1977 - R2: 0.5123INFO:tensorflow:Assets written to: models/best_model_36/assets\n"
     ]
    },
    {
     "name": "stderr",
     "output_type": "stream",
     "text": [
      "INFO:tensorflow:Assets written to: models/best_model_36/assets\n"
     ]
    },
    {
     "name": "stdout",
     "output_type": "stream",
     "text": [
      "153/153 [==============================] - 28s 186ms/step - loss: 1.1977 - R2: 0.5123 - val_loss: 1.5180 - val_R2: 0.4160 - lr: 1.2500e-04\n",
      "Epoch 37/100\n",
      "153/153 [==============================] - ETA: 0s - loss: 1.1697 - R2: 0.5320INFO:tensorflow:Assets written to: models/best_model_37/assets\n"
     ]
    },
    {
     "name": "stderr",
     "output_type": "stream",
     "text": [
      "INFO:tensorflow:Assets written to: models/best_model_37/assets\n"
     ]
    },
    {
     "name": "stdout",
     "output_type": "stream",
     "text": [
      "153/153 [==============================] - 28s 182ms/step - loss: 1.1697 - R2: 0.5320 - val_loss: 1.4946 - val_R2: 0.4251 - lr: 1.2500e-04\n",
      "Epoch 38/100\n",
      "153/153 [==============================] - ETA: 0s - loss: 1.1762 - R2: 0.5188INFO:tensorflow:Assets written to: models/best_model_38/assets\n"
     ]
    },
    {
     "name": "stderr",
     "output_type": "stream",
     "text": [
      "INFO:tensorflow:Assets written to: models/best_model_38/assets\n"
     ]
    },
    {
     "name": "stdout",
     "output_type": "stream",
     "text": [
      "153/153 [==============================] - 28s 182ms/step - loss: 1.1762 - R2: 0.5188 - val_loss: 1.4457 - val_R2: 0.4426 - lr: 1.2500e-04\n",
      "Epoch 39/100\n",
      "153/153 [==============================] - 22s 145ms/step - loss: 1.1775 - R2: 0.5184 - val_loss: 1.4912 - val_R2: 0.4252 - lr: 1.2500e-04\n",
      "Epoch 40/100\n",
      "153/153 [==============================] - 23s 148ms/step - loss: 1.1503 - R2: 0.5395 - val_loss: 1.5378 - val_R2: 0.4042 - lr: 1.2500e-04\n",
      "Epoch 41/100\n",
      "153/153 [==============================] - 23s 152ms/step - loss: 1.1637 - R2: 0.5176 - val_loss: 1.4968 - val_R2: 0.4293 - lr: 1.2500e-04\n",
      "Epoch 42/100\n",
      "153/153 [==============================] - 22s 147ms/step - loss: 1.1491 - R2: 0.5396 - val_loss: 1.4649 - val_R2: 0.4337 - lr: 1.2500e-04\n",
      "Epoch 43/100\n",
      "153/153 [==============================] - ETA: 0s - loss: 1.1646 - R2: 0.5266INFO:tensorflow:Assets written to: models/best_model_43/assets\n"
     ]
    },
    {
     "name": "stderr",
     "output_type": "stream",
     "text": [
      "INFO:tensorflow:Assets written to: models/best_model_43/assets\n"
     ]
    },
    {
     "name": "stdout",
     "output_type": "stream",
     "text": [
      "153/153 [==============================] - 28s 183ms/step - loss: 1.1646 - R2: 0.5266 - val_loss: 1.4382 - val_R2: 0.4440 - lr: 1.2500e-04\n",
      "Epoch 44/100\n",
      "153/153 [==============================] - 22s 143ms/step - loss: 1.1472 - R2: 0.5364 - val_loss: 1.4970 - val_R2: 0.4114 - lr: 1.2500e-04\n",
      "Epoch 45/100\n",
      "153/153 [==============================] - 23s 152ms/step - loss: 1.1410 - R2: 0.5364 - val_loss: 1.6317 - val_R2: 0.3671 - lr: 1.2500e-04\n",
      "Epoch 46/100\n",
      "153/153 [==============================] - 23s 149ms/step - loss: 1.1365 - R2: 0.5439 - val_loss: 1.4724 - val_R2: 0.4300 - lr: 1.2500e-04\n",
      "Epoch 47/100\n",
      "153/153 [==============================] - 23s 148ms/step - loss: 1.1325 - R2: 0.5414 - val_loss: 1.4615 - val_R2: 0.4292 - lr: 1.2500e-04\n",
      "Epoch 48/100\n",
      "153/153 [==============================] - 23s 153ms/step - loss: 1.1175 - R2: 0.5488 - val_loss: 1.4538 - val_R2: 0.4405 - lr: 1.2500e-04\n",
      "Epoch 49/100\n",
      "153/153 [==============================] - 22s 147ms/step - loss: 1.0936 - R2: 0.5547 - val_loss: 1.4907 - val_R2: 0.4092 - lr: 6.2500e-05\n",
      "Epoch 50/100\n",
      "153/153 [==============================] - ETA: 0s - loss: 1.0975 - R2: 0.5564INFO:tensorflow:Assets written to: models/best_model_50/assets\n"
     ]
    },
    {
     "name": "stderr",
     "output_type": "stream",
     "text": [
      "INFO:tensorflow:Assets written to: models/best_model_50/assets\n"
     ]
    },
    {
     "name": "stdout",
     "output_type": "stream",
     "text": [
      "153/153 [==============================] - 27s 179ms/step - loss: 1.0975 - R2: 0.5564 - val_loss: 1.3960 - val_R2: 0.4654 - lr: 6.2500e-05\n",
      "Epoch 51/100\n",
      "153/153 [==============================] - 22s 146ms/step - loss: 1.0898 - R2: 0.5573 - val_loss: 1.4918 - val_R2: 0.4272 - lr: 6.2500e-05\n",
      "Epoch 52/100\n",
      "153/153 [==============================] - 25s 163ms/step - loss: 1.0772 - R2: 0.5745 - val_loss: 1.4094 - val_R2: 0.4605 - lr: 6.2500e-05\n",
      "Epoch 53/100\n",
      "153/153 [==============================] - 22s 146ms/step - loss: 1.0793 - R2: 0.5597 - val_loss: 1.4440 - val_R2: 0.4440 - lr: 6.2500e-05\n",
      "Epoch 54/100\n",
      "153/153 [==============================] - 22s 144ms/step - loss: 1.0810 - R2: 0.5640 - val_loss: 1.4381 - val_R2: 0.4444 - lr: 6.2500e-05\n",
      "Epoch 55/100\n",
      "153/153 [==============================] - ETA: 0s - loss: 1.0706 - R2: 0.5710INFO:tensorflow:Assets written to: models/best_model_55/assets\n"
     ]
    },
    {
     "name": "stderr",
     "output_type": "stream",
     "text": [
      "INFO:tensorflow:Assets written to: models/best_model_55/assets\n"
     ]
    },
    {
     "name": "stdout",
     "output_type": "stream",
     "text": [
      "153/153 [==============================] - 28s 182ms/step - loss: 1.0706 - R2: 0.5710 - val_loss: 1.3819 - val_R2: 0.4667 - lr: 6.2500e-05\n",
      "Epoch 56/100\n",
      "153/153 [==============================] - ETA: 0s - loss: 1.0710 - R2: 0.5689INFO:tensorflow:Assets written to: models/best_model_56/assets\n"
     ]
    },
    {
     "name": "stderr",
     "output_type": "stream",
     "text": [
      "INFO:tensorflow:Assets written to: models/best_model_56/assets\n"
     ]
    },
    {
     "name": "stdout",
     "output_type": "stream",
     "text": [
      "153/153 [==============================] - 27s 175ms/step - loss: 1.0710 - R2: 0.5689 - val_loss: 1.3510 - val_R2: 0.4788 - lr: 6.2500e-05\n",
      "Epoch 57/100\n",
      "153/153 [==============================] - 22s 141ms/step - loss: 1.0690 - R2: 0.5720 - val_loss: 1.4419 - val_R2: 0.4414 - lr: 6.2500e-05\n",
      "Epoch 58/100\n",
      "153/153 [==============================] - 22s 146ms/step - loss: 1.0691 - R2: 0.5703 - val_loss: 1.5250 - val_R2: 0.3998 - lr: 6.2500e-05\n",
      "Epoch 59/100\n",
      "153/153 [==============================] - 22s 145ms/step - loss: 1.0622 - R2: 0.5727 - val_loss: 1.3643 - val_R2: 0.4761 - lr: 6.2500e-05\n",
      "Epoch 60/100\n",
      "153/153 [==============================] - 23s 153ms/step - loss: 1.0686 - R2: 0.5643 - val_loss: 1.4122 - val_R2: 0.4572 - lr: 6.2500e-05\n",
      "Epoch 61/100\n",
      "153/153 [==============================] - 23s 151ms/step - loss: 1.0680 - R2: 0.5706 - val_loss: 1.3985 - val_R2: 0.4570 - lr: 6.2500e-05\n",
      "Epoch 62/100\n",
      "153/153 [==============================] - 22s 145ms/step - loss: 1.0252 - R2: 0.5956 - val_loss: 1.3760 - val_R2: 0.4730 - lr: 3.1250e-05\n",
      "Epoch 63/100\n",
      "153/153 [==============================] - 22s 146ms/step - loss: 1.0415 - R2: 0.5820 - val_loss: 1.3603 - val_R2: 0.4771 - lr: 3.1250e-05\n",
      "Epoch 64/100\n",
      "153/153 [==============================] - 23s 151ms/step - loss: 1.0437 - R2: 0.5816 - val_loss: 1.3662 - val_R2: 0.4776 - lr: 3.1250e-05\n",
      "Epoch 65/100\n",
      "153/153 [==============================] - 23s 149ms/step - loss: 1.0403 - R2: 0.5830 - val_loss: 1.3532 - val_R2: 0.4800 - lr: 3.1250e-05\n",
      "Epoch 66/100\n",
      "153/153 [==============================] - 22s 146ms/step - loss: 1.0290 - R2: 0.5840 - val_loss: 1.3571 - val_R2: 0.4772 - lr: 3.1250e-05\n"
     ]
    }
   ],
   "source": [
    "#history = model.fit(X_train, y_train, epochs=100, batch_size=128, validation_data=(X_test, y_test), callbacks=[mcp])\n",
    "history = model.fit(X_train, y_train, epochs=100, batch_size=32, validation_data=(X_test, y_test), callbacks=[lr_scheduler, early_stopping,mcp])"
   ]
  },
  {
   "cell_type": "code",
   "execution_count": 79,
   "id": "0084fbb1-e83e-4808-99bf-1458f3ea3076",
   "metadata": {},
   "outputs": [
    {
     "name": "stdout",
     "output_type": "stream",
     "text": [
      "39/39 [==============================] - 2s 40ms/step\n"
     ]
    }
   ],
   "source": [
    "y_pred = model.predict(X_test)"
   ]
  },
  {
   "cell_type": "markdown",
   "id": "382979a3-f299-4762-8b6d-10a6ea4d3c70",
   "metadata": {},
   "source": [
    "# Score"
   ]
  },
  {
   "cell_type": "code",
   "execution_count": 80,
   "id": "f9fd5d60-841f-46c3-94b6-5755b4d548cd",
   "metadata": {},
   "outputs": [],
   "source": [
    "r2 = 1 - ((y_test - y_pred.reshape(-1)) ** 2).sum() / ((y_test - y_test.mean()) ** 2).sum()"
   ]
  },
  {
   "cell_type": "code",
   "execution_count": 81,
   "id": "4d2bfabe-2e3e-40cf-a1e8-2d458ee7f328",
   "metadata": {},
   "outputs": [
    {
     "data": {
      "text/plain": [
       "0.520349009742676"
      ]
     },
     "execution_count": 81,
     "metadata": {},
     "output_type": "execute_result"
    }
   ],
   "source": [
    "r2\n",
    "# 0.4984533246797399"
   ]
  },
  {
   "cell_type": "code",
   "execution_count": 82,
   "id": "85262541-e04a-4ff2-b3e6-a47643db66f6",
   "metadata": {},
   "outputs": [
    {
     "name": "stderr",
     "output_type": "stream",
     "text": [
      "/home/nando/miniconda3/envs/tensorflow/lib/python3.9/site-packages/keras/src/engine/training.py:3000: UserWarning: You are saving your model as an HDF5 file via `model.save()`. This file format is considered legacy. We recommend using instead the native Keras format, e.g. `model.save('my_model.keras')`.\n",
      "  saving_api.save_model(\n"
     ]
    }
   ],
   "source": [
    "model.save('models/final_v1.h5', )"
   ]
  },
  {
   "cell_type": "markdown",
   "id": "5f683e18-c876-4f7c-93ea-a33d495dcdaa",
   "metadata": {},
   "source": [
    "# Load model (solo si se grabo el modelo)"
   ]
  },
  {
   "cell_type": "code",
   "execution_count": 50,
   "id": "285c8740-f0bb-4237-8593-ff9b815de0e3",
   "metadata": {},
   "outputs": [],
   "source": [
    "from tensorflow.keras.models import load_model"
   ]
  },
  {
   "cell_type": "code",
   "execution_count": 83,
   "id": "2168984f-770c-436e-92da-c1344b1d3abc",
   "metadata": {},
   "outputs": [],
   "source": [
    "model_loaded = load_model('models/final_v1.h5', custom_objects={'R2': R2})"
   ]
  },
  {
   "cell_type": "code",
   "execution_count": 84,
   "id": "13a9d7d8-41e0-44a0-a8b9-02157a11f8f2",
   "metadata": {},
   "outputs": [
    {
     "name": "stdout",
     "output_type": "stream",
     "text": [
      "39/39 [==============================] - 2s 41ms/step\n"
     ]
    }
   ],
   "source": [
    "y_pred = model_loaded.predict(X_test)"
   ]
  },
  {
   "cell_type": "markdown",
   "id": "c8ab60bf-7b98-4f46-b1dd-b08b5fbf8bed",
   "metadata": {},
   "source": [
    "¿Hasta que valores de r2 logró?"
   ]
  },
  {
   "cell_type": "code",
   "execution_count": 85,
   "id": "64c07210-469b-47a5-a86c-d413a55f9fe6",
   "metadata": {},
   "outputs": [
    {
     "data": {
      "text/plain": [
       "0.520349009742676"
      ]
     },
     "execution_count": 85,
     "metadata": {},
     "output_type": "execute_result"
    }
   ],
   "source": [
    "r2 = 1 - ((y_test - y_pred.reshape(-1)) ** 2).sum() / ((y_test - y_test.mean()) ** 2).sum()\n",
    "r2"
   ]
  },
  {
   "cell_type": "markdown",
   "id": "7f1a6260-e31f-4e5e-a923-ce67bf31152f",
   "metadata": {},
   "source": [
    "# Evaluación"
   ]
  },
  {
   "cell_type": "code",
   "execution_count": 86,
   "id": "7dd9d7e6-2789-459e-b9dd-593e10847fc4",
   "metadata": {},
   "outputs": [
    {
     "data": {
      "text/plain": [
       "<function matplotlib.pyplot.show(close=None, block=None)>"
      ]
     },
     "execution_count": 86,
     "metadata": {},
     "output_type": "execute_result"
    },
    {
     "data": {
      "image/png": "[encoded data removed]",
      "text/plain": [
       "<Figure size 500x500 with 1 Axes>"
      ]
     },
     "metadata": {},
     "output_type": "display_data"
    }
   ],
   "source": [
    "import seaborn as sns\n",
    "import matplotlib.pyplot as plt\n",
    "\n",
    "sns.set(color_codes=True)\n",
    "sns.set_style(\"white\")\n",
    "\n",
    "ax = sns.regplot(x=y_test, y=y_pred, scatter_kws={'alpha':0.4})\n",
    "ax.set_xlabel('Experimental pIC50', fontsize='large', fontweight='bold')\n",
    "ax.set_ylabel('Predicted pIC50', fontsize='large', fontweight='bold')\n",
    "ax.set_xlim(0, 12)\n",
    "ax.set_ylim(0, 12)\n",
    "ax.figure.set_size_inches(5, 5)\n",
    "plt.show"
   ]
  }
 ],
 "metadata": {
  "kernelspec": {
   "display_name": "Tensorflow",
   "language": "python",
   "name": "tensorflow"
  },
  "language_info": {
   "codemirror_mode": {
    "name": "ipython",
    "version": 3
   },
   "file_extension": ".py",
   "mimetype": "text/x-python",
   "name": "python",
   "nbconvert_exporter": "python",
   "pygments_lexer": "ipython3",
   "version": "3.9.17"
  }
 },
 "nbformat": 4,
 "nbformat_minor": 5
}
