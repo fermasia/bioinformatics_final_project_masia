{
 "cells": [
  {
   "cell_type": "code",
   "execution_count": 1,
   "id": "21bee0a3-79a7-43b2-9ac2-15cad5630e22",
   "metadata": {},
   "outputs": [],
   "source": [
    "import pandas as pd\n",
    "import numpy as np"
   ]
  },
  {
   "cell_type": "markdown",
   "id": "08544474-e883-4105-bcc3-9f3f9f014079",
   "metadata": {},
   "source": [
    "# Modelo Recurrentes con Embeddings a nivel de caracter"
   ]
  },
  {
   "cell_type": "code",
   "execution_count": 2,
   "id": "353a2d75-f0f4-4563-9842-c68d77118161",
   "metadata": {},
   "outputs": [],
   "source": [
    "df = pd.read_csv('data/acetylcholinesterase_02_bioactivity_data_preprocessed.csv')"
   ]
  },
  {
   "cell_type": "code",
   "execution_count": 3,
   "id": "d1554fa5-d9ee-456c-be20-80571e319fc6",
   "metadata": {},
   "outputs": [
    {
     "data": {
      "text/html": [
       "<div>\n",
       "<style scoped>\n",
       "    .dataframe tbody tr th:only-of-type {\n",
       "        vertical-align: middle;\n",
       "    }\n",
       "\n",
       "    .dataframe tbody tr th {\n",
       "        vertical-align: top;\n",
       "    }\n",
       "\n",
       "    .dataframe thead th {\n",
       "        text-align: right;\n",
       "    }\n",
       "</style>\n",
       "<table border=\"1\" class=\"dataframe\">\n",
       "  <thead>\n",
       "    <tr style=\"text-align: right;\">\n",
       "      <th></th>\n",
       "      <th>molecule_chembl_id</th>\n",
       "      <th>canonical_smiles</th>\n",
       "      <th>standard_value</th>\n",
       "      <th>standard_value_norm</th>\n",
       "      <th>pIC50</th>\n",
       "    </tr>\n",
       "  </thead>\n",
       "  <tbody>\n",
       "    <tr>\n",
       "      <th>0</th>\n",
       "      <td>CHEMBL133897</td>\n",
       "      <td>CCOc1nn(-c2cccc(OCc3ccccc3)c2)c(=O)o1</td>\n",
       "      <td>750.0</td>\n",
       "      <td>750.0</td>\n",
       "      <td>6.124939</td>\n",
       "    </tr>\n",
       "    <tr>\n",
       "      <th>1</th>\n",
       "      <td>CHEMBL336398</td>\n",
       "      <td>O=C(N1CCCCC1)n1nc(-c2ccc(Cl)cc2)nc1SCC1CC1</td>\n",
       "      <td>100.0</td>\n",
       "      <td>100.0</td>\n",
       "      <td>7.000000</td>\n",
       "    </tr>\n",
       "    <tr>\n",
       "      <th>2</th>\n",
       "      <td>CHEMBL131588</td>\n",
       "      <td>CN(C(=O)n1nc(-c2ccc(Cl)cc2)nc1SCC(F)(F)F)c1ccccc1</td>\n",
       "      <td>50000.0</td>\n",
       "      <td>50000.0</td>\n",
       "      <td>4.301030</td>\n",
       "    </tr>\n",
       "    <tr>\n",
       "      <th>3</th>\n",
       "      <td>CHEMBL130628</td>\n",
       "      <td>O=C(N1CCCCC1)n1nc(-c2ccc(Cl)cc2)nc1SCC(F)(F)F</td>\n",
       "      <td>300.0</td>\n",
       "      <td>300.0</td>\n",
       "      <td>6.522879</td>\n",
       "    </tr>\n",
       "    <tr>\n",
       "      <th>4</th>\n",
       "      <td>CHEMBL130478</td>\n",
       "      <td>CSc1nc(-c2ccc(OC(F)(F)F)cc2)nn1C(=O)N(C)C</td>\n",
       "      <td>800.0</td>\n",
       "      <td>800.0</td>\n",
       "      <td>6.096910</td>\n",
       "    </tr>\n",
       "  </tbody>\n",
       "</table>\n",
       "</div>"
      ],
      "text/plain": [
       "  molecule_chembl_id                                   canonical_smiles  \\\n",
       "0       CHEMBL133897              CCOc1nn(-c2cccc(OCc3ccccc3)c2)c(=O)o1   \n",
       "1       CHEMBL336398         O=C(N1CCCCC1)n1nc(-c2ccc(Cl)cc2)nc1SCC1CC1   \n",
       "2       CHEMBL131588  CN(C(=O)n1nc(-c2ccc(Cl)cc2)nc1SCC(F)(F)F)c1ccccc1   \n",
       "3       CHEMBL130628      O=C(N1CCCCC1)n1nc(-c2ccc(Cl)cc2)nc1SCC(F)(F)F   \n",
       "4       CHEMBL130478          CSc1nc(-c2ccc(OC(F)(F)F)cc2)nn1C(=O)N(C)C   \n",
       "\n",
       "   standard_value  standard_value_norm     pIC50  \n",
       "0           750.0                750.0  6.124939  \n",
       "1           100.0                100.0  7.000000  \n",
       "2         50000.0              50000.0  4.301030  \n",
       "3           300.0                300.0  6.522879  \n",
       "4           800.0                800.0  6.096910  "
      ]
     },
     "execution_count": 3,
     "metadata": {},
     "output_type": "execute_result"
    }
   ],
   "source": [
    "df.head()"
   ]
  },
  {
   "cell_type": "markdown",
   "id": "2985df76-23b9-45a8-83ed-ce8ae510219f",
   "metadata": {},
   "source": [
    "# Canonical_smiles To secuence"
   ]
  },
  {
   "cell_type": "code",
   "execution_count": 4,
   "id": "87e524d2-e7e9-4d3b-b1f1-b62254a0bc66",
   "metadata": {},
   "outputs": [
    {
     "name": "stderr",
     "output_type": "stream",
     "text": [
      "2023-09-03 00:48:37.387970: I tensorflow/core/util/port.cc:110] oneDNN custom operations are on. You may see slightly different numerical results due to floating-point round-off errors from different computation orders. To turn them off, set the environment variable `TF_ENABLE_ONEDNN_OPTS=0`.\n",
      "2023-09-03 00:48:37.389649: I tensorflow/tsl/cuda/cudart_stub.cc:28] Could not find cuda drivers on your machine, GPU will not be used.\n",
      "2023-09-03 00:48:37.422844: I tensorflow/tsl/cuda/cudart_stub.cc:28] Could not find cuda drivers on your machine, GPU will not be used.\n",
      "2023-09-03 00:48:37.423819: I tensorflow/core/platform/cpu_feature_guard.cc:182] This TensorFlow binary is optimized to use available CPU instructions in performance-critical operations.\n",
      "To enable the following instructions: AVX2 AVX512F AVX512_VNNI FMA, in other operations, rebuild TensorFlow with the appropriate compiler flags.\n",
      "2023-09-03 00:48:37.994959: W tensorflow/compiler/tf2tensorrt/utils/py_utils.cc:38] TF-TRT Warning: Could not find TensorRT\n"
     ]
    }
   ],
   "source": [
    "from tensorflow.keras.preprocessing.text import Tokenizer\n",
    "from tensorflow.keras.preprocessing.sequence import pad_sequences"
   ]
  },
  {
   "cell_type": "markdown",
   "id": "b524afd5-79ed-433d-827b-ac04510ae8ad",
   "metadata": {},
   "source": [
    "Utilizando Tokenizer y pad_sequences de keras a nivel de caracter, obtener la entrada tokenizada. Por ejemplo:\n",
    "\n",
    "**El smiles**:\n",
    "\n",
    "'C[C@@]12CC[C@H]3[C@]4(C)CCC[C@@]5(C)C(=O)OCC[N+](C)(C)CCCCCCCCC[N+](C)(C)CCOC(=O)[C@]6(C)CCC[C@]7(C)[C@@H]6CC[C@@]68C[C@@H](OC(=O)CCCCCCCCC(=O)O[C@@H]1C[C@@]3(CC[C@@H]45)C2)[C@@](C)(CC[C@@H]76)C8.[Br-].[Br-]'\n",
    "\n",
    "**Tendría que quedar algo asi (puede que no sea exacto):**\n",
    "\n",
    "array([ 2, 11,  2, 13, 13, 12,  5,  7,  2,  2, 11,  2, 13, 16, 12, 10, 11,\n",
    "        2, 13, 12, 15,  3,  2,  4,  2,  2,  2, 11,  2, 13, 13, 12, 23,  3,\n",
    "        2,  4,  2,  3,  9,  6,  4,  6,  2,  2, 11,  8, 21, 12,  3,  2,  4,\n",
    "        3,  2,  4,  2,  2,  2,  2,  2,  2,  2,  2,  2, 11,  8, 21, 12,  3,\n",
    "        2,  4,  3,  2,  4,  2,  2,  6,  2,  3,  9,  6,  4, 11,  2, 13, 12,\n",
    "       30,  3,  2,  4,  2,  2,  2, 11,  2, 13, 12, 35,  3,  2,  4, 11,  2,\n",
    "       13, 13, 16, 12, 30,  2,  2, 11,  2, 13, 13, 12, 30, 36,  2, 11,  2,\n",
    "       13, 13, 16, 12,  3,  6,  2,  3,  9,  6,  4,  2,  2,  2,  2,  2,  2,\n",
    "        2,  2,  2,  3,  9,  6,  4,  6, 11,  2, 13, 13, 16, 12,  5,  2, 11,\n",
    "        2, 13, 13, 12, 10,  3,  2,  2, 11,  2, 13, 13, 16, 12, 15, 23,  4,\n",
    "        2,  7,  4, 11,  2, 13, 13, 12,  3,  2,  4,  3,  2,  2, 11,  2, 13,\n",
    "       13, 16, 12, 35, 30,  4,  2, 36, 20, 11, 25, 26, 17, 12, 20, 11, 25,\n",
    "       26, 17, 12], dtype=int32)\n",
    "       \n",
    "\n",
    "**Otro ejemplo:**\n",
    "smiles: 'NC(=O)O'\n",
    "\n",
    "array([0, 0, 0, 0, 0, 0, 0, 0, 0, 0, 0, 0, 0, 0, 0, 0, 0, 0, 0, 0, 0, 0,\n",
    "       0, 0, 0, 0, 0, 0, 0, 0, 0, 0, 0, 0, 0, 0, 0, 0, 0, 0, 0, 0, 0, 0,\n",
    "       0, 0, 0, 0, 0, 0, 0, 0, 0, 0, 0, 0, 0, 0, 0, 0, 0, 0, 0, 0, 0, 0,\n",
    "       0, 0, 0, 0, 0, 0, 0, 0, 0, 0, 0, 0, 0, 0, 0, 0, 0, 0, 0, 0, 0, 0,\n",
    "       0, 0, 0, 0, 0, 0, 0, 0, 0, 0, 0, 0, 0, 0, 0, 0, 0, 0, 0, 0, 0, 0,\n",
    "       0, 0, 0, 0, 0, 0, 0, 0, 0, 0, 0, 0, 0, 0, 0, 0, 0, 0, 0, 0, 0, 0,\n",
    "       0, 0, 0, 0, 0, 0, 0, 0, 0, 0, 0, 0, 0, 0, 0, 0, 0, 0, 0, 0, 0, 0,\n",
    "       0, 0, 0, 0, 0, 0, 0, 0, 0, 0, 0, 0, 0, 0, 0, 0, 0, 0, 0, 0, 0, 0,\n",
    "       0, 0, 0, 0, 0, 0, 0, 0, 0, 0, 0, 0, 0, 0, 0, 0, 0, 0, 0, 0, 0, 0,\n",
    "       0, 0, 8, 2, 3, 9, 6, 4, 6], dtype=int32)\n",
    "\n",
    "**Tener en cuenta:**\n",
    "\n",
    "- Ver cuanta es la máxima longitud para agregar el padding correspondiente\n",
    "- En el ejemplo se agrego padding a la izquierda"
   ]
  },
  {
   "cell_type": "code",
   "execution_count": 5,
   "id": "07f8fff5-c1f6-48d6-9e19-ee5defde20b1",
   "metadata": {},
   "outputs": [],
   "source": [
    "max_len_idx = df['canonical_smiles'].apply(len).argmax()\n",
    "min_len_idx = df['canonical_smiles'].apply(len).argmin()"
   ]
  },
  {
   "cell_type": "code",
   "execution_count": 6,
   "id": "6a21da0d-f5cd-4c5f-a95c-94b9a1c9c359",
   "metadata": {},
   "outputs": [],
   "source": [
    "min_sequence_length = df['canonical_smiles'].apply(len).min()\n",
    "max_sequence_length = df['canonical_smiles'].apply(len).max()"
   ]
  },
  {
   "cell_type": "code",
   "execution_count": 7,
   "id": "c9eaa10c-da25-4386-b332-ca86528c7341",
   "metadata": {},
   "outputs": [
    {
     "data": {
      "text/plain": [
       "204"
      ]
     },
     "execution_count": 7,
     "metadata": {},
     "output_type": "execute_result"
    }
   ],
   "source": [
    "max_sequence_length"
   ]
  },
  {
   "cell_type": "code",
   "execution_count": 8,
   "id": "703325ab-0193-4bf5-9b66-a880d7bc346b",
   "metadata": {},
   "outputs": [],
   "source": [
    "X = df['canonical_smiles']\n",
    "y = df['pIC50']"
   ]
  },
  {
   "cell_type": "code",
   "execution_count": 9,
   "id": "09894d86-4408-469c-b1f9-60f6d7218b5c",
   "metadata": {},
   "outputs": [],
   "source": [
    "# Implementar tokenización y guardar en X_seq_pad el dataset tokenizado"
   ]
  },
  {
   "cell_type": "code",
   "execution_count": 10,
   "id": "5028a561-00e6-4462-81dd-c1f25e44cd1f",
   "metadata": {},
   "outputs": [],
   "source": [
    "import tensorflow as tf\n",
    "from tensorflow.keras.preprocessing.text import Tokenizer\n",
    "from tensorflow.keras.preprocessing.sequence import pad_sequences\n",
    "\n",
    "# Extract canonical smiles from the DataFrame and labels\n",
    "canonical_smiles = X.tolist()\n",
    "labels = y.tolist()\n",
    "\n",
    "# Initialize the Tokenizer\n",
    "tokenizer = Tokenizer(char_level=True)\n",
    "\n",
    "# Fit the tokenizer on the canonical smiles\n",
    "tokenizer.fit_on_texts(canonical_smiles)\n",
    "\n",
    "# Tokenize and pad the canonical smiles sequences\n",
    "canonical_smiles_tokenized = tokenizer.texts_to_sequences(canonical_smiles)\n",
    "max_sequence_length = max(map(len, canonical_smiles_tokenized))\n",
    "canonical_smiles_padded = pad_sequences(canonical_smiles_tokenized, \n",
    "                                        maxlen=max_sequence_length)\n",
    "\n",
    "# Convert labels to a numpy array\n",
    "labels_array = np.array(labels)\n",
    "\n",
    "# Convert padded sequences to a numpy array\n",
    "X_seq_pad = np.array(canonical_smiles_padded)"
   ]
  },
  {
   "cell_type": "code",
   "execution_count": 11,
   "id": "9233351c-7a53-464c-beaf-89d043cd8719",
   "metadata": {},
   "outputs": [
    {
     "data": {
      "text/plain": [
       "204"
      ]
     },
     "execution_count": 11,
     "metadata": {},
     "output_type": "execute_result"
    }
   ],
   "source": [
    "X_seq_pad.shape[1]"
   ]
  },
  {
   "cell_type": "code",
   "execution_count": 12,
   "id": "a9b3f66e-8ee9-4d05-8835-39645fd68920",
   "metadata": {},
   "outputs": [],
   "source": [
    "# # Find rows with inf values\n",
    "# rows_with_inf = np.any(np.isinf(X_seq_pad), axis=1)\n",
    "\n",
    "# # Remove rows with inf values\n",
    "# X_seq_pad = X_seq_pad[~rows_with_inf]\n",
    "\n",
    "# X_seq_pad.shape\n",
    "\n"
   ]
  },
  {
   "cell_type": "code",
   "execution_count": 13,
   "id": "8557166f-c696-48d7-9764-7414f62fbe27",
   "metadata": {},
   "outputs": [
    {
     "data": {
      "text/plain": [
       "array([0, 0, 0, 0, 0, 0, 0, 0, 0, 0, 0, 0, 0, 0, 0, 0, 0, 0, 0, 0, 0, 0,\n",
       "       0, 0, 0, 0, 0, 0, 0, 0, 0, 0, 0, 0, 0, 0, 0, 0, 0, 0, 0, 0, 0, 0,\n",
       "       0, 0, 0, 0, 0, 0, 0, 0, 0, 0, 0, 0, 0, 0, 0, 0, 0, 0, 0, 0, 0, 0,\n",
       "       0, 0, 0, 0, 0, 0, 0, 0, 0, 0, 0, 0, 0, 0, 0, 0, 0, 0, 0, 0, 0, 0,\n",
       "       0, 0, 0, 0, 0, 0, 0, 0, 0, 0, 0, 0, 0, 0, 0, 0, 0, 0, 0, 0, 0, 0,\n",
       "       0, 0, 0, 0, 0, 0, 0, 0, 0, 0, 0, 0, 0, 0, 0, 0, 0, 0, 0, 0, 0, 0,\n",
       "       0, 0, 0, 0, 0, 0, 0, 0, 0, 0, 0, 0, 0, 0, 0, 0, 0, 0, 0, 0, 0, 0,\n",
       "       0, 0, 0, 0, 0, 0, 0, 0, 0, 0, 0, 0, 0, 0, 0, 0, 0, 0, 0, 0, 0, 0,\n",
       "       0, 0, 0, 0, 0, 6, 1, 4, 1, 7, 1, 2, 6, 1, 9, 1, 4, 1, 1, 1, 1, 9,\n",
       "       3, 1, 1, 1, 1, 7], dtype=int32)"
      ]
     },
     "execution_count": 13,
     "metadata": {},
     "output_type": "execute_result"
    }
   ],
   "source": [
    "X_seq_pad[200]"
   ]
  },
  {
   "cell_type": "markdown",
   "id": "4233710d-9274-4dae-b22d-cf42b57ad862",
   "metadata": {},
   "source": [
    "# Split"
   ]
  },
  {
   "cell_type": "code",
   "execution_count": 14,
   "id": "ce7a95e6-2486-42fb-97fb-865e3fd6a561",
   "metadata": {},
   "outputs": [],
   "source": [
    "from sklearn.model_selection import train_test_split"
   ]
  },
  {
   "cell_type": "code",
   "execution_count": 15,
   "id": "fcb9840f-2f41-45be-99a5-f05f3ab73ed8",
   "metadata": {},
   "outputs": [],
   "source": [
    "# Convert labels to a numpy array\n",
    "X_train, X_test, y_train, y_test = train_test_split(X_seq_pad, labels_array, test_size=0.2, random_state=999)\n",
    "X_train = np.delete(X_train,slice(4100,4150),axis=0)\n",
    "y_train = np.delete(y_train,slice(4100,4150),axis=0)"
   ]
  },
  {
   "cell_type": "code",
   "execution_count": 16,
   "id": "4ad17134-3e15-42d1-b8c9-0c793169e145",
   "metadata": {},
   "outputs": [
    {
     "data": {
      "text/plain": [
       "(4875, 4875, 1232, 1232)"
      ]
     },
     "execution_count": 16,
     "metadata": {},
     "output_type": "execute_result"
    }
   ],
   "source": [
    "len(X_train), len(y_train), len(X_test) , len(y_test)"
   ]
  },
  {
   "cell_type": "markdown",
   "id": "85941430-2534-4d7d-ba52-d934a31c1bf6",
   "metadata": {},
   "source": [
    "# Network Model"
   ]
  },
  {
   "cell_type": "code",
   "execution_count": 17,
   "id": "6bd5d1bf-4640-4cbc-acd3-72881ddcc07e",
   "metadata": {},
   "outputs": [],
   "source": [
    "from tensorflow.keras import Sequential\n",
    "from tensorflow.keras.layers import LSTM, Dense, Embedding, Bidirectional, Dropout, Activation, BatchNormalization\n",
    "from tensorflow.keras.callbacks import ModelCheckpoint\n",
    "from tensorflow.keras.optimizers import Adam, RMSprop\n",
    "from tensorflow.keras import backend as K"
   ]
  },
  {
   "cell_type": "code",
   "execution_count": 18,
   "id": "4bf115a2-9f1b-42b8-9b62-59728f1da977",
   "metadata": {},
   "outputs": [],
   "source": [
    "# Métrica\n",
    "def R2(y_true, y_pred):\n",
    "    SS_res =  K.sum(K.square( y_true-y_pred ))\n",
    "    SS_tot = K.sum(K.square( y_true - K.mean(y_true) ) )\n",
    "    return ( 1 - SS_res/(SS_tot + K.epsilon()) )"
   ]
  },
  {
   "cell_type": "code",
   "execution_count": 19,
   "id": "92d30b68-3110-459c-887d-a06f056d067b",
   "metadata": {},
   "outputs": [],
   "source": [
    "# vocab_size = # Completar largo del vocabulario\n",
    "vocab_size = len(list(tokenizer.word_index.keys()))"
   ]
  },
  {
   "cell_type": "code",
   "execution_count": 20,
   "id": "6166a72b-ccd1-459c-a3a1-fa43bf31a369",
   "metadata": {},
   "outputs": [],
   "source": [
    "max_sequence_len = len(max(X_seq_pad, key=len))"
   ]
  },
  {
   "cell_type": "markdown",
   "id": "cc91cd42-b885-4ab5-b348-57296b0c0d10",
   "metadata": {},
   "source": [
    "# Armar modelo en keras de LSTM\n",
    "El de abajo es un ejemplo propuesto pero puede armar otro similar (siempre con LSTM o GRU)"
   ]
  },
  {
   "cell_type": "raw",
   "id": "9883ed67-e2d9-412a-8f8b-1e463df69ed8",
   "metadata": {},
   "source": [
    "Model: \"sequential\"\n",
    "_________________________________________________________________\n",
    "Layer (type)                 Output Shape              Param #   \n",
    "=================================================================\n",
    "embedding (Embedding)        (None, 207, 64)           2496      \n",
    "_________________________________________________________________\n",
    "bidirectional (Bidirectional (None, 200)               132000    \n",
    "_________________________________________________________________\n",
    "dense (Dense)                (None, 50)                10050     \n",
    "_________________________________________________________________\n",
    "batch_normalization (BatchNo (None, 50)                200       \n",
    "_________________________________________________________________\n",
    "activation (Activation)      (None, 50)                0         \n",
    "_________________________________________________________________\n",
    "dense_1 (Dense)              (None, 1)                 51        \n",
    "=================================================================\n",
    "Total params: 144,797\n",
    "Trainable params: 144,697\n",
    "Non-trainable params: 100\n",
    "_________________________________________________________________"
   ]
  },
  {
   "cell_type": "code",
   "execution_count": 21,
   "id": "d05209e0-5358-40c0-b806-2e98367e9f1c",
   "metadata": {},
   "outputs": [
    {
     "name": "stdout",
     "output_type": "stream",
     "text": [
      "Model: \"sequential\"\n",
      "_________________________________________________________________\n",
      " Layer (type)                Output Shape              Param #   \n",
      "=================================================================\n",
      " embedding (Embedding)       (None, 204, 256)          8704      \n",
      "                                                                 \n",
      " bidirectional (Bidirection  (None, 200)               285600    \n",
      " al)                                                             \n",
      "                                                                 \n",
      " dense (Dense)               (None, 125)               25125     \n",
      "                                                                 \n",
      " batch_normalization (Batch  (None, 125)               500       \n",
      " Normalization)                                                  \n",
      "                                                                 \n",
      " activation (Activation)     (None, 125)               0         \n",
      "                                                                 \n",
      " dense_1 (Dense)             (None, 1)                 126       \n",
      "                                                                 \n",
      "=================================================================\n",
      "Total params: 320055 (1.22 MB)\n",
      "Trainable params: 319805 (1.22 MB)\n",
      "Non-trainable params: 250 (1000.00 Byte)\n",
      "_________________________________________________________________\n"
     ]
    }
   ],
   "source": [
    "import numpy as np\n",
    "import tensorflow as tf\n",
    "from tensorflow.keras.models import Sequential\n",
    "from tensorflow.keras.layers import Embedding, Bidirectional, Dense, BatchNormalization, Activation, LSTM\n",
    "from tensorflow.keras.callbacks import ReduceLROnPlateau, EarlyStopping\n",
    "from tensorflow.keras.regularizers import l2\n",
    "from tensorflow.keras.optimizers import Adam, RMSprop, Adagrad\n",
    "from tensorflow.keras.preprocessing.text import Tokenizer\n",
    "from tensorflow.keras.preprocessing.sequence import pad_sequences\n",
    "\n",
    "# Build the sequential model\n",
    "model = Sequential()\n",
    "\n",
    "# Embedding layer\n",
    "model.add(Embedding(input_dim=len(tokenizer.word_index) + 1, output_dim=256, input_length=X_seq_pad.shape[1]))\n",
    "\n",
    "# Bidirectional LSTM layer with L2 regularization\n",
    "model.add(Bidirectional(LSTM(100, return_sequences=False, kernel_regularizer=l2(0.01))))\n",
    "\n",
    "# Dense layer with L2 regularization\n",
    "model.add(Dense(125, kernel_regularizer=l2(0.01)))\n",
    "\n",
    "# Batch normalization layer\n",
    "model.add(BatchNormalization())\n",
    "\n",
    "# Activation layer\n",
    "model.add(Activation('relu'))\n",
    "\n",
    "# Output dense layer\n",
    "model.add(Dense(1))\n",
    "\n",
    "# Print the model summary\n",
    "model.summary()\n",
    "\n",
    "# Learning rate scheduler\n",
    "lr_scheduler = ReduceLROnPlateau(monitor='val_loss', factor=0.5, patience=5, min_lr=1e-6)\n",
    "\n",
    "# Early stopping\n",
    "early_stopping = EarlyStopping(monitor='val_loss', patience=15, restore_best_weights=True)\n",
    "\n",
    "# Compile the model\n",
    "model.compile(optimizer=RMSprop(learning_rate=0.001, clipvalue=0.1), loss='mse', metrics=[R2])"
   ]
  },
  {
   "cell_type": "code",
   "execution_count": 22,
   "id": "62c3f792-f413-4150-8ebf-1f59c5fb986d",
   "metadata": {},
   "outputs": [],
   "source": [
    "mcp = ModelCheckpoint('models/best_model_{epoch}', save_best_only=True, save_format=\"h5\")"
   ]
  },
  {
   "cell_type": "code",
   "execution_count": 23,
   "id": "3f37ab4e-0e3a-44c6-a572-ba5c67930c61",
   "metadata": {},
   "outputs": [
    {
     "name": "stdout",
     "output_type": "stream",
     "text": [
      "Epoch 1/150\n",
      "153/153 [==============================] - ETA: 0s - loss: 9.5636 - R2: -2.1552INFO:tensorflow:Assets written to: models/best_model_1/assets\n"
     ]
    },
    {
     "name": "stderr",
     "output_type": "stream",
     "text": [
      "INFO:tensorflow:Assets written to: models/best_model_1/assets\n"
     ]
    },
    {
     "name": "stdout",
     "output_type": "stream",
     "text": [
      "153/153 [==============================] - 30s 177ms/step - loss: 9.5636 - R2: -2.1552 - val_loss: 9.6102 - val_R2: -2.5207 - lr: 0.0010\n",
      "Epoch 2/150\n",
      "153/153 [==============================] - ETA: 0s - loss: 3.9159 - R2: -0.2573INFO:tensorflow:Assets written to: models/best_model_2/assets\n"
     ]
    },
    {
     "name": "stderr",
     "output_type": "stream",
     "text": [
      "INFO:tensorflow:Assets written to: models/best_model_2/assets\n"
     ]
    },
    {
     "name": "stdout",
     "output_type": "stream",
     "text": [
      "153/153 [==============================] - 26s 171ms/step - loss: 3.9159 - R2: -0.2573 - val_loss: 7.3173 - val_R2: -1.7550 - lr: 0.0010\n",
      "Epoch 3/150\n",
      "153/153 [==============================] - ETA: 0s - loss: 3.2710 - R2: -0.1750INFO:tensorflow:Assets written to: models/best_model_3/assets\n"
     ]
    },
    {
     "name": "stderr",
     "output_type": "stream",
     "text": [
      "INFO:tensorflow:Assets written to: models/best_model_3/assets\n"
     ]
    },
    {
     "name": "stdout",
     "output_type": "stream",
     "text": [
      "153/153 [==============================] - 23s 154ms/step - loss: 3.2710 - R2: -0.1750 - val_loss: 4.6045 - val_R2: -0.6669 - lr: 0.0010\n",
      "Epoch 4/150\n",
      "153/153 [==============================] - ETA: 0s - loss: 2.9073 - R2: -0.0560INFO:tensorflow:Assets written to: models/best_model_4/assets\n"
     ]
    },
    {
     "name": "stderr",
     "output_type": "stream",
     "text": [
      "INFO:tensorflow:Assets written to: models/best_model_4/assets\n"
     ]
    },
    {
     "name": "stdout",
     "output_type": "stream",
     "text": [
      "153/153 [==============================] - 28s 182ms/step - loss: 2.9073 - R2: -0.0560 - val_loss: 3.0767 - val_R2: -0.0723 - lr: 0.0010\n",
      "Epoch 5/150\n",
      "153/153 [==============================] - ETA: 0s - loss: 2.7232 - R2: -0.0415INFO:tensorflow:Assets written to: models/best_model_5/assets\n"
     ]
    },
    {
     "name": "stderr",
     "output_type": "stream",
     "text": [
      "INFO:tensorflow:Assets written to: models/best_model_5/assets\n"
     ]
    },
    {
     "name": "stdout",
     "output_type": "stream",
     "text": [
      "153/153 [==============================] - 32s 206ms/step - loss: 2.7232 - R2: -0.0415 - val_loss: 2.3991 - val_R2: 0.1545 - lr: 0.0010\n",
      "Epoch 6/150\n",
      "153/153 [==============================] - ETA: 0s - loss: 2.5208 - R2: 0.0304INFO:tensorflow:Assets written to: models/best_model_6/assets\n"
     ]
    },
    {
     "name": "stderr",
     "output_type": "stream",
     "text": [
      "INFO:tensorflow:Assets written to: models/best_model_6/assets\n"
     ]
    },
    {
     "name": "stdout",
     "output_type": "stream",
     "text": [
      "153/153 [==============================] - 43s 278ms/step - loss: 2.5208 - R2: 0.0304 - val_loss: 2.3602 - val_R2: 0.1378 - lr: 0.0010\n",
      "Epoch 7/150\n",
      "153/153 [==============================] - 29s 191ms/step - loss: 2.4701 - R2: -0.0051 - val_loss: 3.0381 - val_R2: -0.1451 - lr: 0.0010\n",
      "Epoch 8/150\n",
      "153/153 [==============================] - 29s 192ms/step - loss: 2.3983 - R2: 0.0402 - val_loss: 2.4575 - val_R2: 0.0840 - lr: 0.0010\n",
      "Epoch 9/150\n",
      "153/153 [==============================] - 31s 202ms/step - loss: 2.2605 - R2: 0.0969 - val_loss: 2.8764 - val_R2: -0.0832 - lr: 0.0010\n",
      "Epoch 10/150\n",
      "153/153 [==============================] - ETA: 0s - loss: 2.2565 - R2: 0.0868INFO:tensorflow:Assets written to: models/best_model_10/assets\n"
     ]
    },
    {
     "name": "stderr",
     "output_type": "stream",
     "text": [
      "INFO:tensorflow:Assets written to: models/best_model_10/assets\n"
     ]
    },
    {
     "name": "stdout",
     "output_type": "stream",
     "text": [
      "153/153 [==============================] - 31s 201ms/step - loss: 2.2565 - R2: 0.0868 - val_loss: 2.0830 - val_R2: 0.2247 - lr: 0.0010\n",
      "Epoch 11/150\n",
      "153/153 [==============================] - 25s 161ms/step - loss: 2.1139 - R2: 0.1544 - val_loss: 2.6842 - val_R2: -0.0252 - lr: 0.0010\n",
      "Epoch 12/150\n",
      "153/153 [==============================] - 24s 156ms/step - loss: 2.1133 - R2: 0.1550 - val_loss: 2.2763 - val_R2: 0.1465 - lr: 0.0010\n",
      "Epoch 13/150\n",
      "153/153 [==============================] - 25s 166ms/step - loss: 2.0139 - R2: 0.1896 - val_loss: 2.3115 - val_R2: 0.0954 - lr: 0.0010\n",
      "Epoch 14/150\n",
      "153/153 [==============================] - ETA: 0s - loss: 2.0073 - R2: 0.1860INFO:tensorflow:Assets written to: models/best_model_14/assets\n"
     ]
    },
    {
     "name": "stderr",
     "output_type": "stream",
     "text": [
      "INFO:tensorflow:Assets written to: models/best_model_14/assets\n"
     ]
    },
    {
     "name": "stdout",
     "output_type": "stream",
     "text": [
      "153/153 [==============================] - 32s 210ms/step - loss: 2.0073 - R2: 0.1860 - val_loss: 2.0440 - val_R2: 0.2303 - lr: 0.0010\n",
      "Epoch 15/150\n",
      "153/153 [==============================] - 24s 160ms/step - loss: 1.9559 - R2: 0.1999 - val_loss: 2.2932 - val_R2: 0.1080 - lr: 0.0010\n",
      "Epoch 16/150\n",
      "153/153 [==============================] - 26s 170ms/step - loss: 1.9205 - R2: 0.2225 - val_loss: 2.2111 - val_R2: 0.1472 - lr: 0.0010\n",
      "Epoch 17/150\n",
      "153/153 [==============================] - 27s 175ms/step - loss: 1.9139 - R2: 0.2258 - val_loss: 2.1455 - val_R2: 0.1776 - lr: 0.0010\n",
      "Epoch 18/150\n",
      "153/153 [==============================] - 26s 172ms/step - loss: 1.8650 - R2: 0.2444 - val_loss: 2.0945 - val_R2: 0.1907 - lr: 0.0010\n",
      "Epoch 19/150\n",
      "153/153 [==============================] - 24s 159ms/step - loss: 1.8291 - R2: 0.2503 - val_loss: 2.4928 - val_R2: 0.0333 - lr: 0.0010\n",
      "Epoch 20/150\n",
      "153/153 [==============================] - ETA: 0s - loss: 1.6360 - R2: 0.3527INFO:tensorflow:Assets written to: models/best_model_20/assets\n"
     ]
    },
    {
     "name": "stderr",
     "output_type": "stream",
     "text": [
      "INFO:tensorflow:Assets written to: models/best_model_20/assets\n"
     ]
    },
    {
     "name": "stdout",
     "output_type": "stream",
     "text": [
      "153/153 [==============================] - 34s 219ms/step - loss: 1.6360 - R2: 0.3527 - val_loss: 1.8872 - val_R2: 0.2670 - lr: 5.0000e-04\n",
      "Epoch 21/150\n",
      "153/153 [==============================] - ETA: 0s - loss: 1.5940 - R2: 0.3630INFO:tensorflow:Assets written to: models/best_model_21/assets\n"
     ]
    },
    {
     "name": "stderr",
     "output_type": "stream",
     "text": [
      "INFO:tensorflow:Assets written to: models/best_model_21/assets\n"
     ]
    },
    {
     "name": "stdout",
     "output_type": "stream",
     "text": [
      "153/153 [==============================] - 32s 212ms/step - loss: 1.5940 - R2: 0.3630 - val_loss: 1.7540 - val_R2: 0.3377 - lr: 5.0000e-04\n",
      "Epoch 22/150\n",
      "153/153 [==============================] - 25s 162ms/step - loss: 1.5349 - R2: 0.3855 - val_loss: 1.7971 - val_R2: 0.3079 - lr: 5.0000e-04\n",
      "Epoch 23/150\n",
      "153/153 [==============================] - 25s 164ms/step - loss: 1.5688 - R2: 0.3567 - val_loss: 1.7855 - val_R2: 0.3223 - lr: 5.0000e-04\n",
      "Epoch 24/150\n",
      "153/153 [==============================] - ETA: 0s - loss: 1.5256 - R2: 0.3781INFO:tensorflow:Assets written to: models/best_model_24/assets\n"
     ]
    },
    {
     "name": "stderr",
     "output_type": "stream",
     "text": [
      "INFO:tensorflow:Assets written to: models/best_model_24/assets\n"
     ]
    },
    {
     "name": "stdout",
     "output_type": "stream",
     "text": [
      "153/153 [==============================] - 30s 199ms/step - loss: 1.5256 - R2: 0.3781 - val_loss: 1.7376 - val_R2: 0.3300 - lr: 5.0000e-04\n",
      "Epoch 25/150\n",
      "153/153 [==============================] - ETA: 0s - loss: 1.4900 - R2: 0.3952INFO:tensorflow:Assets written to: models/best_model_25/assets\n"
     ]
    },
    {
     "name": "stderr",
     "output_type": "stream",
     "text": [
      "INFO:tensorflow:Assets written to: models/best_model_25/assets\n"
     ]
    },
    {
     "name": "stdout",
     "output_type": "stream",
     "text": [
      "153/153 [==============================] - 30s 196ms/step - loss: 1.4900 - R2: 0.3952 - val_loss: 1.6142 - val_R2: 0.3868 - lr: 5.0000e-04\n",
      "Epoch 26/150\n",
      "153/153 [==============================] - 24s 160ms/step - loss: 1.4872 - R2: 0.3919 - val_loss: 1.8515 - val_R2: 0.2879 - lr: 5.0000e-04\n",
      "Epoch 27/150\n",
      "153/153 [==============================] - 26s 171ms/step - loss: 1.4303 - R2: 0.4254 - val_loss: 1.6319 - val_R2: 0.3818 - lr: 5.0000e-04\n",
      "Epoch 28/150\n",
      "153/153 [==============================] - 26s 170ms/step - loss: 1.4107 - R2: 0.4325 - val_loss: 1.7245 - val_R2: 0.3448 - lr: 5.0000e-04\n",
      "Epoch 29/150\n",
      "153/153 [==============================] - 24s 155ms/step - loss: 1.3867 - R2: 0.4462 - val_loss: 1.6499 - val_R2: 0.3730 - lr: 5.0000e-04\n",
      "Epoch 30/150\n",
      "153/153 [==============================] - ETA: 0s - loss: 1.3574 - R2: 0.4541INFO:tensorflow:Assets written to: models/best_model_30/assets\n"
     ]
    },
    {
     "name": "stderr",
     "output_type": "stream",
     "text": [
      "INFO:tensorflow:Assets written to: models/best_model_30/assets\n"
     ]
    },
    {
     "name": "stdout",
     "output_type": "stream",
     "text": [
      "153/153 [==============================] - 30s 194ms/step - loss: 1.3574 - R2: 0.4541 - val_loss: 1.5216 - val_R2: 0.4233 - lr: 5.0000e-04\n",
      "Epoch 31/150\n",
      "153/153 [==============================] - 24s 154ms/step - loss: 1.3604 - R2: 0.4470 - val_loss: 1.6801 - val_R2: 0.3662 - lr: 5.0000e-04\n",
      "Epoch 32/150\n",
      "153/153 [==============================] - 24s 155ms/step - loss: 1.3374 - R2: 0.4517 - val_loss: 1.5862 - val_R2: 0.3907 - lr: 5.0000e-04\n",
      "Epoch 33/150\n",
      "153/153 [==============================] - 24s 155ms/step - loss: 1.2839 - R2: 0.4837 - val_loss: 1.6397 - val_R2: 0.3651 - lr: 5.0000e-04\n",
      "Epoch 34/150\n",
      "153/153 [==============================] - 25s 163ms/step - loss: 1.2798 - R2: 0.4834 - val_loss: 1.5254 - val_R2: 0.4297 - lr: 5.0000e-04\n",
      "Epoch 35/150\n",
      "153/153 [==============================] - 25s 167ms/step - loss: 1.2776 - R2: 0.4842 - val_loss: 1.5277 - val_R2: 0.4172 - lr: 5.0000e-04\n",
      "Epoch 36/150\n",
      "153/153 [==============================] - ETA: 0s - loss: 1.1604 - R2: 0.5381INFO:tensorflow:Assets written to: models/best_model_36/assets\n"
     ]
    },
    {
     "name": "stderr",
     "output_type": "stream",
     "text": [
      "INFO:tensorflow:Assets written to: models/best_model_36/assets\n"
     ]
    },
    {
     "name": "stdout",
     "output_type": "stream",
     "text": [
      "153/153 [==============================] - 32s 208ms/step - loss: 1.1604 - R2: 0.5381 - val_loss: 1.3982 - val_R2: 0.4627 - lr: 2.5000e-04\n",
      "Epoch 37/150\n",
      "153/153 [==============================] - 24s 155ms/step - loss: 1.1173 - R2: 0.5467 - val_loss: 1.4481 - val_R2: 0.4439 - lr: 2.5000e-04\n",
      "Epoch 38/150\n",
      "153/153 [==============================] - 24s 154ms/step - loss: 1.1244 - R2: 0.5376 - val_loss: 1.4092 - val_R2: 0.4688 - lr: 2.5000e-04\n",
      "Epoch 39/150\n",
      "153/153 [==============================] - 24s 157ms/step - loss: 1.0983 - R2: 0.5632 - val_loss: 1.4371 - val_R2: 0.4431 - lr: 2.5000e-04\n",
      "Epoch 40/150\n",
      "153/153 [==============================] - 24s 156ms/step - loss: 1.0779 - R2: 0.5631 - val_loss: 1.4299 - val_R2: 0.4576 - lr: 2.5000e-04\n",
      "Epoch 41/150\n",
      "153/153 [==============================] - 24s 154ms/step - loss: 1.0485 - R2: 0.5743 - val_loss: 1.4819 - val_R2: 0.4180 - lr: 2.5000e-04\n",
      "Epoch 42/150\n",
      "153/153 [==============================] - ETA: 0s - loss: 1.0081 - R2: 0.5948INFO:tensorflow:Assets written to: models/best_model_42/assets\n"
     ]
    },
    {
     "name": "stderr",
     "output_type": "stream",
     "text": [
      "INFO:tensorflow:Assets written to: models/best_model_42/assets\n"
     ]
    },
    {
     "name": "stdout",
     "output_type": "stream",
     "text": [
      "153/153 [==============================] - 29s 189ms/step - loss: 1.0081 - R2: 0.5948 - val_loss: 1.3189 - val_R2: 0.4947 - lr: 1.2500e-04\n",
      "Epoch 43/150\n",
      "153/153 [==============================] - 24s 155ms/step - loss: 0.9903 - R2: 0.6007 - val_loss: 1.3346 - val_R2: 0.4895 - lr: 1.2500e-04\n",
      "Epoch 44/150\n",
      "153/153 [==============================] - ETA: 0s - loss: 0.9716 - R2: 0.6178INFO:tensorflow:Assets written to: models/best_model_44/assets\n"
     ]
    },
    {
     "name": "stderr",
     "output_type": "stream",
     "text": [
      "INFO:tensorflow:Assets written to: models/best_model_44/assets\n"
     ]
    },
    {
     "name": "stdout",
     "output_type": "stream",
     "text": [
      "153/153 [==============================] - 29s 189ms/step - loss: 0.9716 - R2: 0.6178 - val_loss: 1.2950 - val_R2: 0.5038 - lr: 1.2500e-04\n",
      "Epoch 45/150\n",
      "153/153 [==============================] - 24s 155ms/step - loss: 0.9657 - R2: 0.6072 - val_loss: 1.3139 - val_R2: 0.4940 - lr: 1.2500e-04\n",
      "Epoch 46/150\n",
      "153/153 [==============================] - 24s 155ms/step - loss: 0.9620 - R2: 0.6147 - val_loss: 1.3289 - val_R2: 0.4830 - lr: 1.2500e-04\n",
      "Epoch 47/150\n",
      "153/153 [==============================] - ETA: 0s - loss: 0.9704 - R2: 0.6075INFO:tensorflow:Assets written to: models/best_model_47/assets\n"
     ]
    },
    {
     "name": "stderr",
     "output_type": "stream",
     "text": [
      "INFO:tensorflow:Assets written to: models/best_model_47/assets\n"
     ]
    },
    {
     "name": "stdout",
     "output_type": "stream",
     "text": [
      "153/153 [==============================] - 30s 194ms/step - loss: 0.9704 - R2: 0.6075 - val_loss: 1.2930 - val_R2: 0.5013 - lr: 1.2500e-04\n",
      "Epoch 48/150\n",
      "153/153 [==============================] - 24s 159ms/step - loss: 0.9330 - R2: 0.6338 - val_loss: 1.3423 - val_R2: 0.4823 - lr: 1.2500e-04\n",
      "Epoch 49/150\n",
      "153/153 [==============================] - ETA: 0s - loss: 0.9199 - R2: 0.6313INFO:tensorflow:Assets written to: models/best_model_49/assets\n"
     ]
    },
    {
     "name": "stderr",
     "output_type": "stream",
     "text": [
      "INFO:tensorflow:Assets written to: models/best_model_49/assets\n"
     ]
    },
    {
     "name": "stdout",
     "output_type": "stream",
     "text": [
      "153/153 [==============================] - 30s 199ms/step - loss: 0.9199 - R2: 0.6313 - val_loss: 1.2838 - val_R2: 0.5029 - lr: 1.2500e-04\n",
      "Epoch 50/150\n",
      "153/153 [==============================] - 25s 161ms/step - loss: 0.9286 - R2: 0.6301 - val_loss: 1.3550 - val_R2: 0.4732 - lr: 1.2500e-04\n",
      "Epoch 51/150\n",
      "153/153 [==============================] - 25s 161ms/step - loss: 0.9228 - R2: 0.6277 - val_loss: 1.3178 - val_R2: 0.4914 - lr: 1.2500e-04\n",
      "Epoch 52/150\n",
      "153/153 [==============================] - ETA: 0s - loss: 0.9156 - R2: 0.6305INFO:tensorflow:Assets written to: models/best_model_52/assets\n"
     ]
    },
    {
     "name": "stderr",
     "output_type": "stream",
     "text": [
      "INFO:tensorflow:Assets written to: models/best_model_52/assets\n"
     ]
    },
    {
     "name": "stdout",
     "output_type": "stream",
     "text": [
      "153/153 [==============================] - 33s 216ms/step - loss: 0.9156 - R2: 0.6305 - val_loss: 1.2629 - val_R2: 0.5122 - lr: 1.2500e-04\n",
      "Epoch 53/150\n",
      "153/153 [==============================] - 24s 160ms/step - loss: 0.9146 - R2: 0.6331 - val_loss: 1.2694 - val_R2: 0.5106 - lr: 1.2500e-04\n",
      "Epoch 54/150\n",
      "153/153 [==============================] - 24s 154ms/step - loss: 0.8991 - R2: 0.6354 - val_loss: 1.3172 - val_R2: 0.4884 - lr: 1.2500e-04\n",
      "Epoch 55/150\n",
      "153/153 [==============================] - 24s 155ms/step - loss: 0.8849 - R2: 0.6495 - val_loss: 1.3346 - val_R2: 0.4820 - lr: 1.2500e-04\n",
      "Epoch 56/150\n",
      "153/153 [==============================] - 23s 154ms/step - loss: 0.8786 - R2: 0.6489 - val_loss: 1.3203 - val_R2: 0.4841 - lr: 1.2500e-04\n",
      "Epoch 57/150\n",
      "153/153 [==============================] - 24s 154ms/step - loss: 0.8647 - R2: 0.6583 - val_loss: 1.2672 - val_R2: 0.5094 - lr: 1.2500e-04\n",
      "Epoch 58/150\n",
      "153/153 [==============================] - 26s 167ms/step - loss: 0.8411 - R2: 0.6556 - val_loss: 1.2801 - val_R2: 0.5039 - lr: 6.2500e-05\n",
      "Epoch 59/150\n",
      "153/153 [==============================] - ETA: 0s - loss: 0.8417 - R2: 0.6599INFO:tensorflow:Assets written to: models/best_model_59/assets\n"
     ]
    },
    {
     "name": "stderr",
     "output_type": "stream",
     "text": [
      "INFO:tensorflow:Assets written to: models/best_model_59/assets\n"
     ]
    },
    {
     "name": "stdout",
     "output_type": "stream",
     "text": [
      "153/153 [==============================] - 30s 197ms/step - loss: 0.8417 - R2: 0.6599 - val_loss: 1.2601 - val_R2: 0.5129 - lr: 6.2500e-05\n",
      "Epoch 60/150\n",
      "153/153 [==============================] - ETA: 0s - loss: 0.8380 - R2: 0.6641INFO:tensorflow:Assets written to: models/best_model_60/assets\n"
     ]
    },
    {
     "name": "stderr",
     "output_type": "stream",
     "text": [
      "INFO:tensorflow:Assets written to: models/best_model_60/assets\n"
     ]
    },
    {
     "name": "stdout",
     "output_type": "stream",
     "text": [
      "153/153 [==============================] - 30s 197ms/step - loss: 0.8380 - R2: 0.6641 - val_loss: 1.2376 - val_R2: 0.5223 - lr: 6.2500e-05\n",
      "Epoch 61/150\n",
      "153/153 [==============================] - 24s 159ms/step - loss: 0.8359 - R2: 0.6636 - val_loss: 1.2621 - val_R2: 0.5126 - lr: 6.2500e-05\n",
      "Epoch 62/150\n",
      "153/153 [==============================] - 25s 167ms/step - loss: 0.8072 - R2: 0.6868 - val_loss: 1.2392 - val_R2: 0.5208 - lr: 6.2500e-05\n",
      "Epoch 63/150\n",
      "153/153 [==============================] - ETA: 0s - loss: 0.8085 - R2: 0.6832INFO:tensorflow:Assets written to: models/best_model_63/assets\n"
     ]
    },
    {
     "name": "stderr",
     "output_type": "stream",
     "text": [
      "INFO:tensorflow:Assets written to: models/best_model_63/assets\n"
     ]
    },
    {
     "name": "stdout",
     "output_type": "stream",
     "text": [
      "153/153 [==============================] - 31s 205ms/step - loss: 0.8085 - R2: 0.6832 - val_loss: 1.2370 - val_R2: 0.5214 - lr: 6.2500e-05\n",
      "Epoch 64/150\n",
      "153/153 [==============================] - 26s 171ms/step - loss: 0.8029 - R2: 0.6793 - val_loss: 1.2598 - val_R2: 0.5124 - lr: 6.2500e-05\n",
      "Epoch 65/150\n",
      "153/153 [==============================] - ETA: 0s - loss: 0.8231 - R2: 0.6738INFO:tensorflow:Assets written to: models/best_model_65/assets\n"
     ]
    },
    {
     "name": "stderr",
     "output_type": "stream",
     "text": [
      "INFO:tensorflow:Assets written to: models/best_model_65/assets\n"
     ]
    },
    {
     "name": "stdout",
     "output_type": "stream",
     "text": [
      "153/153 [==============================] - 33s 217ms/step - loss: 0.8231 - R2: 0.6738 - val_loss: 1.2331 - val_R2: 0.5220 - lr: 6.2500e-05\n",
      "Epoch 66/150\n",
      "153/153 [==============================] - 26s 169ms/step - loss: 0.8060 - R2: 0.6755 - val_loss: 1.2405 - val_R2: 0.5205 - lr: 6.2500e-05\n",
      "Epoch 67/150\n",
      "153/153 [==============================] - 25s 166ms/step - loss: 0.7799 - R2: 0.6963 - val_loss: 1.2407 - val_R2: 0.5214 - lr: 6.2500e-05\n",
      "Epoch 68/150\n",
      "153/153 [==============================] - ETA: 0s - loss: 0.8025 - R2: 0.6814INFO:tensorflow:Assets written to: models/best_model_68/assets\n"
     ]
    },
    {
     "name": "stderr",
     "output_type": "stream",
     "text": [
      "INFO:tensorflow:Assets written to: models/best_model_68/assets\n"
     ]
    },
    {
     "name": "stdout",
     "output_type": "stream",
     "text": [
      "153/153 [==============================] - 33s 213ms/step - loss: 0.8025 - R2: 0.6814 - val_loss: 1.2259 - val_R2: 0.5243 - lr: 6.2500e-05\n",
      "Epoch 69/150\n",
      "153/153 [==============================] - 25s 164ms/step - loss: 0.7874 - R2: 0.6870 - val_loss: 1.2506 - val_R2: 0.5150 - lr: 6.2500e-05\n",
      "Epoch 70/150\n",
      "153/153 [==============================] - 25s 166ms/step - loss: 0.7872 - R2: 0.6810 - val_loss: 1.2331 - val_R2: 0.5231 - lr: 6.2500e-05\n",
      "Epoch 71/150\n",
      "153/153 [==============================] - 27s 175ms/step - loss: 0.7915 - R2: 0.6886 - val_loss: 1.2272 - val_R2: 0.5263 - lr: 6.2500e-05\n",
      "Epoch 72/150\n",
      "153/153 [==============================] - 25s 166ms/step - loss: 0.7907 - R2: 0.6773 - val_loss: 1.2328 - val_R2: 0.5250 - lr: 6.2500e-05\n",
      "Epoch 73/150\n",
      "153/153 [==============================] - ETA: 0s - loss: 0.7895 - R2: 0.6836INFO:tensorflow:Assets written to: models/best_model_73/assets\n"
     ]
    },
    {
     "name": "stderr",
     "output_type": "stream",
     "text": [
      "INFO:tensorflow:Assets written to: models/best_model_73/assets\n"
     ]
    },
    {
     "name": "stdout",
     "output_type": "stream",
     "text": [
      "153/153 [==============================] - 32s 208ms/step - loss: 0.7895 - R2: 0.6836 - val_loss: 1.2201 - val_R2: 0.5276 - lr: 6.2500e-05\n",
      "Epoch 74/150\n",
      "153/153 [==============================] - 25s 164ms/step - loss: 0.7818 - R2: 0.6848 - val_loss: 1.2431 - val_R2: 0.5184 - lr: 6.2500e-05\n",
      "Epoch 75/150\n",
      "153/153 [==============================] - 27s 176ms/step - loss: 0.7595 - R2: 0.6923 - val_loss: 1.2314 - val_R2: 0.5253 - lr: 6.2500e-05\n",
      "Epoch 76/150\n",
      "153/153 [==============================] - 27s 175ms/step - loss: 0.7940 - R2: 0.6798 - val_loss: 1.2501 - val_R2: 0.5148 - lr: 6.2500e-05\n",
      "Epoch 77/150\n",
      "153/153 [==============================] - 27s 174ms/step - loss: 0.7660 - R2: 0.6978 - val_loss: 1.2564 - val_R2: 0.5129 - lr: 6.2500e-05\n",
      "Epoch 78/150\n",
      "153/153 [==============================] - 25s 166ms/step - loss: 0.7650 - R2: 0.6893 - val_loss: 1.2423 - val_R2: 0.5205 - lr: 6.2500e-05\n",
      "Epoch 79/150\n",
      "153/153 [==============================] - 25s 164ms/step - loss: 0.7549 - R2: 0.6963 - val_loss: 1.2228 - val_R2: 0.5271 - lr: 3.1250e-05\n",
      "Epoch 80/150\n",
      "153/153 [==============================] - 25s 165ms/step - loss: 0.7480 - R2: 0.6936 - val_loss: 1.2432 - val_R2: 0.5182 - lr: 3.1250e-05\n",
      "Epoch 81/150\n",
      "153/153 [==============================] - 26s 173ms/step - loss: 0.7414 - R2: 0.7085 - val_loss: 1.2384 - val_R2: 0.5183 - lr: 3.1250e-05\n",
      "Epoch 82/150\n",
      "153/153 [==============================] - 26s 170ms/step - loss: 0.7427 - R2: 0.7058 - val_loss: 1.2272 - val_R2: 0.5242 - lr: 3.1250e-05\n",
      "Epoch 83/150\n",
      "153/153 [==============================] - 25s 165ms/step - loss: 0.7386 - R2: 0.7101 - val_loss: 1.2258 - val_R2: 0.5261 - lr: 3.1250e-05\n",
      "Epoch 84/150\n",
      "153/153 [==============================] - ETA: 0s - loss: 0.7232 - R2: 0.7147INFO:tensorflow:Assets written to: models/best_model_84/assets\n"
     ]
    },
    {
     "name": "stderr",
     "output_type": "stream",
     "text": [
      "INFO:tensorflow:Assets written to: models/best_model_84/assets\n"
     ]
    },
    {
     "name": "stdout",
     "output_type": "stream",
     "text": [
      "153/153 [==============================] - 31s 205ms/step - loss: 0.7232 - R2: 0.7147 - val_loss: 1.2183 - val_R2: 0.5281 - lr: 1.5625e-05\n",
      "Epoch 85/150\n",
      "153/153 [==============================] - 25s 162ms/step - loss: 0.7249 - R2: 0.7161 - val_loss: 1.2250 - val_R2: 0.5275 - lr: 1.5625e-05\n",
      "Epoch 86/150\n",
      "153/153 [==============================] - 25s 163ms/step - loss: 0.7160 - R2: 0.7199 - val_loss: 1.2192 - val_R2: 0.5293 - lr: 1.5625e-05\n",
      "Epoch 87/150\n",
      "153/153 [==============================] - 26s 169ms/step - loss: 0.7220 - R2: 0.7121 - val_loss: 1.2316 - val_R2: 0.5237 - lr: 1.5625e-05\n",
      "Epoch 88/150\n",
      "153/153 [==============================] - 26s 170ms/step - loss: 0.7182 - R2: 0.7187 - val_loss: 1.2222 - val_R2: 0.5266 - lr: 1.5625e-05\n",
      "Epoch 89/150\n",
      "153/153 [==============================] - 28s 182ms/step - loss: 0.7112 - R2: 0.7239 - val_loss: 1.2239 - val_R2: 0.5265 - lr: 1.5625e-05\n",
      "Epoch 90/150\n",
      "153/153 [==============================] - 26s 170ms/step - loss: 0.7233 - R2: 0.7172 - val_loss: 1.2338 - val_R2: 0.5217 - lr: 7.8125e-06\n",
      "Epoch 91/150\n",
      "153/153 [==============================] - 25s 162ms/step - loss: 0.7100 - R2: 0.7148 - val_loss: 1.2357 - val_R2: 0.5215 - lr: 7.8125e-06\n",
      "Epoch 92/150\n",
      "153/153 [==============================] - 24s 157ms/step - loss: 0.7172 - R2: 0.7120 - val_loss: 1.2243 - val_R2: 0.5258 - lr: 7.8125e-06\n",
      "Epoch 93/150\n",
      "153/153 [==============================] - 24s 158ms/step - loss: 0.7218 - R2: 0.7133 - val_loss: 1.2349 - val_R2: 0.5213 - lr: 7.8125e-06\n",
      "Epoch 94/150\n",
      "153/153 [==============================] - 24s 159ms/step - loss: 0.7218 - R2: 0.7112 - val_loss: 1.2279 - val_R2: 0.5246 - lr: 7.8125e-06\n",
      "Epoch 95/150\n",
      "153/153 [==============================] - 25s 166ms/step - loss: 0.7012 - R2: 0.7285 - val_loss: 1.2282 - val_R2: 0.5242 - lr: 3.9063e-06\n",
      "Epoch 96/150\n",
      "153/153 [==============================] - 28s 182ms/step - loss: 0.7114 - R2: 0.7177 - val_loss: 1.2297 - val_R2: 0.5238 - lr: 3.9063e-06\n",
      "Epoch 97/150\n",
      "153/153 [==============================] - 27s 178ms/step - loss: 0.7089 - R2: 0.7186 - val_loss: 1.2300 - val_R2: 0.5236 - lr: 3.9063e-06\n",
      "Epoch 98/150\n",
      "153/153 [==============================] - 27s 175ms/step - loss: 0.6970 - R2: 0.7264 - val_loss: 1.2322 - val_R2: 0.5225 - lr: 3.9063e-06\n",
      "Epoch 99/150\n",
      "153/153 [==============================] - 25s 165ms/step - loss: 0.7111 - R2: 0.7176 - val_loss: 1.2326 - val_R2: 0.5222 - lr: 3.9063e-06\n"
     ]
    }
   ],
   "source": [
    "history = model.fit(X_train, y_train, epochs=150, batch_size=32, validation_data=(X_test, y_test), callbacks=[lr_scheduler, early_stopping,mcp])"
   ]
  },
  {
   "cell_type": "code",
   "execution_count": 33,
   "id": "0084fbb1-e83e-4808-99bf-1458f3ea3076",
   "metadata": {},
   "outputs": [
    {
     "name": "stdout",
     "output_type": "stream",
     "text": [
      "39/39 [==============================] - 1s 36ms/step\n"
     ]
    }
   ],
   "source": [
    "y_pred = model.predict(X_test)"
   ]
  },
  {
   "cell_type": "markdown",
   "id": "382979a3-f299-4762-8b6d-10a6ea4d3c70",
   "metadata": {},
   "source": [
    "# Score"
   ]
  },
  {
   "cell_type": "code",
   "execution_count": 34,
   "id": "f9fd5d60-841f-46c3-94b6-5755b4d548cd",
   "metadata": {},
   "outputs": [],
   "source": [
    "r2 = 1 - ((y_test - y_pred.reshape(-1)) ** 2).sum() / ((y_test - y_test.mean()) ** 2).sum()"
   ]
  },
  {
   "cell_type": "code",
   "execution_count": 35,
   "id": "4d2bfabe-2e3e-40cf-a1e8-2d458ee7f328",
   "metadata": {},
   "outputs": [
    {
     "data": {
      "text/plain": [
       "0.5668861015027289"
      ]
     },
     "execution_count": 35,
     "metadata": {},
     "output_type": "execute_result"
    }
   ],
   "source": [
    "r2\n",
    "# 0.4984533246797399"
   ]
  },
  {
   "cell_type": "code",
   "execution_count": 36,
   "id": "85262541-e04a-4ff2-b3e6-a47643db66f6",
   "metadata": {},
   "outputs": [
    {
     "name": "stderr",
     "output_type": "stream",
     "text": [
      "/home/nando/miniconda3/envs/tensorflow/lib/python3.9/site-packages/keras/src/engine/training.py:3000: UserWarning: You are saving your model as an HDF5 file via `model.save()`. This file format is considered legacy. We recommend using instead the native Keras format, e.g. `model.save('my_model.keras')`.\n",
      "  saving_api.save_model(\n"
     ]
    }
   ],
   "source": [
    "model.save('models/final_v3.h5', )"
   ]
  },
  {
   "cell_type": "markdown",
   "id": "5f683e18-c876-4f7c-93ea-a33d495dcdaa",
   "metadata": {},
   "source": [
    "# Load model (solo si se grabo el modelo)"
   ]
  },
  {
   "cell_type": "code",
   "execution_count": 45,
   "id": "285c8740-f0bb-4237-8593-ff9b815de0e3",
   "metadata": {},
   "outputs": [],
   "source": [
    "from tensorflow.keras.models import load_model"
   ]
  },
  {
   "cell_type": "code",
   "execution_count": 46,
   "id": "2168984f-770c-436e-92da-c1344b1d3abc",
   "metadata": {},
   "outputs": [],
   "source": [
    "model_loaded = load_model('models/final_v3.h5', custom_objects={'R2': R2})"
   ]
  },
  {
   "cell_type": "code",
   "execution_count": 47,
   "id": "13a9d7d8-41e0-44a0-a8b9-02157a11f8f2",
   "metadata": {},
   "outputs": [
    {
     "name": "stdout",
     "output_type": "stream",
     "text": [
      "39/39 [==============================] - 2s 37ms/step\n"
     ]
    }
   ],
   "source": [
    "y_pred = model_loaded.predict(X_test)"
   ]
  },
  {
   "cell_type": "markdown",
   "id": "c8ab60bf-7b98-4f46-b1dd-b08b5fbf8bed",
   "metadata": {},
   "source": [
    "¿Hasta que valores de r2 logró?"
   ]
  },
  {
   "cell_type": "code",
   "execution_count": 48,
   "id": "64c07210-469b-47a5-a86c-d413a55f9fe6",
   "metadata": {},
   "outputs": [
    {
     "data": {
      "text/plain": [
       "0.5668861015027289"
      ]
     },
     "execution_count": 48,
     "metadata": {},
     "output_type": "execute_result"
    }
   ],
   "source": [
    "r2 = 1 - ((y_test - y_pred.reshape(-1)) ** 2).sum() / ((y_test - y_test.mean()) ** 2).sum()\n",
    "r2"
   ]
  },
  {
   "cell_type": "markdown",
   "id": "7f1a6260-e31f-4e5e-a923-ce67bf31152f",
   "metadata": {},
   "source": [
    "# Evaluación"
   ]
  },
  {
   "cell_type": "code",
   "execution_count": 49,
   "id": "7dd9d7e6-2789-459e-b9dd-593e10847fc4",
   "metadata": {},
   "outputs": [
    {
     "data": {
      "text/plain": [
       "<function matplotlib.pyplot.show(close=None, block=None)>"
      ]
     },
     "execution_count": 49,
     "metadata": {},
     "output_type": "execute_result"
    },
    {
     "data": {
      "image/png": "[encoded data removed]",
      "text/plain": [
       "<Figure size 500x500 with 1 Axes>"
      ]
     },
     "metadata": {},
     "output_type": "display_data"
    }
   ],
   "source": [
    "import seaborn as sns\n",
    "import matplotlib.pyplot as plt\n",
    "\n",
    "sns.set(color_codes=True)\n",
    "sns.set_style(\"white\")\n",
    "\n",
    "ax = sns.regplot(x=y_test, y=y_pred, scatter_kws={'alpha':0.4})\n",
    "ax.set_xlabel('Experimental pIC50', fontsize='large', fontweight='bold')\n",
    "ax.set_ylabel('Predicted pIC50', fontsize='large', fontweight='bold')\n",
    "ax.set_xlim(0, 12)\n",
    "ax.set_ylim(0, 12)\n",
    "ax.figure.set_size_inches(5, 5)\n",
    "plt.show"
   ]
  }
 ],
 "metadata": {
  "kernelspec": {
   "display_name": "Tensorflow",
   "language": "python",
   "name": "tensorflow"
  },
  "language_info": {
   "codemirror_mode": {
    "name": "ipython",
    "version": 3
   },
   "file_extension": ".py",
   "mimetype": "text/x-python",
   "name": "python",
   "nbconvert_exporter": "python",
   "pygments_lexer": "ipython3",
   "version": "3.9.17"
  }
 },
 "nbformat": 4,
 "nbformat_minor": 5
}
