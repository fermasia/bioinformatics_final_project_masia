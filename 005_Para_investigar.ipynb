{
 "cells": [
  {
   "cell_type": "markdown",
   "id": "01101b5c-1de3-4994-b18a-cdf2be00a02b",
   "metadata": {},
   "source": [
    "# ¿Que más se podría hacer?"
   ]
  },
  {
   "cell_type": "markdown",
   "id": "06b963aa-4120-4880-bfdc-274133cf50b0",
   "metadata": {},
   "source": [
    "- Test con data augmentation y la LSTM\n",
    "- Usar los tokenizadores usados en los transformers para ver como funcionan\n",
    "- TSNE de embeddings y analizar si hay interpretación\n",
    "- Probar con otras encimas o proteinas\n",
    "- Usar los embeddings entrenados para analizar resultados de proteinas o encimas con menos data\n",
    "- Entrenar una red neuronal con los features (fingerprints por ejemplo) y comparar los resultados con los embeddings\n"
   ]
  },
  {
   "cell_type": "markdown",
   "id": "04a0a2b8-eccc-45db-8ccf-4bb9dd5ca344",
   "metadata": {},
   "source": [
    "# Tome cualquiera de estas propuestas o alguna suya y desarrolle"
   ]
  },
  {
   "cell_type": "code",
   "execution_count": 1,
   "id": "3ac13f6c-a061-4c24-a5fc-081ea6283a62",
   "metadata": {},
   "outputs": [],
   "source": [
    "%load_ext autoreload\n",
    "%autoreload 2"
   ]
  },
  {
   "cell_type": "markdown",
   "id": "9dab7de8-eb23-47d7-a771-28a2397d0a54",
   "metadata": {},
   "source": [
    "# Modelo LSTM con generador, embedings de smiles y data-augmentation"
   ]
  },
  {
   "cell_type": "code",
   "execution_count": 2,
   "id": "21bee0a3-79a7-43b2-9ac2-15cad5630e22",
   "metadata": {},
   "outputs": [
    {
     "name": "stderr",
     "output_type": "stream",
     "text": [
      "2023-09-03 00:04:48.276284: I tensorflow/core/util/port.cc:110] oneDNN custom operations are on. You may see slightly different numerical results due to floating-point round-off errors from different computation orders. To turn them off, set the environment variable `TF_ENABLE_ONEDNN_OPTS=0`.\n",
      "2023-09-03 00:04:48.279650: I tensorflow/tsl/cuda/cudart_stub.cc:28] Could not find cuda drivers on your machine, GPU will not be used.\n",
      "2023-09-03 00:04:48.360027: I tensorflow/tsl/cuda/cudart_stub.cc:28] Could not find cuda drivers on your machine, GPU will not be used.\n",
      "2023-09-03 00:04:48.361429: I tensorflow/core/platform/cpu_feature_guard.cc:182] This TensorFlow binary is optimized to use available CPU instructions in performance-critical operations.\n",
      "To enable the following instructions: AVX2 AVX512F AVX512_VNNI FMA, in other operations, rebuild TensorFlow with the appropriate compiler flags.\n",
      "2023-09-03 00:04:49.760679: W tensorflow/compiler/tf2tensorrt/utils/py_utils.cc:38] TF-TRT Warning: Could not find TensorRT\n"
     ]
    }
   ],
   "source": [
    "import pandas as pd\n",
    "import numpy as np\n",
    "from datagen import smiles_dict, smiles_to_seq"
   ]
  },
  {
   "cell_type": "markdown",
   "id": "20aa799f-b75c-4d23-869b-fea6d041a6e9",
   "metadata": {},
   "source": [
    "### smiles_dict"
   ]
  },
  {
   "cell_type": "code",
   "execution_count": 3,
   "id": "628a3149-eabe-4de3-8404-d86eb6ad3baf",
   "metadata": {},
   "outputs": [
    {
     "data": {
      "text/plain": [
       "42"
      ]
     },
     "execution_count": 3,
     "metadata": {},
     "output_type": "execute_result"
    }
   ],
   "source": [
    "len(smiles_dict)"
   ]
  },
  {
   "cell_type": "markdown",
   "id": "b9c9312c-4232-414c-b0ff-1e6fb6dba1a6",
   "metadata": {},
   "source": [
    "smiles_dict nos da un tokenizador para simplificar el problema. Puede ver como se construyó en la notebook **deep_chem**.\n",
    "Si al momento de correr el modelo con este diccionario encuentra problemas de key_error, puede agregar los faltantes al diccionario\n",
    "\n",
    "Mirar dentro de **datagen.py** como se usa este diccionario con la función **smiles_to_seq** para tokenizar. El código es muy sencillo"
   ]
  },
  {
   "cell_type": "code",
   "execution_count": 4,
   "id": "e29ef48f-4b67-42a4-83af-e7d0bb980c4b",
   "metadata": {},
   "outputs": [
    {
     "name": "stdout",
     "output_type": "stream",
     "text": [
      "{'#': 1, '(': 2, ')': 3, '+': 4, '-': 5, '/': 6, '1': 7, '2': 8, '3': 9, '4': 10, '5': 11, '6': 12, '7': 13, '8': 14, '=': 15, 'C': 16, 'F': 17, 'H': 18, 'I': 19, 'N': 20, 'O': 21, 'P': 22, 'S': 23, '[': 24, '\\\\': 25, ']': 26, '_': 27, 'c': 28, 'Cl': 29, 'Br': 30, 'n': 31, 'o': 32, 's': 33, '@': 34, '.': 35, 'a': 36, 'B': 37, 'e': 38, 'i': 39, '9': 40, '10': 41, '11': 42}\n"
     ]
    }
   ],
   "source": [
    "print(smiles_dict)"
   ]
  },
  {
   "cell_type": "markdown",
   "id": "b103a4e0-038d-406b-aab8-5c9452ede04e",
   "metadata": {},
   "source": [
    "# Carga de los datos"
   ]
  },
  {
   "cell_type": "code",
   "execution_count": 5,
   "id": "353a2d75-f0f4-4563-9842-c68d77118161",
   "metadata": {},
   "outputs": [],
   "source": [
    "df = pd.read_csv('data/acetylcholinesterase_02_bioactivity_data_preprocessed.csv')"
   ]
  },
  {
   "cell_type": "code",
   "execution_count": 6,
   "id": "4e7fcdcb-ad53-4ebf-bc17-a241c79269da",
   "metadata": {},
   "outputs": [],
   "source": [
    "max_len_idx = df['canonical_smiles'].apply(len).argmax()\n",
    "min_len_idx = df['canonical_smiles'].apply(len).argmin()\n",
    "max_sequence_len = len(df['canonical_smiles'].iloc[max_len_idx]) + 20"
   ]
  },
  {
   "cell_type": "code",
   "execution_count": 7,
   "id": "d1554fa5-d9ee-456c-be20-80571e319fc6",
   "metadata": {},
   "outputs": [
    {
     "data": {
      "text/html": [
       "<div>\n",
       "<style scoped>\n",
       "    .dataframe tbody tr th:only-of-type {\n",
       "        vertical-align: middle;\n",
       "    }\n",
       "\n",
       "    .dataframe tbody tr th {\n",
       "        vertical-align: top;\n",
       "    }\n",
       "\n",
       "    .dataframe thead th {\n",
       "        text-align: right;\n",
       "    }\n",
       "</style>\n",
       "<table border=\"1\" class=\"dataframe\">\n",
       "  <thead>\n",
       "    <tr style=\"text-align: right;\">\n",
       "      <th></th>\n",
       "      <th>molecule_chembl_id</th>\n",
       "      <th>canonical_smiles</th>\n",
       "      <th>standard_value</th>\n",
       "      <th>standard_value_norm</th>\n",
       "      <th>pIC50</th>\n",
       "    </tr>\n",
       "  </thead>\n",
       "  <tbody>\n",
       "    <tr>\n",
       "      <th>0</th>\n",
       "      <td>CHEMBL133897</td>\n",
       "      <td>CCOc1nn(-c2cccc(OCc3ccccc3)c2)c(=O)o1</td>\n",
       "      <td>750.0</td>\n",
       "      <td>750.0</td>\n",
       "      <td>6.124939</td>\n",
       "    </tr>\n",
       "    <tr>\n",
       "      <th>1</th>\n",
       "      <td>CHEMBL336398</td>\n",
       "      <td>O=C(N1CCCCC1)n1nc(-c2ccc(Cl)cc2)nc1SCC1CC1</td>\n",
       "      <td>100.0</td>\n",
       "      <td>100.0</td>\n",
       "      <td>7.000000</td>\n",
       "    </tr>\n",
       "    <tr>\n",
       "      <th>2</th>\n",
       "      <td>CHEMBL131588</td>\n",
       "      <td>CN(C(=O)n1nc(-c2ccc(Cl)cc2)nc1SCC(F)(F)F)c1ccccc1</td>\n",
       "      <td>50000.0</td>\n",
       "      <td>50000.0</td>\n",
       "      <td>4.301030</td>\n",
       "    </tr>\n",
       "    <tr>\n",
       "      <th>3</th>\n",
       "      <td>CHEMBL130628</td>\n",
       "      <td>O=C(N1CCCCC1)n1nc(-c2ccc(Cl)cc2)nc1SCC(F)(F)F</td>\n",
       "      <td>300.0</td>\n",
       "      <td>300.0</td>\n",
       "      <td>6.522879</td>\n",
       "    </tr>\n",
       "    <tr>\n",
       "      <th>4</th>\n",
       "      <td>CHEMBL130478</td>\n",
       "      <td>CSc1nc(-c2ccc(OC(F)(F)F)cc2)nn1C(=O)N(C)C</td>\n",
       "      <td>800.0</td>\n",
       "      <td>800.0</td>\n",
       "      <td>6.096910</td>\n",
       "    </tr>\n",
       "  </tbody>\n",
       "</table>\n",
       "</div>"
      ],
      "text/plain": [
       "  molecule_chembl_id                                   canonical_smiles  \\\n",
       "0       CHEMBL133897              CCOc1nn(-c2cccc(OCc3ccccc3)c2)c(=O)o1   \n",
       "1       CHEMBL336398         O=C(N1CCCCC1)n1nc(-c2ccc(Cl)cc2)nc1SCC1CC1   \n",
       "2       CHEMBL131588  CN(C(=O)n1nc(-c2ccc(Cl)cc2)nc1SCC(F)(F)F)c1ccccc1   \n",
       "3       CHEMBL130628      O=C(N1CCCCC1)n1nc(-c2ccc(Cl)cc2)nc1SCC(F)(F)F   \n",
       "4       CHEMBL130478          CSc1nc(-c2ccc(OC(F)(F)F)cc2)nn1C(=O)N(C)C   \n",
       "\n",
       "   standard_value  standard_value_norm     pIC50  \n",
       "0           750.0                750.0  6.124939  \n",
       "1           100.0                100.0  7.000000  \n",
       "2         50000.0              50000.0  4.301030  \n",
       "3           300.0                300.0  6.522879  \n",
       "4           800.0                800.0  6.096910  "
      ]
     },
     "execution_count": 7,
     "metadata": {},
     "output_type": "execute_result"
    }
   ],
   "source": [
    "df.head()"
   ]
  },
  {
   "cell_type": "code",
   "execution_count": 8,
   "id": "9675f7e8-a8e6-44ff-b1c5-b229cbbeb2e9",
   "metadata": {},
   "outputs": [],
   "source": [
    "X = df['canonical_smiles'].values\n",
    "y = df['pIC50'].values"
   ]
  },
  {
   "cell_type": "markdown",
   "id": "dd87900d-dca2-4f0e-a5c2-58fef4266a67",
   "metadata": {},
   "source": [
    "# Data augmentation:\n",
    "\n",
    "https://arxiv.org/pdf/1703.07076.pdf\n",
    "\n",
    "https://github.com/EBjerrum/molvecgen\n",
    "\n",
    "https://github.com/Ebjerrum/SMILES-enumeration"
   ]
  },
  {
   "cell_type": "markdown",
   "id": "605fb205-e7e7-45fb-99bd-2e6f490977a8",
   "metadata": {},
   "source": [
    "En la publicación de arriba se describe una técnica de aumentación de datos para los smiles. Leerla si es de su interes (Opcional)\n",
    "\n",
    "En el módulo **dataug.py**, tomando como referencia los repositorios arriba citados se implementó la aumentación de datos"
   ]
  },
  {
   "cell_type": "code",
   "execution_count": 9,
   "id": "cd51b313-2eda-4b2f-b876-7ddf27fae055",
   "metadata": {},
   "outputs": [
    {
     "name": "stdout",
     "output_type": "stream",
     "text": [
      "c1c(COc2cccc(-n3c(=O)oc(OCC)n3)c2)cccc1\n",
      "c1(OCC)oc(=O)n(-c2cccc(OCc3ccccc3)c2)n1\n",
      "c1cc(COc2cc(-n3c(=O)oc(OCC)n3)ccc2)ccc1\n",
      "c1c(OCc2ccccc2)cc(-n2nc(OCC)oc2=O)cc1\n",
      "O=c1oc(OCC)nn1-c1cccc(OCc2ccccc2)c1\n",
      "c1(-n2c(=O)oc(OCC)n2)cccc(OCc2ccccc2)c1\n",
      "O=c1n(-c2cc(OCc3ccccc3)ccc2)nc(OCC)o1\n",
      "C(Oc1cc(-n2nc(OCC)oc2=O)ccc1)c1ccccc1\n",
      "c1(COc2cccc(-n3nc(OCC)oc3=O)c2)ccccc1\n",
      "c1ccccc1COc1cc(-n2c(=O)oc(OCC)n2)ccc1\n"
     ]
    }
   ],
   "source": [
    "seq = 'CCOc1nn(-c2cccc(OCc3ccccc3)c2)c(=O)o1'\n",
    "\n",
    "from dataaug import SmilesEnumerator\n",
    "sme = SmilesEnumerator()\n",
    "for i in range(10):\n",
    "    print(sme.randomize_smiles('CCOc1nn(-c2cccc(OCc3ccccc3)c2)c(=O)o1'))"
   ]
  },
  {
   "cell_type": "code",
   "execution_count": 10,
   "id": "d4733af9-9c49-4c2f-bb1d-dc7f180cc66f",
   "metadata": {},
   "outputs": [
    {
     "name": "stdout",
     "output_type": "stream",
     "text": [
      "c1cc(-n2nc(OCC)oc2=O)cc(OCc2ccccc2)c1\n",
      "O(CC)c1nn(-c2cccc(OCc3ccccc3)c2)c(=O)o1\n",
      "CCOc1oc(=O)n(-c2cccc(OCc3ccccc3)c2)n1\n",
      "c1(OCc2ccccc2)cc(-n2nc(OCC)oc2=O)ccc1\n",
      "c1cc(OCc2ccccc2)cc(-n2c(=O)oc(OCC)n2)c1\n",
      "O(c1cccc(-n2nc(OCC)oc2=O)c1)Cc1ccccc1\n",
      "c1cccc(COc2cc(-n3nc(OCC)oc3=O)ccc2)c1\n",
      "CCOc1oc(=O)n(-c2cc(OCc3ccccc3)ccc2)n1\n",
      "n1(-c2cc(OCc3ccccc3)ccc2)nc(OCC)oc1=O\n",
      "c1ccc(COc2cccc(-n3nc(OCC)oc3=O)c2)cc1\n"
     ]
    }
   ],
   "source": [
    "from dataaug import SmilesEnumerator\n",
    "sme = SmilesEnumerator()\n",
    "for i in range(10):\n",
    "    print(sme.randomize_smiles('CCOc1nn(-c2cccc(OCc3ccccc3)c2)c(=O)o1'))\n",
    "    "
   ]
  },
  {
   "cell_type": "markdown",
   "id": "7a1923d3-1df0-4df1-a43c-ec30eff6fe4d",
   "metadata": {},
   "source": [
    "# DataGenerator"
   ]
  },
  {
   "cell_type": "markdown",
   "id": "fc6a3c67-9f44-4052-9e93-9e274f08c1b5",
   "metadata": {},
   "source": [
    "Construir un generador al que se le pase al instanciarlo:\n",
    "- X: smiles (formula química)\n",
    "- y: pIC50\n",
    "- batch_size\n",
    "- max_sequence_len (int): La máxima longitud de las secuencias (para hacer el padding)\n",
    "- data_augmentation (boolean): si quiero hacer o no data-augmentation. \n",
    "- shuffle (boolean)\n",
    "\n",
    "Guardarlo en el módulo **datagen.py** con el nombre de la clase **DataGenerator**\n",
    "\n",
    "Notar que el módulo **datagen.py** ya tiene una estructura para completar"
   ]
  },
  {
   "cell_type": "markdown",
   "id": "f602f3e4-24aa-41ee-9f83-89ec3acc96f1",
   "metadata": {},
   "source": [
    "### Importamos el módulo y lo probamos"
   ]
  },
  {
   "cell_type": "code",
   "execution_count": 11,
   "id": "413bce05-2685-4c84-8a43-c3dd8ed74e11",
   "metadata": {},
   "outputs": [],
   "source": [
    "from datagen import DataGenerator"
   ]
  },
  {
   "cell_type": "code",
   "execution_count": 12,
   "id": "52aa520a-a84b-4d8b-a22e-6b4a5cc7e65a",
   "metadata": {},
   "outputs": [],
   "source": [
    "dgen = DataGenerator(X, y, max_sequence_len, batch_size=32)"
   ]
  },
  {
   "cell_type": "code",
   "execution_count": 13,
   "id": "b3212e31-dd2c-4ebc-b9a0-78ed4bb5d78d",
   "metadata": {},
   "outputs": [
    {
     "data": {
      "text/plain": [
       "6176"
      ]
     },
     "execution_count": 13,
     "metadata": {},
     "output_type": "execute_result"
    }
   ],
   "source": [
    "len(dgen) * dgen.batch_size"
   ]
  },
  {
   "cell_type": "code",
   "execution_count": 14,
   "id": "133033ed-a3b1-4572-aaaf-f4cb2a055724",
   "metadata": {},
   "outputs": [
    {
     "name": "stdout",
     "output_type": "stream",
     "text": [
      "192\r"
     ]
    }
   ],
   "source": [
    "for i, (X_b, y_b) in enumerate(dgen):\n",
    "    print(f'{i}\\r', end='')"
   ]
  },
  {
   "cell_type": "code",
   "execution_count": 15,
   "id": "d010f566-c375-4518-879f-d087fc2cb7ef",
   "metadata": {},
   "outputs": [
    {
     "data": {
      "text/plain": [
       "array([[28,  7, 28, ...,  0,  0,  0],\n",
       "       [21,  2, 24, ...,  0,  0,  0],\n",
       "       [20,  7,  2, ...,  0,  0,  0],\n",
       "       ...,\n",
       "       [16,  2, 20, ...,  0,  0,  0],\n",
       "       [31,  7, 31, ...,  0,  0,  0],\n",
       "       [16,  7, 16, ...,  0,  0,  0]])"
      ]
     },
     "execution_count": 15,
     "metadata": {},
     "output_type": "execute_result"
    }
   ],
   "source": [
    "X_b"
   ]
  },
  {
   "cell_type": "code",
   "execution_count": 16,
   "id": "b29b7246-142c-4401-b44e-9815c4bf9370",
   "metadata": {},
   "outputs": [
    {
     "data": {
      "text/plain": [
       "(13,)"
      ]
     },
     "execution_count": 16,
     "metadata": {},
     "output_type": "execute_result"
    }
   ],
   "source": [
    "y_b.shape"
   ]
  },
  {
   "cell_type": "markdown",
   "id": "4233710d-9274-4dae-b22d-cf42b57ad862",
   "metadata": {},
   "source": [
    "# Split"
   ]
  },
  {
   "cell_type": "code",
   "execution_count": 17,
   "id": "ce7a95e6-2486-42fb-97fb-865e3fd6a561",
   "metadata": {},
   "outputs": [],
   "source": [
    "from sklearn.model_selection import train_test_split"
   ]
  },
  {
   "cell_type": "code",
   "execution_count": 18,
   "id": "fcb9840f-2f41-45be-99a5-f05f3ab73ed8",
   "metadata": {},
   "outputs": [],
   "source": [
    "X_train, X_test, y_train, y_test = train_test_split(X, y, test_size=0.2, random_state=42)"
   ]
  },
  {
   "cell_type": "code",
   "execution_count": 19,
   "id": "eb13b9d2-cd84-4015-a5f4-cf51e8449f2e",
   "metadata": {},
   "outputs": [
    {
     "data": {
      "text/plain": [
       "(4925,)"
      ]
     },
     "execution_count": 19,
     "metadata": {},
     "output_type": "execute_result"
    }
   ],
   "source": [
    "X_train.shape"
   ]
  },
  {
   "cell_type": "code",
   "execution_count": 20,
   "id": "649277c5-fda5-457c-985d-51a426882c09",
   "metadata": {},
   "outputs": [],
   "source": [
    "X_train = X_train[:4500]\n",
    "y_train = y_train[:4500]"
   ]
  },
  {
   "cell_type": "code",
   "execution_count": 21,
   "id": "4ad17134-3e15-42d1-b8c9-0c793169e145",
   "metadata": {},
   "outputs": [
    {
     "data": {
      "text/plain": [
       "(4500, 4500, 1232)"
      ]
     },
     "execution_count": 21,
     "metadata": {},
     "output_type": "execute_result"
    }
   ],
   "source": [
    "len(X_train), len(y_train), len(X_test)"
   ]
  },
  {
   "cell_type": "code",
   "execution_count": 22,
   "id": "929de60c-7128-4e35-8efc-4b5f9ee9471c",
   "metadata": {},
   "outputs": [
    {
     "data": {
      "text/plain": [
       "array(['COc1cc(/C=C/c2ccc3ccccc3[n+]2C)ccc1N1CCOCC1.[I-]',\n",
       "       'CCCCCCCNC(=O)Oc1ccc2c(c1)C1(C)CCN(CC)C2C1',\n",
       "       'c1ccc2c(COc3nn(CCN4CCCC4)c4ccccc34)cccc2c1', ...,\n",
       "       'Cl.Nc1c2c(nc3ccc(F)cc13)CCC2',\n",
       "       'CCN(CC)CCCCCOc1ccc(C(=O)/C=C/c2ccccc2)cc1',\n",
       "       'COc1ccccc1/C=C1\\\\CN(C(=O)C[C@H]2C[C@H]3CCCN3[C@]23C(=O)Nc2ccccc23)C/C(=C\\\\c2ccccc2OC)C1=O'],\n",
       "      dtype=object)"
      ]
     },
     "execution_count": 22,
     "metadata": {},
     "output_type": "execute_result"
    }
   ],
   "source": [
    "X_train"
   ]
  },
  {
   "cell_type": "code",
   "execution_count": 23,
   "id": "dd72855a-8310-4a5e-b5c8-7fe181ea8edd",
   "metadata": {},
   "outputs": [],
   "source": [
    "dgen_train = DataGenerator(X_train, y_train, seq_length=max_sequence_len, batch_size=64, data_augmentation=True)\n",
    "dgen_test = DataGenerator(X_test, y_test, seq_length=max_sequence_len, batch_size=64, data_augmentation=False)"
   ]
  },
  {
   "cell_type": "code",
   "execution_count": 24,
   "id": "8d580353-ccfc-4b41-898d-2eaae3c5f8a4",
   "metadata": {},
   "outputs": [
    {
     "data": {
      "text/plain": [
       "<datagen.DataGenerator at 0x7f73e7bfd5e0>"
      ]
     },
     "execution_count": 24,
     "metadata": {},
     "output_type": "execute_result"
    }
   ],
   "source": [
    "dgen_train"
   ]
  },
  {
   "cell_type": "code",
   "execution_count": 25,
   "id": "1bf28e8f-b29e-4b60-b7a2-4f08ff5a547b",
   "metadata": {},
   "outputs": [
    {
     "name": "stdout",
     "output_type": "stream",
     "text": [
      "19\r"
     ]
    }
   ],
   "source": [
    "for i, (X_b, y_b) in enumerate(dgen_test):\n",
    "    print(f'{i}\\r', end='')"
   ]
  },
  {
   "cell_type": "raw",
   "id": "e9a05124-5e24-460d-af7c-ae1f15faff91",
   "metadata": {},
   "source": [
    "X_b.shape"
   ]
  },
  {
   "cell_type": "markdown",
   "id": "85941430-2534-4d7d-ba52-d934a31c1bf6",
   "metadata": {},
   "source": [
    "# Network Model"
   ]
  },
  {
   "cell_type": "code",
   "execution_count": 26,
   "id": "eb117c20-b106-4888-b68b-7f209c10fb9b",
   "metadata": {},
   "outputs": [],
   "source": [
    "# Métrica\n",
    "from tensorflow.keras import backend as K\n",
    "def R2(y_true, y_pred):\n",
    "    SS_res =  K.sum(K.square( y_true-y_pred ))\n",
    "    SS_tot = K.sum(K.square( y_true - K.mean(y_true) ) )\n",
    "    return ( 1 - SS_res/(SS_tot + K.epsilon()) )"
   ]
  },
  {
   "cell_type": "code",
   "execution_count": 27,
   "id": "6bd5d1bf-4640-4cbc-acd3-72881ddcc07e",
   "metadata": {},
   "outputs": [
    {
     "name": "stdout",
     "output_type": "stream",
     "text": [
      "Model: \"sequential\"\n",
      "_________________________________________________________________\n",
      " Layer (type)                Output Shape              Param #   \n",
      "=================================================================\n",
      " embedding (Embedding)       (None, 204, 256)          11008     \n",
      "                                                                 \n",
      " bidirectional (Bidirection  (None, 200)               285600    \n",
      " al)                                                             \n",
      "                                                                 \n",
      " dense (Dense)               (None, 125)               25125     \n",
      "                                                                 \n",
      " batch_normalization (Batch  (None, 125)               500       \n",
      " Normalization)                                                  \n",
      "                                                                 \n",
      " activation (Activation)     (None, 125)               0         \n",
      "                                                                 \n",
      " dense_1 (Dense)             (None, 1)                 126       \n",
      "                                                                 \n",
      "=================================================================\n",
      "Total params: 322359 (1.23 MB)\n",
      "Trainable params: 322109 (1.23 MB)\n",
      "Non-trainable params: 250 (1000.00 Byte)\n",
      "_________________________________________________________________\n",
      "Epoch 1/150\n",
      "71/71 [==============================] - 28s 301ms/step - loss: 12.5395 - R2: -2.6407 - RMSE: 2.7986 - val_loss: 24.6922 - val_R2: -8.6747 - val_RMSE: 4.7790 - lr: 0.0010\n",
      "Epoch 2/150\n",
      "71/71 [==============================] - 17s 237ms/step - loss: 4.2009 - R2: -0.1686 - RMSE: 1.6567 - val_loss: 19.7857 - val_R2: -7.0831 - val_RMSE: 4.2978 - lr: 0.0010\n",
      "Epoch 3/150\n",
      "71/71 [==============================] - 17s 242ms/step - loss: 3.4563 - R2: -0.0240 - RMSE: 1.5480 - val_loss: 16.9820 - val_R2: -6.0852 - val_RMSE: 3.9903 - lr: 0.0010\n",
      "Epoch 4/150\n",
      "71/71 [==============================] - 18s 247ms/step - loss: 3.2928 - R2: -0.0273 - RMSE: 1.5537 - val_loss: 10.1985 - val_R2: -2.9270 - val_RMSE: 3.0512 - lr: 0.0010\n",
      "Epoch 5/150\n",
      "71/71 [==============================] - 18s 249ms/step - loss: 2.9656 - R2: 0.0523 - RMSE: 1.4948 - val_loss: 7.2054 - val_R2: -1.7440 - val_RMSE: 2.5569 - lr: 0.0010\n",
      "Epoch 6/150\n",
      "71/71 [==============================] - 17s 242ms/step - loss: 2.8523 - R2: 0.0542 - RMSE: 1.4953 - val_loss: 3.7441 - val_R2: -0.3430 - val_RMSE: 1.7821 - lr: 0.0010\n",
      "Epoch 7/150\n",
      "71/71 [==============================] - 17s 240ms/step - loss: 2.7836 - R2: 0.0519 - RMSE: 1.4952 - val_loss: 4.1284 - val_R2: -0.5213 - val_RMSE: 1.9143 - lr: 0.0010\n",
      "Epoch 8/150\n",
      "71/71 [==============================] - 19s 264ms/step - loss: 2.6158 - R2: 0.0867 - RMSE: 1.4616 - val_loss: 2.7902 - val_R2: 0.0291 - val_RMSE: 1.5195 - lr: 0.0010\n",
      "Epoch 9/150\n",
      "71/71 [==============================] - 19s 268ms/step - loss: 2.5544 - R2: 0.0834 - RMSE: 1.4598 - val_loss: 2.5217 - val_R2: 0.1256 - val_RMSE: 1.4577 - lr: 0.0010\n",
      "Epoch 10/150\n",
      "71/71 [==============================] - 18s 249ms/step - loss: 2.4482 - R2: 0.1179 - RMSE: 1.4402 - val_loss: 2.2246 - val_R2: 0.2365 - val_RMSE: 1.3612 - lr: 0.0010\n",
      "Epoch 11/150\n",
      "71/71 [==============================] - 18s 246ms/step - loss: 2.4246 - R2: 0.1103 - RMSE: 1.4396 - val_loss: 2.6372 - val_R2: 0.0219 - val_RMSE: 1.5236 - lr: 0.0010\n",
      "Epoch 12/150\n",
      "71/71 [==============================] - 18s 257ms/step - loss: 2.3638 - R2: 0.1350 - RMSE: 1.4296 - val_loss: 2.3148 - val_R2: 0.1311 - val_RMSE: 1.4148 - lr: 0.0010\n",
      "Epoch 13/150\n",
      "71/71 [==============================] - 17s 243ms/step - loss: 2.3186 - R2: 0.1468 - RMSE: 1.4215 - val_loss: 2.6425 - val_R2: -1.7665e-04 - val_RMSE: 1.5573 - lr: 0.0010\n",
      "Epoch 14/150\n",
      "71/71 [==============================] - 18s 248ms/step - loss: 2.3557 - R2: 0.1123 - RMSE: 1.4355 - val_loss: 2.1576 - val_R2: 0.2254 - val_RMSE: 1.3640 - lr: 0.0010\n",
      "Epoch 15/150\n",
      "71/71 [==============================] - 18s 255ms/step - loss: 2.2825 - R2: 0.1369 - RMSE: 1.4252 - val_loss: 2.1635 - val_R2: 0.1876 - val_RMSE: 1.3726 - lr: 0.0010\n",
      "Epoch 16/150\n",
      "71/71 [==============================] - 17s 242ms/step - loss: 2.2314 - R2: 0.1560 - RMSE: 1.4028 - val_loss: 2.0131 - val_R2: 0.2282 - val_RMSE: 1.3447 - lr: 0.0010\n",
      "Epoch 17/150\n",
      "71/71 [==============================] - 18s 258ms/step - loss: 2.2246 - R2: 0.1580 - RMSE: 1.4108 - val_loss: 2.0563 - val_R2: 0.2410 - val_RMSE: 1.3674 - lr: 0.0010\n",
      "Epoch 18/150\n",
      "71/71 [==============================] - 18s 253ms/step - loss: 2.1426 - R2: 0.1913 - RMSE: 1.3825 - val_loss: 2.2119 - val_R2: 0.1761 - val_RMSE: 1.4085 - lr: 0.0010\n",
      "Epoch 19/150\n",
      "71/71 [==============================] - 17s 245ms/step - loss: 2.1843 - R2: 0.1618 - RMSE: 1.3998 - val_loss: 2.1298 - val_R2: 0.2036 - val_RMSE: 1.3819 - lr: 0.0010\n",
      "Epoch 20/150\n",
      "71/71 [==============================] - 19s 263ms/step - loss: 2.1751 - R2: 0.1713 - RMSE: 1.3964 - val_loss: 1.9844 - val_R2: 0.2613 - val_RMSE: 1.3431 - lr: 0.0010\n",
      "Epoch 21/150\n",
      "71/71 [==============================] - 19s 260ms/step - loss: 2.1848 - R2: 0.1693 - RMSE: 1.4020 - val_loss: 1.9270 - val_R2: 0.2873 - val_RMSE: 1.2936 - lr: 0.0010\n",
      "Epoch 22/150\n",
      "71/71 [==============================] - 18s 257ms/step - loss: 2.1223 - R2: 0.1921 - RMSE: 1.3831 - val_loss: 2.3035 - val_R2: 0.1047 - val_RMSE: 1.4373 - lr: 0.0010\n",
      "Epoch 23/150\n",
      "71/71 [==============================] - 18s 251ms/step - loss: 2.0706 - R2: 0.2031 - RMSE: 1.3678 - val_loss: 2.3475 - val_R2: 0.0799 - val_RMSE: 1.4589 - lr: 0.0010\n",
      "Epoch 24/150\n",
      "71/71 [==============================] - 18s 250ms/step - loss: 2.0853 - R2: 0.2067 - RMSE: 1.3687 - val_loss: 2.0823 - val_R2: 0.2262 - val_RMSE: 1.3558 - lr: 0.0010\n",
      "Epoch 25/150\n",
      "71/71 [==============================] - 17s 243ms/step - loss: 2.0399 - R2: 0.2136 - RMSE: 1.3563 - val_loss: 1.8053 - val_R2: 0.3270 - val_RMSE: 1.2644 - lr: 0.0010\n",
      "Epoch 26/150\n",
      "71/71 [==============================] - 18s 246ms/step - loss: 2.0225 - R2: 0.2199 - RMSE: 1.3571 - val_loss: 2.4031 - val_R2: 0.0941 - val_RMSE: 1.4730 - lr: 0.0010\n",
      "Epoch 27/150\n",
      "71/71 [==============================] - 18s 256ms/step - loss: 1.9907 - R2: 0.2238 - RMSE: 1.3494 - val_loss: 2.7368 - val_R2: -0.1097 - val_RMSE: 1.6090 - lr: 0.0010\n",
      "Epoch 28/150\n",
      "71/71 [==============================] - 17s 244ms/step - loss: 2.0148 - R2: 0.2241 - RMSE: 1.3511 - val_loss: 1.7732 - val_R2: 0.3011 - val_RMSE: 1.2604 - lr: 0.0010\n",
      "Epoch 29/150\n",
      "71/71 [==============================] - 18s 259ms/step - loss: 1.9885 - R2: 0.2359 - RMSE: 1.3433 - val_loss: 1.9952 - val_R2: 0.2202 - val_RMSE: 1.3563 - lr: 0.0010\n",
      "Epoch 30/150\n",
      "71/71 [==============================] - 17s 245ms/step - loss: 1.9514 - R2: 0.2498 - RMSE: 1.3283 - val_loss: 1.8632 - val_R2: 0.2949 - val_RMSE: 1.2832 - lr: 0.0010\n",
      "Epoch 31/150\n",
      "71/71 [==============================] - 19s 265ms/step - loss: 1.9750 - R2: 0.2323 - RMSE: 1.3441 - val_loss: 2.0287 - val_R2: 0.2093 - val_RMSE: 1.3688 - lr: 0.0010\n",
      "Epoch 32/150\n",
      "71/71 [==============================] - 18s 247ms/step - loss: 1.9402 - R2: 0.2485 - RMSE: 1.3287 - val_loss: 2.4870 - val_R2: 0.0598 - val_RMSE: 1.5209 - lr: 0.0010\n",
      "Epoch 33/150\n",
      "71/71 [==============================] - 20s 279ms/step - loss: 1.9035 - R2: 0.2658 - RMSE: 1.3148 - val_loss: 1.9011 - val_R2: 0.2736 - val_RMSE: 1.3029 - lr: 0.0010\n",
      "Epoch 34/150\n",
      "71/71 [==============================] - 19s 266ms/step - loss: 1.8245 - R2: 0.2957 - RMSE: 1.2843 - val_loss: 1.6768 - val_R2: 0.3679 - val_RMSE: 1.2528 - lr: 5.0000e-04\n",
      "Epoch 35/150\n",
      "71/71 [==============================] - 19s 267ms/step - loss: 1.7612 - R2: 0.3215 - RMSE: 1.2644 - val_loss: 1.7016 - val_R2: 0.3600 - val_RMSE: 1.2280 - lr: 5.0000e-04\n",
      "Epoch 36/150\n",
      "71/71 [==============================] - 17s 237ms/step - loss: 1.7651 - R2: 0.3183 - RMSE: 1.2688 - val_loss: 1.8180 - val_R2: 0.3056 - val_RMSE: 1.2807 - lr: 5.0000e-04\n",
      "Epoch 37/150\n",
      "71/71 [==============================] - 17s 244ms/step - loss: 1.7553 - R2: 0.3248 - RMSE: 1.2640 - val_loss: 1.7587 - val_R2: 0.3168 - val_RMSE: 1.2432 - lr: 5.0000e-04\n",
      "Epoch 38/150\n",
      "71/71 [==============================] - 19s 263ms/step - loss: 1.7727 - R2: 0.3166 - RMSE: 1.2688 - val_loss: 1.9367 - val_R2: 0.2430 - val_RMSE: 1.3294 - lr: 5.0000e-04\n",
      "Epoch 39/150\n",
      "71/71 [==============================] - 17s 243ms/step - loss: 1.7833 - R2: 0.3089 - RMSE: 1.2775 - val_loss: 1.6320 - val_R2: 0.3915 - val_RMSE: 1.2242 - lr: 5.0000e-04\n",
      "Epoch 40/150\n",
      "71/71 [==============================] - 18s 256ms/step - loss: 1.7385 - R2: 0.3132 - RMSE: 1.2668 - val_loss: 1.6332 - val_R2: 0.3645 - val_RMSE: 1.2034 - lr: 5.0000e-04\n",
      "Epoch 41/150\n",
      "71/71 [==============================] - 20s 277ms/step - loss: 1.7323 - R2: 0.3292 - RMSE: 1.2552 - val_loss: 1.6844 - val_R2: 0.3339 - val_RMSE: 1.2452 - lr: 5.0000e-04\n",
      "Epoch 42/150\n",
      "71/71 [==============================] - 19s 271ms/step - loss: 1.7087 - R2: 0.3425 - RMSE: 1.2481 - val_loss: 1.6254 - val_R2: 0.3660 - val_RMSE: 1.2249 - lr: 5.0000e-04\n",
      "Epoch 43/150\n",
      "71/71 [==============================] - 19s 263ms/step - loss: 1.7135 - R2: 0.3327 - RMSE: 1.2539 - val_loss: 1.6204 - val_R2: 0.3864 - val_RMSE: 1.2179 - lr: 5.0000e-04\n",
      "Epoch 44/150\n",
      "71/71 [==============================] - 19s 266ms/step - loss: 1.7153 - R2: 0.3387 - RMSE: 1.2508 - val_loss: 1.6781 - val_R2: 0.3666 - val_RMSE: 1.2378 - lr: 5.0000e-04\n",
      "Epoch 45/150\n",
      "71/71 [==============================] - 18s 250ms/step - loss: 1.7203 - R2: 0.3359 - RMSE: 1.2549 - val_loss: 1.6690 - val_R2: 0.3572 - val_RMSE: 1.2434 - lr: 5.0000e-04\n",
      "Epoch 46/150\n",
      "71/71 [==============================] - 17s 240ms/step - loss: 1.7085 - R2: 0.3481 - RMSE: 1.2430 - val_loss: 1.6292 - val_R2: 0.3806 - val_RMSE: 1.2383 - lr: 5.0000e-04\n",
      "Epoch 47/150\n",
      "71/71 [==============================] - 18s 247ms/step - loss: 1.7045 - R2: 0.3447 - RMSE: 1.2449 - val_loss: 1.6355 - val_R2: 0.3651 - val_RMSE: 1.2330 - lr: 5.0000e-04\n",
      "Epoch 48/150\n",
      "71/71 [==============================] - 17s 243ms/step - loss: 1.7067 - R2: 0.3327 - RMSE: 1.2527 - val_loss: 1.6161 - val_R2: 0.3764 - val_RMSE: 1.2157 - lr: 5.0000e-04\n",
      "Epoch 49/150\n",
      "71/71 [==============================] - 17s 232ms/step - loss: 1.6648 - R2: 0.3532 - RMSE: 1.2367 - val_loss: 1.8379 - val_R2: 0.2947 - val_RMSE: 1.2958 - lr: 5.0000e-04\n",
      "Epoch 50/150\n",
      "71/71 [==============================] - 17s 235ms/step - loss: 1.6833 - R2: 0.3412 - RMSE: 1.2420 - val_loss: 1.6598 - val_R2: 0.3385 - val_RMSE: 1.2316 - lr: 5.0000e-04\n",
      "Epoch 51/150\n",
      "71/71 [==============================] - 17s 235ms/step - loss: 1.6684 - R2: 0.3551 - RMSE: 1.2318 - val_loss: 1.6014 - val_R2: 0.3805 - val_RMSE: 1.1986 - lr: 5.0000e-04\n",
      "Epoch 52/150\n",
      "71/71 [==============================] - 17s 233ms/step - loss: 1.6510 - R2: 0.3549 - RMSE: 1.2270 - val_loss: 1.7316 - val_R2: 0.3109 - val_RMSE: 1.2528 - lr: 5.0000e-04\n",
      "Epoch 53/150\n",
      "71/71 [==============================] - 17s 244ms/step - loss: 1.6582 - R2: 0.3562 - RMSE: 1.2280 - val_loss: 1.7174 - val_R2: 0.3208 - val_RMSE: 1.2434 - lr: 5.0000e-04\n",
      "Epoch 54/150\n",
      "71/71 [==============================] - 20s 277ms/step - loss: 1.6810 - R2: 0.3374 - RMSE: 1.2401 - val_loss: 1.6536 - val_R2: 0.3147 - val_RMSE: 1.2304 - lr: 5.0000e-04\n",
      "Epoch 55/150\n",
      "71/71 [==============================] - 17s 243ms/step - loss: 1.6311 - R2: 0.3669 - RMSE: 1.2198 - val_loss: 1.6736 - val_R2: 0.3528 - val_RMSE: 1.2411 - lr: 5.0000e-04\n",
      "Epoch 56/150\n",
      "71/71 [==============================] - 19s 273ms/step - loss: 1.6701 - R2: 0.3497 - RMSE: 1.2388 - val_loss: 1.5765 - val_R2: 0.4111 - val_RMSE: 1.1984 - lr: 5.0000e-04\n",
      "Epoch 57/150\n",
      "71/71 [==============================] - 18s 255ms/step - loss: 1.6009 - R2: 0.3771 - RMSE: 1.2079 - val_loss: 1.8073 - val_R2: 0.2726 - val_RMSE: 1.3057 - lr: 5.0000e-04\n",
      "Epoch 58/150\n",
      "71/71 [==============================] - 18s 258ms/step - loss: 1.6371 - R2: 0.3644 - RMSE: 1.2255 - val_loss: 1.6026 - val_R2: 0.3848 - val_RMSE: 1.2101 - lr: 5.0000e-04\n",
      "Epoch 59/150\n",
      "71/71 [==============================] - 19s 269ms/step - loss: 1.5937 - R2: 0.3801 - RMSE: 1.2062 - val_loss: 1.6809 - val_R2: 0.3550 - val_RMSE: 1.2407 - lr: 5.0000e-04\n",
      "Epoch 60/150\n",
      "71/71 [==============================] - 17s 234ms/step - loss: 1.6090 - R2: 0.3805 - RMSE: 1.2109 - val_loss: 1.6260 - val_R2: 0.3849 - val_RMSE: 1.2295 - lr: 5.0000e-04\n",
      "Epoch 61/150\n",
      "71/71 [==============================] - 17s 232ms/step - loss: 1.6056 - R2: 0.3719 - RMSE: 1.2117 - val_loss: 1.6035 - val_R2: 0.3743 - val_RMSE: 1.2021 - lr: 5.0000e-04\n",
      "Epoch 62/150\n",
      "71/71 [==============================] - 17s 232ms/step - loss: 1.5413 - R2: 0.4055 - RMSE: 1.1837 - val_loss: 1.4745 - val_R2: 0.4322 - val_RMSE: 1.1569 - lr: 2.5000e-04\n",
      "Epoch 63/150\n",
      "71/71 [==============================] - 17s 234ms/step - loss: 1.5011 - R2: 0.4236 - RMSE: 1.1673 - val_loss: 1.5328 - val_R2: 0.4185 - val_RMSE: 1.1761 - lr: 2.5000e-04\n",
      "Epoch 64/150\n",
      "71/71 [==============================] - 17s 236ms/step - loss: 1.5139 - R2: 0.4101 - RMSE: 1.1746 - val_loss: 1.4752 - val_R2: 0.4319 - val_RMSE: 1.1699 - lr: 2.5000e-04\n",
      "Epoch 65/150\n",
      "71/71 [==============================] - 17s 239ms/step - loss: 1.5281 - R2: 0.4032 - RMSE: 1.1806 - val_loss: 1.4695 - val_R2: 0.4385 - val_RMSE: 1.1712 - lr: 2.5000e-04\n",
      "Epoch 66/150\n",
      "71/71 [==============================] - 21s 298ms/step - loss: 1.5067 - R2: 0.4177 - RMSE: 1.1709 - val_loss: 1.5188 - val_R2: 0.4296 - val_RMSE: 1.1647 - lr: 2.5000e-04\n",
      "Epoch 67/150\n",
      "71/71 [==============================] - 25s 352ms/step - loss: 1.4836 - R2: 0.4270 - RMSE: 1.1647 - val_loss: 1.5266 - val_R2: 0.4170 - val_RMSE: 1.1717 - lr: 2.5000e-04\n",
      "Epoch 68/150\n",
      "71/71 [==============================] - 24s 344ms/step - loss: 1.5044 - R2: 0.4162 - RMSE: 1.1700 - val_loss: 1.5147 - val_R2: 0.4095 - val_RMSE: 1.1766 - lr: 2.5000e-04\n",
      "Epoch 69/150\n",
      "71/71 [==============================] - 19s 270ms/step - loss: 1.4850 - R2: 0.4232 - RMSE: 1.1606 - val_loss: 1.4859 - val_R2: 0.4387 - val_RMSE: 1.1603 - lr: 2.5000e-04\n",
      "Epoch 70/150\n",
      "71/71 [==============================] - 17s 238ms/step - loss: 1.4942 - R2: 0.4241 - RMSE: 1.1650 - val_loss: 1.5127 - val_R2: 0.4215 - val_RMSE: 1.1783 - lr: 2.5000e-04\n",
      "Epoch 71/150\n",
      "71/71 [==============================] - 17s 234ms/step - loss: 1.4703 - R2: 0.4331 - RMSE: 1.1559 - val_loss: 1.4048 - val_R2: 0.4718 - val_RMSE: 1.1221 - lr: 1.2500e-04\n",
      "Epoch 72/150\n",
      "71/71 [==============================] - 17s 232ms/step - loss: 1.4391 - R2: 0.4298 - RMSE: 1.1494 - val_loss: 1.5254 - val_R2: 0.4287 - val_RMSE: 1.1808 - lr: 1.2500e-04\n",
      "Epoch 73/150\n",
      "71/71 [==============================] - 17s 232ms/step - loss: 1.4360 - R2: 0.4463 - RMSE: 1.1443 - val_loss: 1.4461 - val_R2: 0.4420 - val_RMSE: 1.1466 - lr: 1.2500e-04\n",
      "Epoch 74/150\n",
      "71/71 [==============================] - 18s 258ms/step - loss: 1.4191 - R2: 0.4466 - RMSE: 1.1367 - val_loss: 1.4534 - val_R2: 0.4394 - val_RMSE: 1.1587 - lr: 1.2500e-04\n",
      "Epoch 75/150\n",
      "71/71 [==============================] - 17s 237ms/step - loss: 1.4320 - R2: 0.4474 - RMSE: 1.1418 - val_loss: 1.4091 - val_R2: 0.4606 - val_RMSE: 1.1368 - lr: 1.2500e-04\n",
      "Epoch 76/150\n",
      "71/71 [==============================] - 17s 235ms/step - loss: 1.4242 - R2: 0.4420 - RMSE: 1.1409 - val_loss: 1.4407 - val_R2: 0.4390 - val_RMSE: 1.1474 - lr: 1.2500e-04\n",
      "Epoch 77/150\n",
      "71/71 [==============================] - 18s 253ms/step - loss: 1.4078 - R2: 0.4570 - RMSE: 1.1310 - val_loss: 1.4446 - val_R2: 0.4462 - val_RMSE: 1.1433 - lr: 6.2500e-05\n",
      "Epoch 78/150\n",
      "71/71 [==============================] - 17s 235ms/step - loss: 1.4032 - R2: 0.4573 - RMSE: 1.1289 - val_loss: 1.4325 - val_R2: 0.4428 - val_RMSE: 1.1383 - lr: 6.2500e-05\n",
      "Epoch 79/150\n",
      "71/71 [==============================] - 17s 232ms/step - loss: 1.4227 - R2: 0.4469 - RMSE: 1.1385 - val_loss: 1.4245 - val_R2: 0.4598 - val_RMSE: 1.1335 - lr: 6.2500e-05\n",
      "Epoch 80/150\n",
      "71/71 [==============================] - 19s 263ms/step - loss: 1.3979 - R2: 0.4617 - RMSE: 1.1284 - val_loss: 1.4263 - val_R2: 0.4321 - val_RMSE: 1.1401 - lr: 6.2500e-05\n",
      "Epoch 81/150\n",
      "71/71 [==============================] - 17s 235ms/step - loss: 1.3837 - R2: 0.4678 - RMSE: 1.1226 - val_loss: 1.4428 - val_R2: 0.4304 - val_RMSE: 1.1486 - lr: 6.2500e-05\n",
      "Epoch 82/150\n",
      "71/71 [==============================] - 17s 233ms/step - loss: 1.3808 - R2: 0.4624 - RMSE: 1.1207 - val_loss: 1.3884 - val_R2: 0.4717 - val_RMSE: 1.1343 - lr: 3.1250e-05\n",
      "Epoch 83/150\n",
      "71/71 [==============================] - 17s 236ms/step - loss: 1.3755 - R2: 0.4535 - RMSE: 1.1210 - val_loss: 1.4127 - val_R2: 0.4554 - val_RMSE: 1.1431 - lr: 3.1250e-05\n",
      "Epoch 84/150\n",
      "71/71 [==============================] - 18s 247ms/step - loss: 1.4299 - R2: 0.4393 - RMSE: 1.1464 - val_loss: 1.3684 - val_R2: 0.4631 - val_RMSE: 1.1203 - lr: 3.1250e-05\n",
      "Epoch 85/150\n",
      "71/71 [==============================] - 17s 241ms/step - loss: 1.3786 - R2: 0.4598 - RMSE: 1.1219 - val_loss: 1.4141 - val_R2: 0.4366 - val_RMSE: 1.1425 - lr: 3.1250e-05\n",
      "Epoch 86/150\n",
      "71/71 [==============================] - 17s 244ms/step - loss: 1.3789 - R2: 0.4680 - RMSE: 1.1237 - val_loss: 1.4389 - val_R2: 0.4477 - val_RMSE: 1.1407 - lr: 3.1250e-05\n",
      "Epoch 87/150\n",
      "71/71 [==============================] - 17s 240ms/step - loss: 1.4182 - R2: 0.4433 - RMSE: 1.1398 - val_loss: 1.3908 - val_R2: 0.4593 - val_RMSE: 1.1268 - lr: 3.1250e-05\n",
      "Epoch 88/150\n",
      "71/71 [==============================] - 17s 243ms/step - loss: 1.3903 - R2: 0.4569 - RMSE: 1.1287 - val_loss: 1.4006 - val_R2: 0.4612 - val_RMSE: 1.1356 - lr: 3.1250e-05\n",
      "Epoch 89/150\n",
      "71/71 [==============================] - 17s 237ms/step - loss: 1.3959 - R2: 0.4583 - RMSE: 1.1336 - val_loss: 1.4048 - val_R2: 0.4492 - val_RMSE: 1.1419 - lr: 3.1250e-05\n",
      "Epoch 90/150\n",
      "71/71 [==============================] - 17s 240ms/step - loss: 1.3787 - R2: 0.4601 - RMSE: 1.1216 - val_loss: 1.4014 - val_R2: 0.4403 - val_RMSE: 1.1444 - lr: 1.5625e-05\n",
      "Epoch 91/150\n",
      "71/71 [==============================] - 17s 243ms/step - loss: 1.4003 - R2: 0.4567 - RMSE: 1.1281 - val_loss: 1.3856 - val_R2: 0.4695 - val_RMSE: 1.1218 - lr: 1.5625e-05\n",
      "Epoch 92/150\n",
      "71/71 [==============================] - 18s 249ms/step - loss: 1.3907 - R2: 0.4555 - RMSE: 1.1280 - val_loss: 1.3728 - val_R2: 0.4590 - val_RMSE: 1.1228 - lr: 1.5625e-05\n",
      "Epoch 93/150\n",
      "71/71 [==============================] - 19s 263ms/step - loss: 1.4050 - R2: 0.4581 - RMSE: 1.1306 - val_loss: 1.4029 - val_R2: 0.4316 - val_RMSE: 1.1547 - lr: 1.5625e-05\n",
      "Epoch 94/150\n",
      "71/71 [==============================] - 22s 317ms/step - loss: 1.3718 - R2: 0.4659 - RMSE: 1.1180 - val_loss: 1.3942 - val_R2: 0.4738 - val_RMSE: 1.1237 - lr: 1.5625e-05\n",
      "Epoch 95/150\n",
      "71/71 [==============================] - 32s 445ms/step - loss: 1.3846 - R2: 0.4523 - RMSE: 1.1226 - val_loss: 1.4037 - val_R2: 0.4728 - val_RMSE: 1.1217 - lr: 7.8125e-06\n",
      "Epoch 96/150\n",
      "71/71 [==============================] - 25s 348ms/step - loss: 1.3757 - R2: 0.4624 - RMSE: 1.1246 - val_loss: 1.3828 - val_R2: 0.4595 - val_RMSE: 1.1311 - lr: 7.8125e-06\n",
      "Epoch 97/150\n",
      "71/71 [==============================] - 26s 369ms/step - loss: 1.3803 - R2: 0.4617 - RMSE: 1.1219 - val_loss: 1.3946 - val_R2: 0.4678 - val_RMSE: 1.1239 - lr: 7.8125e-06\n",
      "Epoch 98/150\n",
      "71/71 [==============================] - 27s 382ms/step - loss: 1.3966 - R2: 0.4516 - RMSE: 1.1286 - val_loss: 1.4059 - val_R2: 0.3994 - val_RMSE: 1.1594 - lr: 7.8125e-06\n",
      "Epoch 99/150\n",
      "71/71 [==============================] - 29s 408ms/step - loss: 1.3910 - R2: 0.4486 - RMSE: 1.1268 - val_loss: 1.4085 - val_R2: 0.4572 - val_RMSE: 1.1445 - lr: 7.8125e-06\n"
     ]
    }
   ],
   "source": [
    "import numpy as np\n",
    "import tensorflow as tf\n",
    "from tensorflow.keras.models import Sequential\n",
    "from tensorflow.keras.layers import Embedding, Bidirectional, Dense, BatchNormalization, Activation, LSTM\n",
    "from tensorflow.keras.callbacks import ReduceLROnPlateau, EarlyStopping\n",
    "from tensorflow.keras.regularizers import l2\n",
    "from tensorflow.keras.optimizers import RMSprop  # Import RMSprop optimizer\n",
    "from tensorflow.keras.metrics import RootMeanSquaredError  # Import RMSE metric\n",
    "from tensorflow.keras.backend import square, mean  # Import backend functions\n",
    "\n",
    "# Build the sequential model\n",
    "model = Sequential()\n",
    "\n",
    "# Embedding layer\n",
    "model.add(Embedding(input_dim=42 + 1, output_dim=256, input_length=204))  # Use seq_length here\n",
    "\n",
    "# Bidirectional LSTM layer with L2 regularization\n",
    "model.add(Bidirectional(LSTM(100, return_sequences=False, kernel_regularizer=l2(0.01))))\n",
    "\n",
    "# Dense layer with L2 regularization\n",
    "model.add(Dense(125, kernel_regularizer=l2(0.01)))\n",
    "\n",
    "# Batch normalization layer\n",
    "model.add(BatchNormalization())\n",
    "\n",
    "# Activation layer\n",
    "model.add(Activation('relu'))\n",
    "\n",
    "# Output dense layer\n",
    "model.add(Dense(1))\n",
    "\n",
    "# Print the model summary\n",
    "model.summary()\n",
    "\n",
    "# Learning rate scheduler\n",
    "lr_scheduler = ReduceLROnPlateau(monitor='val_loss', factor=0.5, patience=5, min_lr=1e-6)\n",
    "\n",
    "# Early stopping\n",
    "early_stopping = EarlyStopping(monitor='val_loss', patience=15, restore_best_weights=True)\n",
    "\n",
    "# RMSE metric function\n",
    "def RMSE(y_true, y_pred):\n",
    "    return tf.sqrt(mean(square(y_pred - y_true)))\n",
    "\n",
    "# Compile the model with RMSE metric\n",
    "model.compile(optimizer=RMSprop(learning_rate=0.001, clipvalue=0.1), loss='mse', metrics=[R2,RMSE])\n",
    "\n",
    "# Instantiate the DataGenerator\n",
    "dgen_train = DataGenerator(X_train, y_train, seq_length=204, batch_size=64, data_augmentation=True)\n",
    "dgen_test = DataGenerator(X_test, y_test, seq_length=204, batch_size=64, data_augmentation=True)\n",
    "\n",
    "history = model.fit(dgen_train, epochs=150, validation_data=dgen_test, callbacks=[lr_scheduler, early_stopping])\n"
   ]
  },
  {
   "cell_type": "code",
   "execution_count": 35,
   "id": "a0242588-eede-4e85-8b83-f207ea8ab757",
   "metadata": {},
   "outputs": [],
   "source": [
    "X_test_eval = []\n",
    "y_t_eval = []\n",
    "for X_t, y_t in dgen_test:\n",
    "    X_test_eval = X_test_eval + [list(t) for t in X_t]\n",
    "    y_t_eval = y_t_eval + list(y_t)\n",
    "X_test_eval = np.array(X_test_eval)\n",
    "y_test = np.array(y_t_eval)"
   ]
  },
  {
   "cell_type": "code",
   "execution_count": 36,
   "id": "a1437cbf-fe44-4999-a44b-05cea765f22b",
   "metadata": {},
   "outputs": [
    {
     "data": {
      "text/plain": [
       "((1232, 204), (1232,))"
      ]
     },
     "execution_count": 36,
     "metadata": {},
     "output_type": "execute_result"
    }
   ],
   "source": [
    "X_test_eval.shape, y_test.shape"
   ]
  },
  {
   "cell_type": "code",
   "execution_count": 37,
   "id": "0084fbb1-e83e-4808-99bf-1458f3ea3076",
   "metadata": {},
   "outputs": [
    {
     "name": "stdout",
     "output_type": "stream",
     "text": [
      "39/39 [==============================] - 1s 37ms/step\n"
     ]
    }
   ],
   "source": [
    "y_pred = model.predict(X_test_eval)"
   ]
  },
  {
   "cell_type": "markdown",
   "id": "382979a3-f299-4762-8b6d-10a6ea4d3c70",
   "metadata": {},
   "source": [
    "# Score"
   ]
  },
  {
   "cell_type": "code",
   "execution_count": 38,
   "id": "f9fd5d60-841f-46c3-94b6-5755b4d548cd",
   "metadata": {},
   "outputs": [],
   "source": [
    "r2 = 1 - ((y_test - y_pred.reshape(-1)) ** 2).sum() / ((y_test - y_test.mean()) ** 2).sum()"
   ]
  },
  {
   "cell_type": "code",
   "execution_count": 39,
   "id": "4d2bfabe-2e3e-40cf-a1e8-2d458ee7f328",
   "metadata": {},
   "outputs": [
    {
     "data": {
      "text/plain": [
       "0.49714720632183196"
      ]
     },
     "execution_count": 39,
     "metadata": {},
     "output_type": "execute_result"
    }
   ],
   "source": [
    "r2"
   ]
  },
  {
   "cell_type": "code",
   "execution_count": 40,
   "id": "85262541-e04a-4ff2-b3e6-a47643db66f6",
   "metadata": {},
   "outputs": [
    {
     "name": "stderr",
     "output_type": "stream",
     "text": [
      "/home/nando/miniconda3/envs/tensorflow/lib/python3.9/site-packages/keras/src/engine/training.py:3000: UserWarning: You are saving your model as an HDF5 file via `model.save()`. This file format is considered legacy. We recommend using instead the native Keras format, e.g. `model.save('my_model.keras')`.\n",
      "  saving_api.save_model(\n"
     ]
    }
   ],
   "source": [
    "filename = 'models/other_tests.h5'\n",
    "model.save(filename)"
   ]
  },
  {
   "cell_type": "markdown",
   "id": "7f1a6260-e31f-4e5e-a923-ce67bf31152f",
   "metadata": {},
   "source": [
    "# Evaluación"
   ]
  },
  {
   "cell_type": "code",
   "execution_count": 41,
   "id": "7dd9d7e6-2789-459e-b9dd-593e10847fc4",
   "metadata": {},
   "outputs": [
    {
     "data": {
      "text/plain": [
       "<function matplotlib.pyplot.show(close=None, block=None)>"
      ]
     },
     "execution_count": 41,
     "metadata": {},
     "output_type": "execute_result"
    },
    {
     "data": {
      "image/png": "[encoded data removed]",
      "text/plain": [
       "<Figure size 500x500 with 1 Axes>"
      ]
     },
     "metadata": {},
     "output_type": "display_data"
    }
   ],
   "source": [
    "import seaborn as sns\n",
    "import matplotlib.pyplot as plt\n",
    "\n",
    "sns.set(color_codes=True)\n",
    "sns.set_style(\"white\")\n",
    "\n",
    "ax = sns.regplot(x=y_test, y=y_pred, scatter_kws={'alpha':0.4})\n",
    "ax.set_xlabel('Experimental pIC50', fontsize='large', fontweight='bold')\n",
    "ax.set_ylabel('Predicted pIC50', fontsize='large', fontweight='bold')\n",
    "ax.set_xlim(0, 12)\n",
    "ax.set_ylim(0, 12)\n",
    "ax.figure.set_size_inches(5, 5)\n",
    "plt.show"
   ]
  }
 ],
 "metadata": {
  "kernelspec": {
   "display_name": "Tensorflow",
   "language": "python",
   "name": "tensorflow"
  },
  "language_info": {
   "codemirror_mode": {
    "name": "ipython",
    "version": 3
   },
   "file_extension": ".py",
   "mimetype": "text/x-python",
   "name": "python",
   "nbconvert_exporter": "python",
   "pygments_lexer": "ipython3",
   "version": "3.9.17"
  }
 },
 "nbformat": 4,
 "nbformat_minor": 5
}
