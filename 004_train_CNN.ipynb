{
 "cells": [
  {
   "cell_type": "code",
   "execution_count": 1,
   "id": "3ac13f6c-a061-4c24-a5fc-081ea6283a62",
   "metadata": {},
   "outputs": [],
   "source": [
    "%load_ext autoreload\n",
    "%autoreload 2"
   ]
  },
  {
   "cell_type": "markdown",
   "id": "9dab7de8-eb23-47d7-a771-28a2397d0a54",
   "metadata": {},
   "source": [
    "# Modelo CNN con generador, embedings de smiles y data-augmentation"
   ]
  },
  {
   "cell_type": "code",
   "execution_count": 2,
   "id": "21bee0a3-79a7-43b2-9ac2-15cad5630e22",
   "metadata": {},
   "outputs": [
    {
     "name": "stderr",
     "output_type": "stream",
     "text": [
      "2023-08-31 06:14:05.252197: I tensorflow/core/util/port.cc:110] oneDNN custom operations are on. You may see slightly different numerical results due to floating-point round-off errors from different computation orders. To turn them off, set the environment variable `TF_ENABLE_ONEDNN_OPTS=0`.\n",
      "2023-08-31 06:14:05.256301: I tensorflow/tsl/cuda/cudart_stub.cc:28] Could not find cuda drivers on your machine, GPU will not be used.\n",
      "2023-08-31 06:14:05.321600: I tensorflow/tsl/cuda/cudart_stub.cc:28] Could not find cuda drivers on your machine, GPU will not be used.\n",
      "2023-08-31 06:14:05.323093: I tensorflow/core/platform/cpu_feature_guard.cc:182] This TensorFlow binary is optimized to use available CPU instructions in performance-critical operations.\n",
      "To enable the following instructions: AVX2 AVX512F AVX512_VNNI FMA, in other operations, rebuild TensorFlow with the appropriate compiler flags.\n",
      "2023-08-31 06:14:06.437407: W tensorflow/compiler/tf2tensorrt/utils/py_utils.cc:38] TF-TRT Warning: Could not find TensorRT\n"
     ]
    }
   ],
   "source": [
    "import pandas as pd\n",
    "import numpy as np\n",
    "from datagen import smiles_dict, smiles_to_seq"
   ]
  },
  {
   "cell_type": "markdown",
   "id": "20aa799f-b75c-4d23-869b-fea6d041a6e9",
   "metadata": {},
   "source": [
    "### smiles_dict"
   ]
  },
  {
   "cell_type": "code",
   "execution_count": 3,
   "id": "628a3149-eabe-4de3-8404-d86eb6ad3baf",
   "metadata": {},
   "outputs": [
    {
     "data": {
      "text/plain": [
       "42"
      ]
     },
     "execution_count": 3,
     "metadata": {},
     "output_type": "execute_result"
    }
   ],
   "source": [
    "len(smiles_dict)"
   ]
  },
  {
   "cell_type": "markdown",
   "id": "b9c9312c-4232-414c-b0ff-1e6fb6dba1a6",
   "metadata": {},
   "source": [
    "smiles_dict nos da un tokenizador para simplificar el problema. Puede ver como se construyó en la notebook **deep_chem**.\n",
    "Si al momento de correr el modelo con este diccionario encuentra problemas de key_error, puede agregar los faltantes al diccionario\n",
    "\n",
    "Mirar dentro de **datagen.py** como se usa este diccionario con la función **smiles_to_seq** para tokenizar. El código es muy sencillo"
   ]
  },
  {
   "cell_type": "code",
   "execution_count": 4,
   "id": "e29ef48f-4b67-42a4-83af-e7d0bb980c4b",
   "metadata": {},
   "outputs": [
    {
     "name": "stdout",
     "output_type": "stream",
     "text": [
      "{'#': 1, '(': 2, ')': 3, '+': 4, '-': 5, '/': 6, '1': 7, '2': 8, '3': 9, '4': 10, '5': 11, '6': 12, '7': 13, '8': 14, '=': 15, 'C': 16, 'F': 17, 'H': 18, 'I': 19, 'N': 20, 'O': 21, 'P': 22, 'S': 23, '[': 24, '\\\\': 25, ']': 26, '_': 27, 'c': 28, 'Cl': 29, 'Br': 30, 'n': 31, 'o': 32, 's': 33, '@': 34, '.': 35, 'a': 36, 'B': 37, 'e': 38, 'i': 39, '9': 40, '10': 41, '11': 42}\n"
     ]
    }
   ],
   "source": [
    "print(smiles_dict)"
   ]
  },
  {
   "cell_type": "markdown",
   "id": "b103a4e0-038d-406b-aab8-5c9452ede04e",
   "metadata": {},
   "source": [
    "# Carga de los datos"
   ]
  },
  {
   "cell_type": "code",
   "execution_count": 5,
   "id": "353a2d75-f0f4-4563-9842-c68d77118161",
   "metadata": {},
   "outputs": [],
   "source": [
    "df = pd.read_csv('data/acetylcholinesterase_02_bioactivity_data_preprocessed.csv')"
   ]
  },
  {
   "cell_type": "code",
   "execution_count": 6,
   "id": "4e7fcdcb-ad53-4ebf-bc17-a241c79269da",
   "metadata": {},
   "outputs": [],
   "source": [
    "max_len_idx = df['canonical_smiles'].apply(len).argmax()\n",
    "min_len_idx = df['canonical_smiles'].apply(len).argmin()\n",
    "max_sequence_len = len(df['canonical_smiles'].iloc[max_len_idx]) + 20"
   ]
  },
  {
   "cell_type": "code",
   "execution_count": 7,
   "id": "d1554fa5-d9ee-456c-be20-80571e319fc6",
   "metadata": {},
   "outputs": [
    {
     "data": {
      "text/html": [
       "<div>\n",
       "<style scoped>\n",
       "    .dataframe tbody tr th:only-of-type {\n",
       "        vertical-align: middle;\n",
       "    }\n",
       "\n",
       "    .dataframe tbody tr th {\n",
       "        vertical-align: top;\n",
       "    }\n",
       "\n",
       "    .dataframe thead th {\n",
       "        text-align: right;\n",
       "    }\n",
       "</style>\n",
       "<table border=\"1\" class=\"dataframe\">\n",
       "  <thead>\n",
       "    <tr style=\"text-align: right;\">\n",
       "      <th></th>\n",
       "      <th>molecule_chembl_id</th>\n",
       "      <th>canonical_smiles</th>\n",
       "      <th>standard_value</th>\n",
       "      <th>standard_value_norm</th>\n",
       "      <th>pIC50</th>\n",
       "    </tr>\n",
       "  </thead>\n",
       "  <tbody>\n",
       "    <tr>\n",
       "      <th>0</th>\n",
       "      <td>CHEMBL133897</td>\n",
       "      <td>CCOc1nn(-c2cccc(OCc3ccccc3)c2)c(=O)o1</td>\n",
       "      <td>750.0</td>\n",
       "      <td>750.0</td>\n",
       "      <td>6.124939</td>\n",
       "    </tr>\n",
       "    <tr>\n",
       "      <th>1</th>\n",
       "      <td>CHEMBL336398</td>\n",
       "      <td>O=C(N1CCCCC1)n1nc(-c2ccc(Cl)cc2)nc1SCC1CC1</td>\n",
       "      <td>100.0</td>\n",
       "      <td>100.0</td>\n",
       "      <td>7.000000</td>\n",
       "    </tr>\n",
       "    <tr>\n",
       "      <th>2</th>\n",
       "      <td>CHEMBL131588</td>\n",
       "      <td>CN(C(=O)n1nc(-c2ccc(Cl)cc2)nc1SCC(F)(F)F)c1ccccc1</td>\n",
       "      <td>50000.0</td>\n",
       "      <td>50000.0</td>\n",
       "      <td>4.301030</td>\n",
       "    </tr>\n",
       "    <tr>\n",
       "      <th>3</th>\n",
       "      <td>CHEMBL130628</td>\n",
       "      <td>O=C(N1CCCCC1)n1nc(-c2ccc(Cl)cc2)nc1SCC(F)(F)F</td>\n",
       "      <td>300.0</td>\n",
       "      <td>300.0</td>\n",
       "      <td>6.522879</td>\n",
       "    </tr>\n",
       "    <tr>\n",
       "      <th>4</th>\n",
       "      <td>CHEMBL130478</td>\n",
       "      <td>CSc1nc(-c2ccc(OC(F)(F)F)cc2)nn1C(=O)N(C)C</td>\n",
       "      <td>800.0</td>\n",
       "      <td>800.0</td>\n",
       "      <td>6.096910</td>\n",
       "    </tr>\n",
       "  </tbody>\n",
       "</table>\n",
       "</div>"
      ],
      "text/plain": [
       "  molecule_chembl_id                                   canonical_smiles  \\\n",
       "0       CHEMBL133897              CCOc1nn(-c2cccc(OCc3ccccc3)c2)c(=O)o1   \n",
       "1       CHEMBL336398         O=C(N1CCCCC1)n1nc(-c2ccc(Cl)cc2)nc1SCC1CC1   \n",
       "2       CHEMBL131588  CN(C(=O)n1nc(-c2ccc(Cl)cc2)nc1SCC(F)(F)F)c1ccccc1   \n",
       "3       CHEMBL130628      O=C(N1CCCCC1)n1nc(-c2ccc(Cl)cc2)nc1SCC(F)(F)F   \n",
       "4       CHEMBL130478          CSc1nc(-c2ccc(OC(F)(F)F)cc2)nn1C(=O)N(C)C   \n",
       "\n",
       "   standard_value  standard_value_norm     pIC50  \n",
       "0           750.0                750.0  6.124939  \n",
       "1           100.0                100.0  7.000000  \n",
       "2         50000.0              50000.0  4.301030  \n",
       "3           300.0                300.0  6.522879  \n",
       "4           800.0                800.0  6.096910  "
      ]
     },
     "execution_count": 7,
     "metadata": {},
     "output_type": "execute_result"
    }
   ],
   "source": [
    "df.head()"
   ]
  },
  {
   "cell_type": "code",
   "execution_count": 8,
   "id": "9675f7e8-a8e6-44ff-b1c5-b229cbbeb2e9",
   "metadata": {},
   "outputs": [],
   "source": [
    "X = df['canonical_smiles'].values\n",
    "y = df['pIC50'].values"
   ]
  },
  {
   "cell_type": "markdown",
   "id": "dd87900d-dca2-4f0e-a5c2-58fef4266a67",
   "metadata": {},
   "source": [
    "# Data augmentation:\n",
    "\n",
    "https://arxiv.org/pdf/1703.07076.pdf\n",
    "\n",
    "https://github.com/EBjerrum/molvecgen\n",
    "\n",
    "https://github.com/Ebjerrum/SMILES-enumeration"
   ]
  },
  {
   "cell_type": "markdown",
   "id": "605fb205-e7e7-45fb-99bd-2e6f490977a8",
   "metadata": {},
   "source": [
    "En la publicación de arriba se describe una técnica de aumentación de datos para los smiles. Leerla si es de su interes (Opcional)\n",
    "\n",
    "En el módulo **dataug.py**, tomando como referencia los repositorios arriba citados se implementó la aumentación de datos"
   ]
  },
  {
   "cell_type": "code",
   "execution_count": 9,
   "id": "cd51b313-2eda-4b2f-b876-7ddf27fae055",
   "metadata": {},
   "outputs": [
    {
     "name": "stdout",
     "output_type": "stream",
     "text": [
      "c1(OCc2ccccc2)cc(-n2nc(OCC)oc2=O)ccc1\n",
      "c1ccc(COc2cccc(-n3c(=O)oc(OCC)n3)c2)cc1\n",
      "c1cc(COc2cc(-n3nc(OCC)oc3=O)ccc2)ccc1\n",
      "c1(OCc2ccccc2)cc(-n2c(=O)oc(OCC)n2)ccc1\n",
      "O(c1oc(=O)n(-c2cccc(OCc3ccccc3)c2)n1)CC\n",
      "c1ccc(COc2cc(-n3c(=O)oc(OCC)n3)ccc2)cc1\n",
      "c1(COc2cccc(-n3c(=O)oc(OCC)n3)c2)ccccc1\n",
      "c1c(COc2cccc(-n3nc(OCC)oc3=O)c2)cccc1\n",
      "c1ccc(OCc2ccccc2)cc1-n1c(=O)oc(OCC)n1\n",
      "c1cc(COc2cc(-n3c(=O)oc(OCC)n3)ccc2)ccc1\n"
     ]
    }
   ],
   "source": [
    "seq = 'CCOc1nn(-c2cccc(OCc3ccccc3)c2)c(=O)o1'\n",
    "\n",
    "from dataaug import SmilesEnumerator\n",
    "sme = SmilesEnumerator()\n",
    "for i in range(10):\n",
    "    print(sme.randomize_smiles('CCOc1nn(-c2cccc(OCc3ccccc3)c2)c(=O)o1'))"
   ]
  },
  {
   "cell_type": "code",
   "execution_count": 10,
   "id": "d4733af9-9c49-4c2f-bb1d-dc7f180cc66f",
   "metadata": {},
   "outputs": [
    {
     "name": "stdout",
     "output_type": "stream",
     "text": [
      "c1(OCc2ccccc2)cc(-n2nc(OCC)oc2=O)ccc1\n",
      "O=c1n(-c2cc(OCc3ccccc3)ccc2)nc(OCC)o1\n",
      "C(C)Oc1nn(-c2cc(OCc3ccccc3)ccc2)c(=O)o1\n",
      "n1(-c2cccc(OCc3ccccc3)c2)c(=O)oc(OCC)n1\n",
      "c1c(COc2cc(-n3c(=O)oc(OCC)n3)ccc2)cccc1\n",
      "c1c(OCc2ccccc2)cccc1-n1c(=O)oc(OCC)n1\n",
      "c1ccc(COc2cc(-n3c(=O)oc(OCC)n3)ccc2)cc1\n",
      "c1(-n2c(=O)oc(OCC)n2)cccc(OCc2ccccc2)c1\n",
      "c1ccccc1COc1cccc(-n2c(=O)oc(OCC)n2)c1\n",
      "C(c1ccccc1)Oc1cccc(-n2c(=O)oc(OCC)n2)c1\n"
     ]
    }
   ],
   "source": [
    "from dataaug import SmilesEnumerator\n",
    "sme = SmilesEnumerator()\n",
    "for i in range(10):\n",
    "    print(sme.randomize_smiles('CCOc1nn(-c2cccc(OCc3ccccc3)c2)c(=O)o1'))\n",
    "    "
   ]
  },
  {
   "cell_type": "markdown",
   "id": "7a1923d3-1df0-4df1-a43c-ec30eff6fe4d",
   "metadata": {},
   "source": [
    "# DataGenerator"
   ]
  },
  {
   "cell_type": "markdown",
   "id": "fc6a3c67-9f44-4052-9e93-9e274f08c1b5",
   "metadata": {},
   "source": [
    "Construir un generador al que se le pase al instanciarlo:\n",
    "- X: smiles (formula química)\n",
    "- y: pIC50\n",
    "- batch_size\n",
    "- max_sequence_len (int): La máxima longitud de las secuencias (para hacer el padding)\n",
    "- data_augmentation (boolean): si quiero hacer o no data-augmentation. \n",
    "- shuffle (boolean)\n",
    "\n",
    "Guardarlo en el módulo **datagen.py** con el nombre de la clase **DataGenerator**\n",
    "\n",
    "Notar que el módulo **datagen.py** ya tiene una estructura para completar"
   ]
  },
  {
   "cell_type": "markdown",
   "id": "f602f3e4-24aa-41ee-9f83-89ec3acc96f1",
   "metadata": {},
   "source": [
    "### Importamos el módulo y lo probamos"
   ]
  },
  {
   "cell_type": "code",
   "execution_count": 11,
   "id": "413bce05-2685-4c84-8a43-c3dd8ed74e11",
   "metadata": {},
   "outputs": [],
   "source": [
    "from datagen import DataGenerator"
   ]
  },
  {
   "cell_type": "code",
   "execution_count": 12,
   "id": "fa46e729-47d1-40db-a9a1-db85c25c3c09",
   "metadata": {},
   "outputs": [
    {
     "data": {
      "text/plain": [
       "224"
      ]
     },
     "execution_count": 12,
     "metadata": {},
     "output_type": "execute_result"
    }
   ],
   "source": [
    "max_sequence_len"
   ]
  },
  {
   "cell_type": "code",
   "execution_count": 13,
   "id": "52aa520a-a84b-4d8b-a22e-6b4a5cc7e65a",
   "metadata": {},
   "outputs": [],
   "source": [
    "dgen = DataGenerator(X, y, max_sequence_len, batch_size=16)"
   ]
  },
  {
   "cell_type": "code",
   "execution_count": 14,
   "id": "b3212e31-dd2c-4ebc-b9a0-78ed4bb5d78d",
   "metadata": {},
   "outputs": [
    {
     "data": {
      "text/plain": [
       "6160"
      ]
     },
     "execution_count": 14,
     "metadata": {},
     "output_type": "execute_result"
    }
   ],
   "source": [
    "len(dgen) * dgen.batch_size"
   ]
  },
  {
   "cell_type": "code",
   "execution_count": 15,
   "id": "133033ed-a3b1-4572-aaaf-f4cb2a055724",
   "metadata": {},
   "outputs": [
    {
     "name": "stdout",
     "output_type": "stream",
     "text": [
      "384\r"
     ]
    }
   ],
   "source": [
    "for i, (X_b, y_b) in enumerate(dgen):\n",
    "    print(f'{i}\\r', end='')"
   ]
  },
  {
   "cell_type": "code",
   "execution_count": 16,
   "id": "d010f566-c375-4518-879f-d087fc2cb7ef",
   "metadata": {},
   "outputs": [
    {
     "data": {
      "text/plain": [
       "array([[16,  7, 16, ...,  0,  0,  0],\n",
       "       [31,  7, 28, ...,  0,  0,  0],\n",
       "       [17, 16,  2, ...,  0,  0,  0],\n",
       "       ...,\n",
       "       [28,  7, 28, ...,  0,  0,  0],\n",
       "       [16, 21, 16, ...,  0,  0,  0],\n",
       "       [16,  7, 16, ...,  0,  0,  0]])"
      ]
     },
     "execution_count": 16,
     "metadata": {},
     "output_type": "execute_result"
    }
   ],
   "source": [
    "X_b"
   ]
  },
  {
   "cell_type": "code",
   "execution_count": 17,
   "id": "b29b7246-142c-4401-b44e-9815c4bf9370",
   "metadata": {},
   "outputs": [
    {
     "data": {
      "text/plain": [
       "(13,)"
      ]
     },
     "execution_count": 17,
     "metadata": {},
     "output_type": "execute_result"
    }
   ],
   "source": [
    "y_b.shape"
   ]
  },
  {
   "cell_type": "markdown",
   "id": "4233710d-9274-4dae-b22d-cf42b57ad862",
   "metadata": {},
   "source": [
    "# Split"
   ]
  },
  {
   "cell_type": "code",
   "execution_count": 18,
   "id": "ce7a95e6-2486-42fb-97fb-865e3fd6a561",
   "metadata": {},
   "outputs": [],
   "source": [
    "from sklearn.model_selection import train_test_split"
   ]
  },
  {
   "cell_type": "code",
   "execution_count": 19,
   "id": "fcb9840f-2f41-45be-99a5-f05f3ab73ed8",
   "metadata": {},
   "outputs": [],
   "source": [
    "X_train, X_test, y_train, y_test = train_test_split(X, y, test_size=0.2, random_state=42)"
   ]
  },
  {
   "cell_type": "code",
   "execution_count": 20,
   "id": "eb13b9d2-cd84-4015-a5f4-cf51e8449f2e",
   "metadata": {},
   "outputs": [
    {
     "data": {
      "text/plain": [
       "(4925,)"
      ]
     },
     "execution_count": 20,
     "metadata": {},
     "output_type": "execute_result"
    }
   ],
   "source": [
    "X_train.shape"
   ]
  },
  {
   "cell_type": "code",
   "execution_count": 21,
   "id": "649277c5-fda5-457c-985d-51a426882c09",
   "metadata": {},
   "outputs": [],
   "source": [
    "X_train = X_train[:4500]\n",
    "y_train = y_train[:4500]"
   ]
  },
  {
   "cell_type": "code",
   "execution_count": 22,
   "id": "4ad17134-3e15-42d1-b8c9-0c793169e145",
   "metadata": {},
   "outputs": [
    {
     "data": {
      "text/plain": [
       "(4500, 4500, 1232)"
      ]
     },
     "execution_count": 22,
     "metadata": {},
     "output_type": "execute_result"
    }
   ],
   "source": [
    "len(X_train), len(y_train), len(X_test)"
   ]
  },
  {
   "cell_type": "code",
   "execution_count": 23,
   "id": "929de60c-7128-4e35-8efc-4b5f9ee9471c",
   "metadata": {},
   "outputs": [
    {
     "data": {
      "text/plain": [
       "array(['COc1cc(/C=C/c2ccc3ccccc3[n+]2C)ccc1N1CCOCC1.[I-]',\n",
       "       'CCCCCCCNC(=O)Oc1ccc2c(c1)C1(C)CCN(CC)C2C1',\n",
       "       'c1ccc2c(COc3nn(CCN4CCCC4)c4ccccc34)cccc2c1', ...,\n",
       "       'Cl.Nc1c2c(nc3ccc(F)cc13)CCC2',\n",
       "       'CCN(CC)CCCCCOc1ccc(C(=O)/C=C/c2ccccc2)cc1',\n",
       "       'COc1ccccc1/C=C1\\\\CN(C(=O)C[C@H]2C[C@H]3CCCN3[C@]23C(=O)Nc2ccccc23)C/C(=C\\\\c2ccccc2OC)C1=O'],\n",
       "      dtype=object)"
      ]
     },
     "execution_count": 23,
     "metadata": {},
     "output_type": "execute_result"
    }
   ],
   "source": [
    "X_train"
   ]
  },
  {
   "cell_type": "code",
   "execution_count": 24,
   "id": "dd72855a-8310-4a5e-b5c8-7fe181ea8edd",
   "metadata": {},
   "outputs": [],
   "source": [
    "dgen_train = DataGenerator(X_train, y_train, seq_length=max_sequence_len, batch_size=128, data_augmentation=True)\n",
    "dgen_test = DataGenerator(X_test, y_test, seq_length=max_sequence_len, batch_size=128, data_augmentation=False)"
   ]
  },
  {
   "cell_type": "code",
   "execution_count": 25,
   "id": "8d580353-ccfc-4b41-898d-2eaae3c5f8a4",
   "metadata": {},
   "outputs": [
    {
     "data": {
      "text/plain": [
       "<datagen.DataGenerator at 0x7f89eef5bbe0>"
      ]
     },
     "execution_count": 25,
     "metadata": {},
     "output_type": "execute_result"
    }
   ],
   "source": [
    "dgen_train"
   ]
  },
  {
   "cell_type": "code",
   "execution_count": 26,
   "id": "1bf28e8f-b29e-4b60-b7a2-4f08ff5a547b",
   "metadata": {},
   "outputs": [
    {
     "name": "stdout",
     "output_type": "stream",
     "text": [
      "9\r"
     ]
    }
   ],
   "source": [
    "for i, (X_b, y_b) in enumerate(dgen_test):\n",
    "    print(f'{i}\\r', end='')"
   ]
  },
  {
   "cell_type": "raw",
   "id": "e9a05124-5e24-460d-af7c-ae1f15faff91",
   "metadata": {},
   "source": [
    "X_b.shape"
   ]
  },
  {
   "cell_type": "markdown",
   "id": "85941430-2534-4d7d-ba52-d934a31c1bf6",
   "metadata": {},
   "source": [
    "# Network Model"
   ]
  },
  {
   "cell_type": "code",
   "execution_count": 27,
   "id": "6bd5d1bf-4640-4cbc-acd3-72881ddcc07e",
   "metadata": {},
   "outputs": [],
   "source": [
    "from tensorflow.keras import Sequential\n",
    "from tensorflow.keras.layers import LSTM, Dense, Embedding, Bidirectional, Dropout, Activation, BatchNormalization, Conv1D, MaxPool1D, GlobalAveragePooling1D, Flatten\n",
    "from tensorflow.keras.callbacks import ModelCheckpoint\n",
    "from tensorflow.keras.optimizers import Adam, RMSprop\n",
    "from tensorflow.keras import backend as K\n",
    "import tensorflow as tf\n",
    "from tensorflow.keras import layers as L"
   ]
  },
  {
   "cell_type": "code",
   "execution_count": 28,
   "id": "b6a49020-ce69-4e17-b4e1-f4bd68317fee",
   "metadata": {},
   "outputs": [],
   "source": [
    "import tensorflow as tf\n",
    "from tensorflow.keras import layers as L\n",
    "\n",
    "def text_cnn_1d(sequence_length, vocab_size, embedding_size, filter_sizes, num_filters):\n",
    "    input_x = L.Input(shape=(sequence_length,), name='input_x')\n",
    "    \n",
    "    # Customized embedding layer\n",
    "    embedding = L.Embedding(input_dim=vocab_size, output_dim=embedding_size)(input_x)\n",
    "    \n",
    "    pooled_outputs = []\n",
    "    for filter_size in filter_sizes:\n",
    "        # Convolutional layer with L2 regularization and Leaky ReLU activation\n",
    "        conv = L.Conv1D(filters=num_filters, kernel_size=filter_size, activation='relu', kernel_regularizer=tf.keras.regularizers.l2(0.01))(embedding)\n",
    "        \n",
    "        # Max and average pooling layers\n",
    "        max_p = L.GlobalMaxPooling1D()(conv)\n",
    "        avg_p = L.GlobalAveragePooling1D()(conv)\n",
    "        \n",
    "        pooled_outputs.extend([max_p, avg_p])\n",
    "        \n",
    "    concatenated_pooling = L.Concatenate()(pooled_outputs)\n",
    "    \n",
    "    # Batch normalization\n",
    "    normalized_layer = L.BatchNormalization()(concatenated_pooling)\n",
    "    \n",
    "    # Fully connected layers with dropout and different activations\n",
    "    dense = L.Dense(256, activation='relu')(normalized_layer)\n",
    "    dense = L.Dropout(0.5)(dense)\n",
    "    dense = L.Dense(128, activation='tanh')(dense)\n",
    "    dense = L.Dropout(0.2)(dense)\n",
    "    \n",
    "    # Output layer\n",
    "    output_layer = L.Dense(1, activation='linear')(dense)\n",
    "    \n",
    "    model = tf.keras.models.Model(input_x, output_layer)\n",
    "    return model\n"
   ]
  },
  {
   "cell_type": "code",
   "execution_count": 29,
   "id": "d3db729c-1a80-40ad-b3e5-59329b172ee0",
   "metadata": {},
   "outputs": [],
   "source": [
    "# Puede cambiar estos hiperparámtros. Son solo de referencia\n",
    "FILTER_SIZES = (2, 3, 4)\n",
    "NUM_FILTERS = 256\n",
    "vocab_size = len(smiles_dict) + 1\n",
    "embeddings_size = 64 # 2"
   ]
  },
  {
   "cell_type": "code",
   "execution_count": 30,
   "id": "0e0903a5-9840-4994-9964-8e2d3e9eb326",
   "metadata": {},
   "outputs": [
    {
     "name": "stdout",
     "output_type": "stream",
     "text": [
      "Model: \"model\"\n",
      "__________________________________________________________________________________________________\n",
      " Layer (type)                Output Shape                 Param #   Connected to                  \n",
      "==================================================================================================\n",
      " input_x (InputLayer)        [(None, 224)]                0         []                            \n",
      "                                                                                                  \n",
      " embedding (Embedding)       (None, 224, 64)              2752      ['input_x[0][0]']             \n",
      "                                                                                                  \n",
      " conv1d (Conv1D)             (None, 223, 256)             33024     ['embedding[0][0]']           \n",
      "                                                                                                  \n",
      " conv1d_1 (Conv1D)           (None, 222, 256)             49408     ['embedding[0][0]']           \n",
      "                                                                                                  \n",
      " conv1d_2 (Conv1D)           (None, 221, 256)             65792     ['embedding[0][0]']           \n",
      "                                                                                                  \n",
      " global_max_pooling1d (Glob  (None, 256)                  0         ['conv1d[0][0]']              \n",
      " alMaxPooling1D)                                                                                  \n",
      "                                                                                                  \n",
      " global_average_pooling1d (  (None, 256)                  0         ['conv1d[0][0]']              \n",
      " GlobalAveragePooling1D)                                                                          \n",
      "                                                                                                  \n",
      " global_max_pooling1d_1 (Gl  (None, 256)                  0         ['conv1d_1[0][0]']            \n",
      " obalMaxPooling1D)                                                                                \n",
      "                                                                                                  \n",
      " global_average_pooling1d_1  (None, 256)                  0         ['conv1d_1[0][0]']            \n",
      "  (GlobalAveragePooling1D)                                                                        \n",
      "                                                                                                  \n",
      " global_max_pooling1d_2 (Gl  (None, 256)                  0         ['conv1d_2[0][0]']            \n",
      " obalMaxPooling1D)                                                                                \n",
      "                                                                                                  \n",
      " global_average_pooling1d_2  (None, 256)                  0         ['conv1d_2[0][0]']            \n",
      "  (GlobalAveragePooling1D)                                                                        \n",
      "                                                                                                  \n",
      " concatenate (Concatenate)   (None, 1536)                 0         ['global_max_pooling1d[0][0]',\n",
      "                                                                     'global_average_pooling1d[0][\n",
      "                                                                    0]',                          \n",
      "                                                                     'global_max_pooling1d_1[0][0]\n",
      "                                                                    ',                            \n",
      "                                                                     'global_average_pooling1d_1[0\n",
      "                                                                    ][0]',                        \n",
      "                                                                     'global_max_pooling1d_2[0][0]\n",
      "                                                                    ',                            \n",
      "                                                                     'global_average_pooling1d_2[0\n",
      "                                                                    ][0]']                        \n",
      "                                                                                                  \n",
      " batch_normalization (Batch  (None, 1536)                 6144      ['concatenate[0][0]']         \n",
      " Normalization)                                                                                   \n",
      "                                                                                                  \n",
      " dense (Dense)               (None, 256)                  393472    ['batch_normalization[0][0]'] \n",
      "                                                                                                  \n",
      " dropout (Dropout)           (None, 256)                  0         ['dense[0][0]']               \n",
      "                                                                                                  \n",
      " dense_1 (Dense)             (None, 128)                  32896     ['dropout[0][0]']             \n",
      "                                                                                                  \n",
      " dropout_1 (Dropout)         (None, 128)                  0         ['dense_1[0][0]']             \n",
      "                                                                                                  \n",
      " dense_2 (Dense)             (None, 1)                    129       ['dropout_1[0][0]']           \n",
      "                                                                                                  \n",
      "==================================================================================================\n",
      "Total params: 583617 (2.23 MB)\n",
      "Trainable params: 580545 (2.21 MB)\n",
      "Non-trainable params: 3072 (12.00 KB)\n",
      "__________________________________________________________________________________________________\n"
     ]
    }
   ],
   "source": [
    "model = text_cnn_1d(max_sequence_len, vocab_size, embeddings_size, FILTER_SIZES, NUM_FILTERS)\n",
    "model.summary()"
   ]
  },
  {
   "cell_type": "code",
   "execution_count": 31,
   "id": "4bf115a2-9f1b-42b8-9b62-59728f1da977",
   "metadata": {},
   "outputs": [],
   "source": [
    "def R2(y_true, y_pred):\n",
    "    SS_res =  K.sum(K.square( y_true-y_pred ))\n",
    "    SS_tot = K.sum(K.square( y_true - K.mean(y_true) ) )\n",
    "    return ( 1 - SS_res/(SS_tot + K.epsilon()) )"
   ]
  },
  {
   "cell_type": "code",
   "execution_count": 32,
   "id": "9138b411-fc5d-41bd-8c8e-c12580cc5b14",
   "metadata": {},
   "outputs": [
    {
     "name": "stdout",
     "output_type": "stream",
     "text": [
      "Epoch 1/50\n",
      "36/36 [==============================] - ETA: 0s - loss: 30.8982 - R2: -10.4761INFO:tensorflow:Assets written to: models/best_model_1/assets\n"
     ]
    },
    {
     "name": "stderr",
     "output_type": "stream",
     "text": [
      "INFO:tensorflow:Assets written to: models/best_model_1/assets\n"
     ]
    },
    {
     "name": "stdout",
     "output_type": "stream",
     "text": [
      "36/36 [==============================] - 20s 424ms/step - loss: 30.8982 - R2: -10.4761 - val_loss: 34.0838 - val_R2: -11.6322\n",
      "Epoch 2/50\n",
      "36/36 [==============================] - ETA: 0s - loss: 12.2421 - R2: -2.8238INFO:tensorflow:Assets written to: models/best_model_2/assets\n"
     ]
    },
    {
     "name": "stderr",
     "output_type": "stream",
     "text": [
      "INFO:tensorflow:Assets written to: models/best_model_2/assets\n"
     ]
    },
    {
     "name": "stdout",
     "output_type": "stream",
     "text": [
      "36/36 [==============================] - 9s 244ms/step - loss: 12.2421 - R2: -2.8238 - val_loss: 26.1362 - val_R2: -8.3486\n",
      "Epoch 3/50\n",
      "36/36 [==============================] - ETA: 0s - loss: 6.4233 - R2: -0.4062INFO:tensorflow:Assets written to: models/best_model_3/assets\n"
     ]
    },
    {
     "name": "stderr",
     "output_type": "stream",
     "text": [
      "INFO:tensorflow:Assets written to: models/best_model_3/assets\n"
     ]
    },
    {
     "name": "stdout",
     "output_type": "stream",
     "text": [
      "36/36 [==============================] - 10s 291ms/step - loss: 6.4233 - R2: -0.4062 - val_loss: 22.4126 - val_R2: -6.9924\n",
      "Epoch 4/50\n",
      "36/36 [==============================] - ETA: 0s - loss: 5.8240 - R2: -0.1502INFO:tensorflow:Assets written to: models/best_model_4/assets\n"
     ]
    },
    {
     "name": "stderr",
     "output_type": "stream",
     "text": [
      "INFO:tensorflow:Assets written to: models/best_model_4/assets\n"
     ]
    },
    {
     "name": "stdout",
     "output_type": "stream",
     "text": [
      "36/36 [==============================] - 14s 394ms/step - loss: 5.8240 - R2: -0.1502 - val_loss: 21.4595 - val_R2: -6.5381\n",
      "Epoch 5/50\n",
      "36/36 [==============================] - ETA: 0s - loss: 5.5270 - R2: -0.0447INFO:tensorflow:Assets written to: models/best_model_5/assets\n"
     ]
    },
    {
     "name": "stderr",
     "output_type": "stream",
     "text": [
      "INFO:tensorflow:Assets written to: models/best_model_5/assets\n"
     ]
    },
    {
     "name": "stdout",
     "output_type": "stream",
     "text": [
      "36/36 [==============================] - 11s 302ms/step - loss: 5.5270 - R2: -0.0447 - val_loss: 20.4134 - val_R2: -6.1059\n",
      "Epoch 6/50\n",
      "36/36 [==============================] - ETA: 0s - loss: 5.3851 - R2: 0.0122INFO:tensorflow:Assets written to: models/best_model_6/assets\n"
     ]
    },
    {
     "name": "stderr",
     "output_type": "stream",
     "text": [
      "INFO:tensorflow:Assets written to: models/best_model_6/assets\n"
     ]
    },
    {
     "name": "stdout",
     "output_type": "stream",
     "text": [
      "36/36 [==============================] - 9s 247ms/step - loss: 5.3851 - R2: 0.0122 - val_loss: 19.4898 - val_R2: -5.9765\n",
      "Epoch 7/50\n",
      "36/36 [==============================] - ETA: 0s - loss: 5.1988 - R2: 0.0622INFO:tensorflow:Assets written to: models/best_model_7/assets\n"
     ]
    },
    {
     "name": "stderr",
     "output_type": "stream",
     "text": [
      "INFO:tensorflow:Assets written to: models/best_model_7/assets\n"
     ]
    },
    {
     "name": "stdout",
     "output_type": "stream",
     "text": [
      "36/36 [==============================] - 13s 369ms/step - loss: 5.1988 - R2: 0.0622 - val_loss: 18.0028 - val_R2: -5.2442\n",
      "Epoch 8/50\n",
      "36/36 [==============================] - ETA: 0s - loss: 5.1571 - R2: 0.0736INFO:tensorflow:Assets written to: models/best_model_8/assets\n"
     ]
    },
    {
     "name": "stderr",
     "output_type": "stream",
     "text": [
      "INFO:tensorflow:Assets written to: models/best_model_8/assets\n"
     ]
    },
    {
     "name": "stdout",
     "output_type": "stream",
     "text": [
      "36/36 [==============================] - 13s 359ms/step - loss: 5.1571 - R2: 0.0736 - val_loss: 17.4820 - val_R2: -5.0955\n",
      "Epoch 9/50\n",
      "36/36 [==============================] - ETA: 0s - loss: 5.0515 - R2: 0.1174INFO:tensorflow:Assets written to: models/best_model_9/assets\n"
     ]
    },
    {
     "name": "stderr",
     "output_type": "stream",
     "text": [
      "INFO:tensorflow:Assets written to: models/best_model_9/assets\n"
     ]
    },
    {
     "name": "stdout",
     "output_type": "stream",
     "text": [
      "36/36 [==============================] - 14s 378ms/step - loss: 5.0515 - R2: 0.1174 - val_loss: 16.2926 - val_R2: -4.5150\n",
      "Epoch 10/50\n",
      "36/36 [==============================] - ETA: 0s - loss: 4.9590 - R2: 0.1375INFO:tensorflow:Assets written to: models/best_model_10/assets\n"
     ]
    },
    {
     "name": "stderr",
     "output_type": "stream",
     "text": [
      "INFO:tensorflow:Assets written to: models/best_model_10/assets\n"
     ]
    },
    {
     "name": "stdout",
     "output_type": "stream",
     "text": [
      "36/36 [==============================] - 14s 389ms/step - loss: 4.9590 - R2: 0.1375 - val_loss: 14.4925 - val_R2: -3.7458\n",
      "Epoch 11/50\n",
      "36/36 [==============================] - ETA: 0s - loss: 4.8523 - R2: 0.1710INFO:tensorflow:Assets written to: models/best_model_11/assets\n"
     ]
    },
    {
     "name": "stderr",
     "output_type": "stream",
     "text": [
      "INFO:tensorflow:Assets written to: models/best_model_11/assets\n"
     ]
    },
    {
     "name": "stdout",
     "output_type": "stream",
     "text": [
      "36/36 [==============================] - 11s 315ms/step - loss: 4.8523 - R2: 0.1710 - val_loss: 12.3602 - val_R2: -2.9582\n",
      "Epoch 12/50\n",
      "36/36 [==============================] - ETA: 0s - loss: 4.7745 - R2: 0.1916INFO:tensorflow:Assets written to: models/best_model_12/assets\n"
     ]
    },
    {
     "name": "stderr",
     "output_type": "stream",
     "text": [
      "INFO:tensorflow:Assets written to: models/best_model_12/assets\n"
     ]
    },
    {
     "name": "stdout",
     "output_type": "stream",
     "text": [
      "36/36 [==============================] - 9s 250ms/step - loss: 4.7745 - R2: 0.1916 - val_loss: 10.5794 - val_R2: -2.1943\n",
      "Epoch 13/50\n",
      "36/36 [==============================] - ETA: 0s - loss: 4.6726 - R2: 0.1925INFO:tensorflow:Assets written to: models/best_model_13/assets\n"
     ]
    },
    {
     "name": "stderr",
     "output_type": "stream",
     "text": [
      "INFO:tensorflow:Assets written to: models/best_model_13/assets\n"
     ]
    },
    {
     "name": "stdout",
     "output_type": "stream",
     "text": [
      "36/36 [==============================] - 11s 318ms/step - loss: 4.6726 - R2: 0.1925 - val_loss: 9.6609 - val_R2: -1.8136\n",
      "Epoch 14/50\n",
      "36/36 [==============================] - ETA: 0s - loss: 4.6178 - R2: 0.2309INFO:tensorflow:Assets written to: models/best_model_14/assets\n"
     ]
    },
    {
     "name": "stderr",
     "output_type": "stream",
     "text": [
      "INFO:tensorflow:Assets written to: models/best_model_14/assets\n"
     ]
    },
    {
     "name": "stdout",
     "output_type": "stream",
     "text": [
      "36/36 [==============================] - 11s 302ms/step - loss: 4.6178 - R2: 0.2309 - val_loss: 8.0597 - val_R2: -1.2727\n",
      "Epoch 15/50\n",
      "36/36 [==============================] - ETA: 0s - loss: 4.5635 - R2: 0.2477INFO:tensorflow:Assets written to: models/best_model_15/assets\n"
     ]
    },
    {
     "name": "stderr",
     "output_type": "stream",
     "text": [
      "INFO:tensorflow:Assets written to: models/best_model_15/assets\n"
     ]
    },
    {
     "name": "stdout",
     "output_type": "stream",
     "text": [
      "36/36 [==============================] - 10s 272ms/step - loss: 4.5635 - R2: 0.2477 - val_loss: 6.5501 - val_R2: -0.6062\n",
      "Epoch 16/50\n",
      "36/36 [==============================] - ETA: 0s - loss: 4.5028 - R2: 0.2375INFO:tensorflow:Assets written to: models/best_model_16/assets\n"
     ]
    },
    {
     "name": "stderr",
     "output_type": "stream",
     "text": [
      "INFO:tensorflow:Assets written to: models/best_model_16/assets\n"
     ]
    },
    {
     "name": "stdout",
     "output_type": "stream",
     "text": [
      "36/36 [==============================] - 11s 297ms/step - loss: 4.5028 - R2: 0.2375 - val_loss: 5.6516 - val_R2: -0.2126\n",
      "Epoch 17/50\n",
      "36/36 [==============================] - ETA: 0s - loss: 4.4727 - R2: 0.2453INFO:tensorflow:Assets written to: models/best_model_17/assets\n"
     ]
    },
    {
     "name": "stderr",
     "output_type": "stream",
     "text": [
      "INFO:tensorflow:Assets written to: models/best_model_17/assets\n"
     ]
    },
    {
     "name": "stdout",
     "output_type": "stream",
     "text": [
      "36/36 [==============================] - 13s 373ms/step - loss: 4.4727 - R2: 0.2453 - val_loss: 5.1725 - val_R2: -0.0302\n",
      "Epoch 18/50\n",
      "36/36 [==============================] - ETA: 0s - loss: 4.3762 - R2: 0.2678INFO:tensorflow:Assets written to: models/best_model_18/assets\n"
     ]
    },
    {
     "name": "stderr",
     "output_type": "stream",
     "text": [
      "INFO:tensorflow:Assets written to: models/best_model_18/assets\n"
     ]
    },
    {
     "name": "stdout",
     "output_type": "stream",
     "text": [
      "36/36 [==============================] - 13s 349ms/step - loss: 4.3762 - R2: 0.2678 - val_loss: 4.2376 - val_R2: 0.3418\n",
      "Epoch 19/50\n",
      "36/36 [==============================] - ETA: 0s - loss: 4.2480 - R2: 0.3183INFO:tensorflow:Assets written to: models/best_model_19/assets\n"
     ]
    },
    {
     "name": "stderr",
     "output_type": "stream",
     "text": [
      "INFO:tensorflow:Assets written to: models/best_model_19/assets\n"
     ]
    },
    {
     "name": "stdout",
     "output_type": "stream",
     "text": [
      "36/36 [==============================] - 10s 287ms/step - loss: 4.2480 - R2: 0.3183 - val_loss: 3.9847 - val_R2: 0.4295\n",
      "Epoch 20/50\n",
      "36/36 [==============================] - ETA: 0s - loss: 4.2484 - R2: 0.3075INFO:tensorflow:Assets written to: models/best_model_20/assets\n"
     ]
    },
    {
     "name": "stderr",
     "output_type": "stream",
     "text": [
      "INFO:tensorflow:Assets written to: models/best_model_20/assets\n"
     ]
    },
    {
     "name": "stdout",
     "output_type": "stream",
     "text": [
      "36/36 [==============================] - 11s 300ms/step - loss: 4.2484 - R2: 0.3075 - val_loss: 3.8842 - val_R2: 0.4436\n",
      "Epoch 21/50\n",
      "36/36 [==============================] - ETA: 0s - loss: 4.1818 - R2: 0.3254INFO:tensorflow:Assets written to: models/best_model_21/assets\n"
     ]
    },
    {
     "name": "stderr",
     "output_type": "stream",
     "text": [
      "INFO:tensorflow:Assets written to: models/best_model_21/assets\n"
     ]
    },
    {
     "name": "stdout",
     "output_type": "stream",
     "text": [
      "36/36 [==============================] - 14s 397ms/step - loss: 4.1818 - R2: 0.3254 - val_loss: 3.8303 - val_R2: 0.4562\n",
      "Epoch 22/50\n",
      "36/36 [==============================] - ETA: 0s - loss: 4.1822 - R2: 0.2961INFO:tensorflow:Assets written to: models/best_model_22/assets\n"
     ]
    },
    {
     "name": "stderr",
     "output_type": "stream",
     "text": [
      "INFO:tensorflow:Assets written to: models/best_model_22/assets\n"
     ]
    },
    {
     "name": "stdout",
     "output_type": "stream",
     "text": [
      "36/36 [==============================] - 13s 366ms/step - loss: 4.1822 - R2: 0.2961 - val_loss: 3.7560 - val_R2: 0.4764\n",
      "Epoch 23/50\n",
      "36/36 [==============================] - ETA: 0s - loss: 4.0803 - R2: 0.3347INFO:tensorflow:Assets written to: models/best_model_23/assets\n"
     ]
    },
    {
     "name": "stderr",
     "output_type": "stream",
     "text": [
      "INFO:tensorflow:Assets written to: models/best_model_23/assets\n"
     ]
    },
    {
     "name": "stdout",
     "output_type": "stream",
     "text": [
      "36/36 [==============================] - 11s 306ms/step - loss: 4.0803 - R2: 0.3347 - val_loss: 3.7418 - val_R2: 0.4672\n",
      "Epoch 24/50\n",
      "36/36 [==============================] - ETA: 0s - loss: 4.0186 - R2: 0.3393INFO:tensorflow:Assets written to: models/best_model_24/assets\n"
     ]
    },
    {
     "name": "stderr",
     "output_type": "stream",
     "text": [
      "INFO:tensorflow:Assets written to: models/best_model_24/assets\n"
     ]
    },
    {
     "name": "stdout",
     "output_type": "stream",
     "text": [
      "36/36 [==============================] - 9s 255ms/step - loss: 4.0186 - R2: 0.3393 - val_loss: 3.7058 - val_R2: 0.4720\n",
      "Epoch 25/50\n",
      "36/36 [==============================] - ETA: 0s - loss: 4.0165 - R2: 0.3402INFO:tensorflow:Assets written to: models/best_model_25/assets\n"
     ]
    },
    {
     "name": "stderr",
     "output_type": "stream",
     "text": [
      "INFO:tensorflow:Assets written to: models/best_model_25/assets\n"
     ]
    },
    {
     "name": "stdout",
     "output_type": "stream",
     "text": [
      "36/36 [==============================] - 12s 340ms/step - loss: 4.0165 - R2: 0.3402 - val_loss: 3.6881 - val_R2: 0.4513\n",
      "Epoch 26/50\n",
      "36/36 [==============================] - ETA: 0s - loss: 3.9164 - R2: 0.3637INFO:tensorflow:Assets written to: models/best_model_26/assets\n"
     ]
    },
    {
     "name": "stderr",
     "output_type": "stream",
     "text": [
      "INFO:tensorflow:Assets written to: models/best_model_26/assets\n"
     ]
    },
    {
     "name": "stdout",
     "output_type": "stream",
     "text": [
      "36/36 [==============================] - 13s 361ms/step - loss: 3.9164 - R2: 0.3637 - val_loss: 3.6322 - val_R2: 0.4829\n",
      "Epoch 27/50\n",
      "36/36 [==============================] - ETA: 0s - loss: 3.8423 - R2: 0.3877INFO:tensorflow:Assets written to: models/best_model_27/assets\n"
     ]
    },
    {
     "name": "stderr",
     "output_type": "stream",
     "text": [
      "INFO:tensorflow:Assets written to: models/best_model_27/assets\n"
     ]
    },
    {
     "name": "stdout",
     "output_type": "stream",
     "text": [
      "36/36 [==============================] - 8s 233ms/step - loss: 3.8423 - R2: 0.3877 - val_loss: 3.6214 - val_R2: 0.4667\n",
      "Epoch 28/50\n",
      "36/36 [==============================] - ETA: 0s - loss: 3.8571 - R2: 0.3696INFO:tensorflow:Assets written to: models/best_model_28/assets\n"
     ]
    },
    {
     "name": "stderr",
     "output_type": "stream",
     "text": [
      "INFO:tensorflow:Assets written to: models/best_model_28/assets\n"
     ]
    },
    {
     "name": "stdout",
     "output_type": "stream",
     "text": [
      "36/36 [==============================] - 10s 287ms/step - loss: 3.8571 - R2: 0.3696 - val_loss: 3.6056 - val_R2: 0.4765\n",
      "Epoch 29/50\n",
      "36/36 [==============================] - ETA: 0s - loss: 3.7636 - R2: 0.3859INFO:tensorflow:Assets written to: models/best_model_29/assets\n"
     ]
    },
    {
     "name": "stderr",
     "output_type": "stream",
     "text": [
      "INFO:tensorflow:Assets written to: models/best_model_29/assets\n"
     ]
    },
    {
     "name": "stdout",
     "output_type": "stream",
     "text": [
      "36/36 [==============================] - 13s 356ms/step - loss: 3.7636 - R2: 0.3859 - val_loss: 3.4974 - val_R2: 0.5009\n",
      "Epoch 30/50\n",
      "36/36 [==============================] - 7s 189ms/step - loss: 3.7623 - R2: 0.3818 - val_loss: 3.5800 - val_R2: 0.4528\n",
      "Epoch 31/50\n",
      "36/36 [==============================] - ETA: 0s - loss: 3.7123 - R2: 0.3829INFO:tensorflow:Assets written to: models/best_model_31/assets\n"
     ]
    },
    {
     "name": "stderr",
     "output_type": "stream",
     "text": [
      "INFO:tensorflow:Assets written to: models/best_model_31/assets\n"
     ]
    },
    {
     "name": "stdout",
     "output_type": "stream",
     "text": [
      "36/36 [==============================] - 10s 278ms/step - loss: 3.7123 - R2: 0.3829 - val_loss: 3.3910 - val_R2: 0.5144\n",
      "Epoch 32/50\n",
      "36/36 [==============================] - ETA: 0s - loss: 3.6595 - R2: 0.3931INFO:tensorflow:Assets written to: models/best_model_32/assets\n"
     ]
    },
    {
     "name": "stderr",
     "output_type": "stream",
     "text": [
      "INFO:tensorflow:Assets written to: models/best_model_32/assets\n"
     ]
    },
    {
     "name": "stdout",
     "output_type": "stream",
     "text": [
      "36/36 [==============================] - 14s 384ms/step - loss: 3.6595 - R2: 0.3931 - val_loss: 3.3722 - val_R2: 0.5149\n",
      "Epoch 33/50\n",
      "36/36 [==============================] - 8s 226ms/step - loss: 3.6070 - R2: 0.4071 - val_loss: 3.4345 - val_R2: 0.4758\n",
      "Epoch 34/50\n",
      "36/36 [==============================] - ETA: 0s - loss: 3.5644 - R2: 0.4246INFO:tensorflow:Assets written to: models/best_model_34/assets\n"
     ]
    },
    {
     "name": "stderr",
     "output_type": "stream",
     "text": [
      "INFO:tensorflow:Assets written to: models/best_model_34/assets\n"
     ]
    },
    {
     "name": "stdout",
     "output_type": "stream",
     "text": [
      "36/36 [==============================] - 10s 278ms/step - loss: 3.5644 - R2: 0.4246 - val_loss: 3.3167 - val_R2: 0.5201\n",
      "Epoch 35/50\n",
      "36/36 [==============================] - 8s 216ms/step - loss: 3.5390 - R2: 0.4209 - val_loss: 3.4584 - val_R2: 0.4349\n",
      "Epoch 36/50\n",
      "36/36 [==============================] - 10s 283ms/step - loss: 3.4833 - R2: 0.4287 - val_loss: 3.5690 - val_R2: 0.3762\n",
      "Epoch 37/50\n",
      "36/36 [==============================] - ETA: 0s - loss: 3.4673 - R2: 0.4327INFO:tensorflow:Assets written to: models/best_model_37/assets\n"
     ]
    },
    {
     "name": "stderr",
     "output_type": "stream",
     "text": [
      "INFO:tensorflow:Assets written to: models/best_model_37/assets\n"
     ]
    },
    {
     "name": "stdout",
     "output_type": "stream",
     "text": [
      "36/36 [==============================] - 14s 396ms/step - loss: 3.4673 - R2: 0.4327 - val_loss: 3.2302 - val_R2: 0.5176\n",
      "Epoch 38/50\n",
      "36/36 [==============================] - 10s 279ms/step - loss: 3.4217 - R2: 0.4332 - val_loss: 3.2680 - val_R2: 0.4992\n",
      "Epoch 39/50\n",
      "36/36 [==============================] - ETA: 0s - loss: 3.3522 - R2: 0.4539INFO:tensorflow:Assets written to: models/best_model_39/assets\n"
     ]
    },
    {
     "name": "stderr",
     "output_type": "stream",
     "text": [
      "INFO:tensorflow:Assets written to: models/best_model_39/assets\n"
     ]
    },
    {
     "name": "stdout",
     "output_type": "stream",
     "text": [
      "36/36 [==============================] - 13s 359ms/step - loss: 3.3522 - R2: 0.4539 - val_loss: 3.1293 - val_R2: 0.5335\n",
      "Epoch 40/50\n",
      "36/36 [==============================] - 7s 181ms/step - loss: 3.2828 - R2: 0.4727 - val_loss: 3.1996 - val_R2: 0.5080\n",
      "Epoch 41/50\n",
      "36/36 [==============================] - 10s 265ms/step - loss: 3.2893 - R2: 0.4582 - val_loss: 3.2829 - val_R2: 0.4674\n",
      "Epoch 42/50\n",
      "36/36 [==============================] - 10s 284ms/step - loss: 3.2835 - R2: 0.4569 - val_loss: 3.1756 - val_R2: 0.5090\n",
      "Epoch 43/50\n",
      "36/36 [==============================] - ETA: 0s - loss: 3.2064 - R2: 0.4701INFO:tensorflow:Assets written to: models/best_model_43/assets\n"
     ]
    },
    {
     "name": "stderr",
     "output_type": "stream",
     "text": [
      "INFO:tensorflow:Assets written to: models/best_model_43/assets\n"
     ]
    },
    {
     "name": "stdout",
     "output_type": "stream",
     "text": [
      "36/36 [==============================] - 13s 367ms/step - loss: 3.2064 - R2: 0.4701 - val_loss: 3.0173 - val_R2: 0.5520\n",
      "Epoch 44/50\n",
      "36/36 [==============================] - 9s 238ms/step - loss: 3.2024 - R2: 0.4606 - val_loss: 3.0830 - val_R2: 0.5167\n",
      "Epoch 45/50\n",
      "36/36 [==============================] - 7s 185ms/step - loss: 3.1396 - R2: 0.4831 - val_loss: 3.2132 - val_R2: 0.4431\n",
      "Epoch 46/50\n",
      "36/36 [==============================] - ETA: 0s - loss: 3.1368 - R2: 0.4742INFO:tensorflow:Assets written to: models/best_model_46/assets\n"
     ]
    },
    {
     "name": "stderr",
     "output_type": "stream",
     "text": [
      "INFO:tensorflow:Assets written to: models/best_model_46/assets\n"
     ]
    },
    {
     "name": "stdout",
     "output_type": "stream",
     "text": [
      "36/36 [==============================] - 10s 274ms/step - loss: 3.1368 - R2: 0.4742 - val_loss: 2.9692 - val_R2: 0.5422\n",
      "Epoch 47/50\n",
      "36/36 [==============================] - ETA: 0s - loss: 3.0814 - R2: 0.4915INFO:tensorflow:Assets written to: models/best_model_47/assets\n"
     ]
    },
    {
     "name": "stderr",
     "output_type": "stream",
     "text": [
      "INFO:tensorflow:Assets written to: models/best_model_47/assets\n"
     ]
    },
    {
     "name": "stdout",
     "output_type": "stream",
     "text": [
      "36/36 [==============================] - 13s 370ms/step - loss: 3.0814 - R2: 0.4915 - val_loss: 2.9173 - val_R2: 0.5510\n",
      "Epoch 48/50\n",
      "36/36 [==============================] - 10s 273ms/step - loss: 3.0608 - R2: 0.4859 - val_loss: 2.9663 - val_R2: 0.5246\n",
      "Epoch 49/50\n",
      "36/36 [==============================] - 10s 261ms/step - loss: 3.0491 - R2: 0.4843 - val_loss: 2.9443 - val_R2: 0.5173\n",
      "Epoch 50/50\n",
      "36/36 [==============================] - ETA: 0s - loss: 2.9777 - R2: 0.5093INFO:tensorflow:Assets written to: models/best_model_50/assets\n"
     ]
    },
    {
     "name": "stderr",
     "output_type": "stream",
     "text": [
      "INFO:tensorflow:Assets written to: models/best_model_50/assets\n"
     ]
    },
    {
     "name": "stdout",
     "output_type": "stream",
     "text": [
      "36/36 [==============================] - 13s 352ms/step - loss: 2.9777 - R2: 0.5093 - val_loss: 2.8481 - val_R2: 0.5594\n"
     ]
    }
   ],
   "source": [
    "mcp = ModelCheckpoint('models/best_model_{epoch}', save_best_only=True, save_format=\"h5\")\n",
    "model.compile(optimizer=Adam(learning_rate=0.0001), loss='mse', metrics=[R2])\n",
    "history = model.fit(dgen_train, epochs=50, validation_data=dgen_test,callbacks=[mcp])"
   ]
  },
  {
   "cell_type": "code",
   "execution_count": 33,
   "id": "a0242588-eede-4e85-8b83-f207ea8ab757",
   "metadata": {},
   "outputs": [],
   "source": [
    "X_test_eval = []\n",
    "y_t_eval = []\n",
    "for X_t, y_t in dgen_test:\n",
    "    X_test_eval = X_test_eval + [list(t) for t in X_t]\n",
    "    y_t_eval = y_t_eval + list(y_t)\n",
    "X_test_eval = np.array(X_test_eval)\n",
    "y_test = np.array(y_t_eval)"
   ]
  },
  {
   "cell_type": "code",
   "execution_count": 34,
   "id": "a1437cbf-fe44-4999-a44b-05cea765f22b",
   "metadata": {},
   "outputs": [
    {
     "data": {
      "text/plain": [
       "((1232, 224), (1232,))"
      ]
     },
     "execution_count": 34,
     "metadata": {},
     "output_type": "execute_result"
    }
   ],
   "source": [
    "X_test_eval.shape, y_test.shape"
   ]
  },
  {
   "cell_type": "code",
   "execution_count": 35,
   "id": "0084fbb1-e83e-4808-99bf-1458f3ea3076",
   "metadata": {},
   "outputs": [
    {
     "name": "stdout",
     "output_type": "stream",
     "text": [
      "39/39 [==============================] - 1s 20ms/step\n"
     ]
    }
   ],
   "source": [
    "y_pred = model.predict(X_test_eval)"
   ]
  },
  {
   "cell_type": "markdown",
   "id": "382979a3-f299-4762-8b6d-10a6ea4d3c70",
   "metadata": {},
   "source": [
    "# Score"
   ]
  },
  {
   "cell_type": "code",
   "execution_count": 36,
   "id": "f9fd5d60-841f-46c3-94b6-5755b4d548cd",
   "metadata": {},
   "outputs": [],
   "source": [
    "r2 = 1 - ((y_test - y_pred.reshape(-1)) ** 2).sum() / ((y_test - y_test.mean()) ** 2).sum()"
   ]
  },
  {
   "cell_type": "code",
   "execution_count": 37,
   "id": "4d2bfabe-2e3e-40cf-a1e8-2d458ee7f328",
   "metadata": {},
   "outputs": [
    {
     "data": {
      "text/plain": [
       "0.5672260880277783"
      ]
     },
     "execution_count": 37,
     "metadata": {},
     "output_type": "execute_result"
    }
   ],
   "source": [
    "r2"
   ]
  },
  {
   "cell_type": "code",
   "execution_count": 38,
   "id": "85262541-e04a-4ff2-b3e6-a47643db66f6",
   "metadata": {},
   "outputs": [
    {
     "name": "stderr",
     "output_type": "stream",
     "text": [
      "/home/nando/miniconda3/envs/tensorflow/lib/python3.9/site-packages/keras/src/engine/training.py:3000: UserWarning: You are saving your model as an HDF5 file via `model.save()`. This file format is considered legacy. We recommend using instead the native Keras format, e.g. `model.save('my_model.keras')`.\n",
      "  saving_api.save_model(\n"
     ]
    }
   ],
   "source": [
    "filename = 'models/embed_128_text_cnn_aug_100x100_0.0001.h5'\n",
    "model.save(filename)"
   ]
  },
  {
   "cell_type": "code",
   "execution_count": 39,
   "id": "67cf753c-a7f6-4b8a-abe3-3253986cc53a",
   "metadata": {},
   "outputs": [],
   "source": [
    "# model.summary()"
   ]
  },
  {
   "cell_type": "markdown",
   "id": "5f683e18-c876-4f7c-93ea-a33d495dcdaa",
   "metadata": {},
   "source": [
    "# Load model (solo si se grabo el modelo)"
   ]
  },
  {
   "cell_type": "code",
   "execution_count": 40,
   "id": "285c8740-f0bb-4237-8593-ff9b815de0e3",
   "metadata": {},
   "outputs": [],
   "source": [
    "from tensorflow.keras.models import load_model"
   ]
  },
  {
   "cell_type": "code",
   "execution_count": 41,
   "id": "2168984f-770c-436e-92da-c1344b1d3abc",
   "metadata": {},
   "outputs": [],
   "source": [
    "model_loaded = load_model(filename, custom_objects={'R2': R2})"
   ]
  },
  {
   "cell_type": "code",
   "execution_count": 42,
   "id": "13a9d7d8-41e0-44a0-a8b9-02157a11f8f2",
   "metadata": {},
   "outputs": [
    {
     "name": "stdout",
     "output_type": "stream",
     "text": [
      "39/39 [==============================] - 1s 15ms/step\n"
     ]
    }
   ],
   "source": [
    "y_pred = model_loaded.predict(X_test_eval)"
   ]
  },
  {
   "cell_type": "code",
   "execution_count": 43,
   "id": "26c63493-3f25-4383-9654-58ee62aa3ae5",
   "metadata": {},
   "outputs": [
    {
     "data": {
      "text/plain": [
       "0.5672260880277783"
      ]
     },
     "execution_count": 43,
     "metadata": {},
     "output_type": "execute_result"
    }
   ],
   "source": [
    "r2 = 1 - ((y_test - y_pred.reshape(-1)) ** 2).sum() / ((y_test - y_test.mean()) ** 2).sum()\n",
    "r2"
   ]
  },
  {
   "cell_type": "markdown",
   "id": "7f1a6260-e31f-4e5e-a923-ce67bf31152f",
   "metadata": {},
   "source": [
    "# Evaluación"
   ]
  },
  {
   "cell_type": "code",
   "execution_count": 44,
   "id": "7dd9d7e6-2789-459e-b9dd-593e10847fc4",
   "metadata": {},
   "outputs": [
    {
     "data": {
      "text/plain": [
       "<function matplotlib.pyplot.show(close=None, block=None)>"
      ]
     },
     "execution_count": 44,
     "metadata": {},
     "output_type": "execute_result"
    },
    {
     "data": {
      "image/png": "[encoded data removed]",
      "text/plain": [
       "<Figure size 500x500 with 1 Axes>"
      ]
     },
     "metadata": {},
     "output_type": "display_data"
    }
   ],
   "source": [
    "import seaborn as sns\n",
    "import matplotlib.pyplot as plt\n",
    "\n",
    "sns.set(color_codes=True)\n",
    "sns.set_style(\"white\")\n",
    "\n",
    "ax = sns.regplot(x=y_test, y=y_pred, scatter_kws={'alpha':0.4})\n",
    "ax.set_xlabel('Experimental pIC50', fontsize='large', fontweight='bold')\n",
    "ax.set_ylabel('Predicted pIC50', fontsize='large', fontweight='bold')\n",
    "ax.set_xlim(0, 12)\n",
    "ax.set_ylim(0, 12)\n",
    "ax.figure.set_size_inches(5, 5)\n",
    "plt.show"
   ]
  },
  {
   "cell_type": "code",
   "execution_count": null,
   "id": "87c4d36c-542f-43bb-a02e-83aed2e030c7",
   "metadata": {},
   "outputs": [],
   "source": []
  },
  {
   "cell_type": "code",
   "execution_count": null,
   "id": "94415fb3-493a-44a1-be44-8f9941da4e26",
   "metadata": {},
   "outputs": [],
   "source": []
  },
  {
   "cell_type": "code",
   "execution_count": null,
   "id": "dbac3579-ca50-43ac-85d7-04448cf1e1a9",
   "metadata": {},
   "outputs": [],
   "source": []
  },
  {
   "cell_type": "code",
   "execution_count": null,
   "id": "1aa20c81-ed7b-48e5-ac05-8dc5ce9152bd",
   "metadata": {},
   "outputs": [],
   "source": []
  },
  {
   "cell_type": "code",
   "execution_count": null,
   "id": "5e3d3397-4df0-410c-9d65-fd1de38cce72",
   "metadata": {},
   "outputs": [],
   "source": []
  },
  {
   "cell_type": "code",
   "execution_count": null,
   "id": "6bc5cd5f-b2d1-47d4-b490-298d2783ec0d",
   "metadata": {},
   "outputs": [],
   "source": []
  },
  {
   "cell_type": "code",
   "execution_count": null,
   "id": "9ad8b539-0173-46b3-be9a-051e991dbf61",
   "metadata": {},
   "outputs": [],
   "source": []
  }
 ],
 "metadata": {
  "kernelspec": {
   "display_name": "Tensorflow",
   "language": "python",
   "name": "tensorflow"
  },
  "language_info": {
   "codemirror_mode": {
    "name": "ipython",
    "version": 3
   },
   "file_extension": ".py",
   "mimetype": "text/x-python",
   "name": "python",
   "nbconvert_exporter": "python",
   "pygments_lexer": "ipython3",
   "version": "3.9.17"
  }
 },
 "nbformat": 4,
 "nbformat_minor": 5
}
