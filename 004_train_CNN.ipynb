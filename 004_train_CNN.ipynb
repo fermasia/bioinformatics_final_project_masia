{
 "cells": [
  {
   "cell_type": "code",
   "execution_count": 89,
   "id": "3ac13f6c-a061-4c24-a5fc-081ea6283a62",
   "metadata": {},
   "outputs": [
    {
     "name": "stdout",
     "output_type": "stream",
     "text": [
      "The autoreload extension is already loaded. To reload it, use:\n",
      "  %reload_ext autoreload\n"
     ]
    }
   ],
   "source": [
    "%load_ext autoreload\n",
    "%autoreload 2"
   ]
  },
  {
   "cell_type": "markdown",
   "id": "9dab7de8-eb23-47d7-a771-28a2397d0a54",
   "metadata": {},
   "source": [
    "# Modelo CNN con generador, embedings de smiles y data-augmentation"
   ]
  },
  {
   "cell_type": "code",
   "execution_count": 90,
   "id": "21bee0a3-79a7-43b2-9ac2-15cad5630e22",
   "metadata": {},
   "outputs": [],
   "source": [
    "import pandas as pd\n",
    "import numpy as np\n",
    "from datagen import smiles_dict, smiles_to_seq"
   ]
  },
  {
   "cell_type": "markdown",
   "id": "20aa799f-b75c-4d23-869b-fea6d041a6e9",
   "metadata": {},
   "source": [
    "### smiles_dict"
   ]
  },
  {
   "cell_type": "code",
   "execution_count": 91,
   "id": "628a3149-eabe-4de3-8404-d86eb6ad3baf",
   "metadata": {},
   "outputs": [
    {
     "data": {
      "text/plain": [
       "42"
      ]
     },
     "execution_count": 91,
     "metadata": {},
     "output_type": "execute_result"
    }
   ],
   "source": [
    "len(smiles_dict)"
   ]
  },
  {
   "cell_type": "markdown",
   "id": "b9c9312c-4232-414c-b0ff-1e6fb6dba1a6",
   "metadata": {},
   "source": [
    "smiles_dict nos da un tokenizador para simplificar el problema. Puede ver como se construyó en la notebook **deep_chem**.\n",
    "Si al momento de correr el modelo con este diccionario encuentra problemas de key_error, puede agregar los faltantes al diccionario\n",
    "\n",
    "Mirar dentro de **datagen.py** como se usa este diccionario con la función **smiles_to_seq** para tokenizar. El código es muy sencillo"
   ]
  },
  {
   "cell_type": "code",
   "execution_count": 92,
   "id": "e29ef48f-4b67-42a4-83af-e7d0bb980c4b",
   "metadata": {},
   "outputs": [
    {
     "name": "stdout",
     "output_type": "stream",
     "text": [
      "{'#': 1, '(': 2, ')': 3, '+': 4, '-': 5, '/': 6, '1': 7, '2': 8, '3': 9, '4': 10, '5': 11, '6': 12, '7': 13, '8': 14, '=': 15, 'C': 16, 'F': 17, 'H': 18, 'I': 19, 'N': 20, 'O': 21, 'P': 22, 'S': 23, '[': 24, '\\\\': 25, ']': 26, '_': 27, 'c': 28, 'Cl': 29, 'Br': 30, 'n': 31, 'o': 32, 's': 33, '@': 34, '.': 35, 'a': 36, 'B': 37, 'e': 38, 'i': 39, '9': 40, '10': 41, '11': 42}\n"
     ]
    }
   ],
   "source": [
    "print(smiles_dict)"
   ]
  },
  {
   "cell_type": "markdown",
   "id": "b103a4e0-038d-406b-aab8-5c9452ede04e",
   "metadata": {},
   "source": [
    "# Carga de los datos"
   ]
  },
  {
   "cell_type": "code",
   "execution_count": 93,
   "id": "353a2d75-f0f4-4563-9842-c68d77118161",
   "metadata": {},
   "outputs": [],
   "source": [
    "df = pd.read_csv('data/acetylcholinesterase_02_bioactivity_data_preprocessed.csv')"
   ]
  },
  {
   "cell_type": "code",
   "execution_count": 94,
   "id": "4e7fcdcb-ad53-4ebf-bc17-a241c79269da",
   "metadata": {},
   "outputs": [],
   "source": [
    "max_len_idx = df['canonical_smiles'].apply(len).argmax()\n",
    "min_len_idx = df['canonical_smiles'].apply(len).argmin()\n",
    "max_sequence_len = len(df['canonical_smiles'].iloc[max_len_idx]) + 20"
   ]
  },
  {
   "cell_type": "code",
   "execution_count": 95,
   "id": "d1554fa5-d9ee-456c-be20-80571e319fc6",
   "metadata": {},
   "outputs": [
    {
     "data": {
      "text/html": [
       "<div>\n",
       "<style scoped>\n",
       "    .dataframe tbody tr th:only-of-type {\n",
       "        vertical-align: middle;\n",
       "    }\n",
       "\n",
       "    .dataframe tbody tr th {\n",
       "        vertical-align: top;\n",
       "    }\n",
       "\n",
       "    .dataframe thead th {\n",
       "        text-align: right;\n",
       "    }\n",
       "</style>\n",
       "<table border=\"1\" class=\"dataframe\">\n",
       "  <thead>\n",
       "    <tr style=\"text-align: right;\">\n",
       "      <th></th>\n",
       "      <th>molecule_chembl_id</th>\n",
       "      <th>canonical_smiles</th>\n",
       "      <th>standard_value</th>\n",
       "      <th>standard_value_norm</th>\n",
       "      <th>pIC50</th>\n",
       "    </tr>\n",
       "  </thead>\n",
       "  <tbody>\n",
       "    <tr>\n",
       "      <th>0</th>\n",
       "      <td>CHEMBL133897</td>\n",
       "      <td>CCOc1nn(-c2cccc(OCc3ccccc3)c2)c(=O)o1</td>\n",
       "      <td>750.0</td>\n",
       "      <td>750.0</td>\n",
       "      <td>6.124939</td>\n",
       "    </tr>\n",
       "    <tr>\n",
       "      <th>1</th>\n",
       "      <td>CHEMBL336398</td>\n",
       "      <td>O=C(N1CCCCC1)n1nc(-c2ccc(Cl)cc2)nc1SCC1CC1</td>\n",
       "      <td>100.0</td>\n",
       "      <td>100.0</td>\n",
       "      <td>7.000000</td>\n",
       "    </tr>\n",
       "    <tr>\n",
       "      <th>2</th>\n",
       "      <td>CHEMBL131588</td>\n",
       "      <td>CN(C(=O)n1nc(-c2ccc(Cl)cc2)nc1SCC(F)(F)F)c1ccccc1</td>\n",
       "      <td>50000.0</td>\n",
       "      <td>50000.0</td>\n",
       "      <td>4.301030</td>\n",
       "    </tr>\n",
       "    <tr>\n",
       "      <th>3</th>\n",
       "      <td>CHEMBL130628</td>\n",
       "      <td>O=C(N1CCCCC1)n1nc(-c2ccc(Cl)cc2)nc1SCC(F)(F)F</td>\n",
       "      <td>300.0</td>\n",
       "      <td>300.0</td>\n",
       "      <td>6.522879</td>\n",
       "    </tr>\n",
       "    <tr>\n",
       "      <th>4</th>\n",
       "      <td>CHEMBL130478</td>\n",
       "      <td>CSc1nc(-c2ccc(OC(F)(F)F)cc2)nn1C(=O)N(C)C</td>\n",
       "      <td>800.0</td>\n",
       "      <td>800.0</td>\n",
       "      <td>6.096910</td>\n",
       "    </tr>\n",
       "  </tbody>\n",
       "</table>\n",
       "</div>"
      ],
      "text/plain": [
       "  molecule_chembl_id                                   canonical_smiles  \\\n",
       "0       CHEMBL133897              CCOc1nn(-c2cccc(OCc3ccccc3)c2)c(=O)o1   \n",
       "1       CHEMBL336398         O=C(N1CCCCC1)n1nc(-c2ccc(Cl)cc2)nc1SCC1CC1   \n",
       "2       CHEMBL131588  CN(C(=O)n1nc(-c2ccc(Cl)cc2)nc1SCC(F)(F)F)c1ccccc1   \n",
       "3       CHEMBL130628      O=C(N1CCCCC1)n1nc(-c2ccc(Cl)cc2)nc1SCC(F)(F)F   \n",
       "4       CHEMBL130478          CSc1nc(-c2ccc(OC(F)(F)F)cc2)nn1C(=O)N(C)C   \n",
       "\n",
       "   standard_value  standard_value_norm     pIC50  \n",
       "0           750.0                750.0  6.124939  \n",
       "1           100.0                100.0  7.000000  \n",
       "2         50000.0              50000.0  4.301030  \n",
       "3           300.0                300.0  6.522879  \n",
       "4           800.0                800.0  6.096910  "
      ]
     },
     "execution_count": 95,
     "metadata": {},
     "output_type": "execute_result"
    }
   ],
   "source": [
    "df.head()"
   ]
  },
  {
   "cell_type": "code",
   "execution_count": 96,
   "id": "9675f7e8-a8e6-44ff-b1c5-b229cbbeb2e9",
   "metadata": {},
   "outputs": [],
   "source": [
    "X = df['canonical_smiles'].values\n",
    "y = df['pIC50'].values"
   ]
  },
  {
   "cell_type": "markdown",
   "id": "dd87900d-dca2-4f0e-a5c2-58fef4266a67",
   "metadata": {},
   "source": [
    "# Data augmentation:\n",
    "\n",
    "https://arxiv.org/pdf/1703.07076.pdf\n",
    "\n",
    "https://github.com/EBjerrum/molvecgen\n",
    "\n",
    "https://github.com/Ebjerrum/SMILES-enumeration"
   ]
  },
  {
   "cell_type": "markdown",
   "id": "605fb205-e7e7-45fb-99bd-2e6f490977a8",
   "metadata": {},
   "source": [
    "En la publicación de arriba se describe una técnica de aumentación de datos para los smiles. Leerla si es de su interes (Opcional)\n",
    "\n",
    "En el módulo **dataug.py**, tomando como referencia los repositorios arriba citados se implementó la aumentación de datos"
   ]
  },
  {
   "cell_type": "code",
   "execution_count": 97,
   "id": "cd51b313-2eda-4b2f-b876-7ddf27fae055",
   "metadata": {},
   "outputs": [
    {
     "name": "stdout",
     "output_type": "stream",
     "text": [
      "c1(OCC)oc(=O)n(-c2cc(OCc3ccccc3)ccc2)n1\n",
      "c1(=O)n(-c2cc(OCc3ccccc3)ccc2)nc(OCC)o1\n",
      "c1c(COc2cccc(-n3nc(OCC)oc3=O)c2)cccc1\n",
      "CCOc1nn(-c2cccc(OCc3ccccc3)c2)c(=O)o1\n",
      "c1c(COc2cccc(-n3c(=O)oc(OCC)n3)c2)cccc1\n",
      "c1(COc2cc(-n3nc(OCC)oc3=O)ccc2)ccccc1\n",
      "c1c(-n2nc(OCC)oc2=O)cccc1OCc1ccccc1\n",
      "c1cc(OCc2ccccc2)cc(-n2nc(OCC)oc2=O)c1\n",
      "c1(OCC)nn(-c2cc(OCc3ccccc3)ccc2)c(=O)o1\n",
      "CCOc1nn(-c2cccc(OCc3ccccc3)c2)c(=O)o1\n"
     ]
    }
   ],
   "source": [
    "seq = 'CCOc1nn(-c2cccc(OCc3ccccc3)c2)c(=O)o1'\n",
    "\n",
    "from dataaug import SmilesEnumerator\n",
    "sme = SmilesEnumerator()\n",
    "for i in range(10):\n",
    "    print(sme.randomize_smiles('CCOc1nn(-c2cccc(OCc3ccccc3)c2)c(=O)o1'))"
   ]
  },
  {
   "cell_type": "code",
   "execution_count": 98,
   "id": "d4733af9-9c49-4c2f-bb1d-dc7f180cc66f",
   "metadata": {},
   "outputs": [
    {
     "name": "stdout",
     "output_type": "stream",
     "text": [
      "CCOc1oc(=O)n(-c2cccc(OCc3ccccc3)c2)n1\n",
      "c1c(COc2cc(-n3c(=O)oc(OCC)n3)ccc2)cccc1\n",
      "C(Oc1cccc(-n2nc(OCC)oc2=O)c1)c1ccccc1\n",
      "n1c(OCC)oc(=O)n1-c1cc(OCc2ccccc2)ccc1\n",
      "c1c(OCc2ccccc2)cccc1-n1nc(OCC)oc1=O\n",
      "c1ccc(COc2cc(-n3nc(OCC)oc3=O)ccc2)cc1\n",
      "c1c(-n2nc(OCC)oc2=O)cccc1OCc1ccccc1\n",
      "c1c(OCc2ccccc2)cccc1-n1nc(OCC)oc1=O\n",
      "n1(-c2cccc(OCc3ccccc3)c2)c(=O)oc(OCC)n1\n",
      "n1c(OCC)oc(=O)n1-c1cccc(OCc2ccccc2)c1\n"
     ]
    }
   ],
   "source": [
    "from dataaug import SmilesEnumerator\n",
    "sme = SmilesEnumerator()\n",
    "for i in range(10):\n",
    "    print(sme.randomize_smiles('CCOc1nn(-c2cccc(OCc3ccccc3)c2)c(=O)o1'))\n",
    "    "
   ]
  },
  {
   "cell_type": "markdown",
   "id": "7a1923d3-1df0-4df1-a43c-ec30eff6fe4d",
   "metadata": {},
   "source": [
    "# DataGenerator"
   ]
  },
  {
   "cell_type": "markdown",
   "id": "fc6a3c67-9f44-4052-9e93-9e274f08c1b5",
   "metadata": {},
   "source": [
    "Construir un generador al que se le pase al instanciarlo:\n",
    "- X: smiles (formula química)\n",
    "- y: pIC50\n",
    "- batch_size\n",
    "- max_sequence_len (int): La máxima longitud de las secuencias (para hacer el padding)\n",
    "- data_augmentation (boolean): si quiero hacer o no data-augmentation. \n",
    "- shuffle (boolean)\n",
    "\n",
    "Guardarlo en el módulo **datagen.py** con el nombre de la clase **DataGenerator**\n",
    "\n",
    "Notar que el módulo **datagen.py** ya tiene una estructura para completar"
   ]
  },
  {
   "cell_type": "markdown",
   "id": "f602f3e4-24aa-41ee-9f83-89ec3acc96f1",
   "metadata": {},
   "source": [
    "### Importamos el módulo y lo probamos"
   ]
  },
  {
   "cell_type": "code",
   "execution_count": 99,
   "id": "413bce05-2685-4c84-8a43-c3dd8ed74e11",
   "metadata": {},
   "outputs": [],
   "source": [
    "from datagen import DataGenerator"
   ]
  },
  {
   "cell_type": "code",
   "execution_count": 100,
   "id": "fa46e729-47d1-40db-a9a1-db85c25c3c09",
   "metadata": {},
   "outputs": [
    {
     "data": {
      "text/plain": [
       "224"
      ]
     },
     "execution_count": 100,
     "metadata": {},
     "output_type": "execute_result"
    }
   ],
   "source": [
    "max_sequence_len"
   ]
  },
  {
   "cell_type": "code",
   "execution_count": 101,
   "id": "52aa520a-a84b-4d8b-a22e-6b4a5cc7e65a",
   "metadata": {},
   "outputs": [],
   "source": [
    "dgen = DataGenerator(X, y, max_sequence_len, batch_size=16)"
   ]
  },
  {
   "cell_type": "code",
   "execution_count": 102,
   "id": "b3212e31-dd2c-4ebc-b9a0-78ed4bb5d78d",
   "metadata": {},
   "outputs": [
    {
     "data": {
      "text/plain": [
       "6160"
      ]
     },
     "execution_count": 102,
     "metadata": {},
     "output_type": "execute_result"
    }
   ],
   "source": [
    "len(dgen) * dgen.batch_size"
   ]
  },
  {
   "cell_type": "code",
   "execution_count": 103,
   "id": "133033ed-a3b1-4572-aaaf-f4cb2a055724",
   "metadata": {},
   "outputs": [
    {
     "name": "stdout",
     "output_type": "stream",
     "text": [
      "384\r"
     ]
    }
   ],
   "source": [
    "for i, (X_b, y_b) in enumerate(dgen):\n",
    "    print(f'{i}\\r', end='')"
   ]
  },
  {
   "cell_type": "code",
   "execution_count": 104,
   "id": "d010f566-c375-4518-879f-d087fc2cb7ef",
   "metadata": {},
   "outputs": [
    {
     "data": {
      "text/plain": [
       "array([[28,  7,  2, ...,  0,  0,  0],\n",
       "       [21, 15, 16, ...,  0,  0,  0],\n",
       "       [29, 35, 16, ...,  0,  0,  0],\n",
       "       ...,\n",
       "       [21, 15, 28, ...,  0,  0,  0],\n",
       "       [28,  7,  8, ...,  0,  0,  0],\n",
       "       [28,  7, 28, ...,  0,  0,  0]])"
      ]
     },
     "execution_count": 104,
     "metadata": {},
     "output_type": "execute_result"
    }
   ],
   "source": [
    "X_b"
   ]
  },
  {
   "cell_type": "code",
   "execution_count": 105,
   "id": "b29b7246-142c-4401-b44e-9815c4bf9370",
   "metadata": {},
   "outputs": [
    {
     "data": {
      "text/plain": [
       "(13,)"
      ]
     },
     "execution_count": 105,
     "metadata": {},
     "output_type": "execute_result"
    }
   ],
   "source": [
    "y_b.shape"
   ]
  },
  {
   "cell_type": "markdown",
   "id": "4233710d-9274-4dae-b22d-cf42b57ad862",
   "metadata": {},
   "source": [
    "# Split"
   ]
  },
  {
   "cell_type": "code",
   "execution_count": 106,
   "id": "ce7a95e6-2486-42fb-97fb-865e3fd6a561",
   "metadata": {},
   "outputs": [],
   "source": [
    "from sklearn.model_selection import train_test_split"
   ]
  },
  {
   "cell_type": "code",
   "execution_count": 107,
   "id": "fcb9840f-2f41-45be-99a5-f05f3ab73ed8",
   "metadata": {},
   "outputs": [],
   "source": [
    "X_train, X_test, y_train, y_test = train_test_split(X, y, test_size=0.2, random_state=42)"
   ]
  },
  {
   "cell_type": "code",
   "execution_count": 108,
   "id": "eb13b9d2-cd84-4015-a5f4-cf51e8449f2e",
   "metadata": {},
   "outputs": [
    {
     "data": {
      "text/plain": [
       "(4925,)"
      ]
     },
     "execution_count": 108,
     "metadata": {},
     "output_type": "execute_result"
    }
   ],
   "source": [
    "X_train.shape"
   ]
  },
  {
   "cell_type": "code",
   "execution_count": 109,
   "id": "649277c5-fda5-457c-985d-51a426882c09",
   "metadata": {},
   "outputs": [],
   "source": [
    "X_train = X_train[:4500]\n",
    "y_train = y_train[:4500]"
   ]
  },
  {
   "cell_type": "code",
   "execution_count": 110,
   "id": "4ad17134-3e15-42d1-b8c9-0c793169e145",
   "metadata": {},
   "outputs": [
    {
     "data": {
      "text/plain": [
       "(4500, 4500, 1232)"
      ]
     },
     "execution_count": 110,
     "metadata": {},
     "output_type": "execute_result"
    }
   ],
   "source": [
    "len(X_train), len(y_train), len(X_test)"
   ]
  },
  {
   "cell_type": "code",
   "execution_count": 111,
   "id": "929de60c-7128-4e35-8efc-4b5f9ee9471c",
   "metadata": {},
   "outputs": [
    {
     "data": {
      "text/plain": [
       "array(['COc1cc(/C=C/c2ccc3ccccc3[n+]2C)ccc1N1CCOCC1.[I-]',\n",
       "       'CCCCCCCNC(=O)Oc1ccc2c(c1)C1(C)CCN(CC)C2C1',\n",
       "       'c1ccc2c(COc3nn(CCN4CCCC4)c4ccccc34)cccc2c1', ...,\n",
       "       'Cl.Nc1c2c(nc3ccc(F)cc13)CCC2',\n",
       "       'CCN(CC)CCCCCOc1ccc(C(=O)/C=C/c2ccccc2)cc1',\n",
       "       'COc1ccccc1/C=C1\\\\CN(C(=O)C[C@H]2C[C@H]3CCCN3[C@]23C(=O)Nc2ccccc23)C/C(=C\\\\c2ccccc2OC)C1=O'],\n",
       "      dtype=object)"
      ]
     },
     "execution_count": 111,
     "metadata": {},
     "output_type": "execute_result"
    }
   ],
   "source": [
    "X_train"
   ]
  },
  {
   "cell_type": "code",
   "execution_count": 112,
   "id": "dd72855a-8310-4a5e-b5c8-7fe181ea8edd",
   "metadata": {},
   "outputs": [],
   "source": [
    "dgen_train = DataGenerator(X_train, y_train, seq_length=max_sequence_len, batch_size=128, data_augmentation=True)\n",
    "dgen_test = DataGenerator(X_test, y_test, seq_length=max_sequence_len, batch_size=128, data_augmentation=False)"
   ]
  },
  {
   "cell_type": "code",
   "execution_count": 113,
   "id": "8d580353-ccfc-4b41-898d-2eaae3c5f8a4",
   "metadata": {},
   "outputs": [
    {
     "data": {
      "text/plain": [
       "<datagen.DataGenerator at 0x7f3b782a6730>"
      ]
     },
     "execution_count": 113,
     "metadata": {},
     "output_type": "execute_result"
    }
   ],
   "source": [
    "dgen_train"
   ]
  },
  {
   "cell_type": "code",
   "execution_count": 114,
   "id": "1bf28e8f-b29e-4b60-b7a2-4f08ff5a547b",
   "metadata": {},
   "outputs": [
    {
     "name": "stdout",
     "output_type": "stream",
     "text": [
      "9\r"
     ]
    }
   ],
   "source": [
    "for i, (X_b, y_b) in enumerate(dgen_test):\n",
    "    print(f'{i}\\r', end='')"
   ]
  },
  {
   "cell_type": "raw",
   "id": "e9a05124-5e24-460d-af7c-ae1f15faff91",
   "metadata": {},
   "source": [
    "X_b.shape"
   ]
  },
  {
   "cell_type": "markdown",
   "id": "85941430-2534-4d7d-ba52-d934a31c1bf6",
   "metadata": {},
   "source": [
    "# Network Model"
   ]
  },
  {
   "cell_type": "code",
   "execution_count": 115,
   "id": "6bd5d1bf-4640-4cbc-acd3-72881ddcc07e",
   "metadata": {},
   "outputs": [],
   "source": [
    "from tensorflow.keras import Sequential\n",
    "from tensorflow.keras.layers import LSTM, Dense, Embedding, Bidirectional, Dropout, Activation, BatchNormalization, Conv1D, MaxPool1D, GlobalAveragePooling1D, Flatten\n",
    "from tensorflow.keras.callbacks import ModelCheckpoint\n",
    "from tensorflow.keras.optimizers import Adam, RMSprop\n",
    "from tensorflow.keras import backend as K\n",
    "import tensorflow as tf\n",
    "from tensorflow.keras import layers as L"
   ]
  },
  {
   "cell_type": "raw",
   "id": "004cb4ed-f2f8-4008-9110-1c0b10c031a8",
   "metadata": {},
   "source": [
    "# Implementar modelo de TextCNN\n",
    "def text_cnn_1d(sequence_length, vocab_size, embedding_size, filter_sizes, num_filters):\n",
    "    # Recordar que estamos en la funcional model API y hay que entender que conectar con que.\n",
    "    input_x = L.Input(shape=(sequence_length,), name='input_x')\n",
    "    embedding = #BLoque de embeddings\n",
    "    pooled_outputs = []\n",
    "    for filter_size in filter_sizes:\n",
    "        conv = # Implementar\n",
    "        max_p = # Implementar\n",
    "        pooled_outputs.append(max_p)\n",
    "        \n",
    "    h_pool = L.Concatenate(axis=2)(pooled_outputs)\n",
    "    dense = L.Flatten()(h_pool)\n",
    "    dense = # Capa densa 1\n",
    "    dense = # Capa densa 1\n",
    "    dense = L.Dense(1)(dense) # Salida\n",
    "    model = tf.keras.models.Model(input_x, dense)\n",
    "    return model"
   ]
  },
  {
   "cell_type": "code",
   "execution_count": 116,
   "id": "b6a49020-ce69-4e17-b4e1-f4bd68317fee",
   "metadata": {},
   "outputs": [],
   "source": [
    "def text_cnn_1d(sequence_length, vocab_size, embedding_size, filter_sizes, num_filters):\n",
    "    input_x = L.Input(shape=(sequence_length,), name='input_x')\n",
    "    \n",
    "    # Embedding layer\n",
    "    embedding = L.Embedding(input_dim=vocab_size, output_dim=embedding_size)(input_x)\n",
    "    \n",
    "    pooled_outputs = []\n",
    "    for filter_size in filter_sizes:\n",
    "        # Convolutional layer\n",
    "        conv = L.Conv1D(filters=num_filters, kernel_size=filter_size, activation='relu')(embedding)\n",
    "        \n",
    "        # Max pooling layer\n",
    "        max_p = L.MaxPooling1D(pool_size=sequence_length - filter_size + 1)(conv)\n",
    "        \n",
    "        pooled_outputs.append(max_p)\n",
    "        \n",
    "    h_pool = L.Concatenate(axis=2)(pooled_outputs)\n",
    "    dense = L.Flatten()(h_pool)\n",
    "    \n",
    "    # Batch normalization\n",
    "    normalized_layer = L.BatchNormalization()(dense)\n",
    "    \n",
    "    # Fully connected layers\n",
    "    dense = L.Dense(128, activation='relu')(normalized_layer)\n",
    "    dense = L.Dropout(0.5)(dense)  # Adding dropout for regularization\n",
    "    dense = L.Dense(64, activation='relu')(dense)  # Adding another dense layer\n",
    "    \n",
    "    # Output layer\n",
    "    output_layer = L.Dense(1, activation='linear')(dense)  # Assuming pIC50 is a continuous value\n",
    "    \n",
    "    model = tf.keras.models.Model(input_x, output_layer)\n",
    "    return model"
   ]
  },
  {
   "cell_type": "code",
   "execution_count": 117,
   "id": "d3db729c-1a80-40ad-b3e5-59329b172ee0",
   "metadata": {},
   "outputs": [],
   "source": [
    "# Puede cambiar estos hiperparámtros. Son solo de referencia\n",
    "FILTER_SIZES = (3, 4, 5)\n",
    "NUM_FILTERS = 128\n",
    "vocab_size = len(smiles_dict) + 1\n",
    "embeddings_size = 128 # 2"
   ]
  },
  {
   "cell_type": "code",
   "execution_count": 118,
   "id": "9909b5cd-a41a-4362-83d3-9f7a371bf3ed",
   "metadata": {},
   "outputs": [],
   "source": [
    "del(model)"
   ]
  },
  {
   "cell_type": "code",
   "execution_count": 119,
   "id": "0e0903a5-9840-4994-9964-8e2d3e9eb326",
   "metadata": {},
   "outputs": [
    {
     "name": "stdout",
     "output_type": "stream",
     "text": [
      "Model: \"model_2\"\n",
      "__________________________________________________________________________________________________\n",
      " Layer (type)                Output Shape                 Param #   Connected to                  \n",
      "==================================================================================================\n",
      " input_x (InputLayer)        [(None, 224)]                0         []                            \n",
      "                                                                                                  \n",
      " embedding_2 (Embedding)     (None, 224, 128)             5504      ['input_x[0][0]']             \n",
      "                                                                                                  \n",
      " conv1d_6 (Conv1D)           (None, 222, 128)             49280     ['embedding_2[0][0]']         \n",
      "                                                                                                  \n",
      " conv1d_7 (Conv1D)           (None, 221, 128)             65664     ['embedding_2[0][0]']         \n",
      "                                                                                                  \n",
      " conv1d_8 (Conv1D)           (None, 220, 128)             82048     ['embedding_2[0][0]']         \n",
      "                                                                                                  \n",
      " max_pooling1d_6 (MaxPoolin  (None, 1, 128)               0         ['conv1d_6[0][0]']            \n",
      " g1D)                                                                                             \n",
      "                                                                                                  \n",
      " max_pooling1d_7 (MaxPoolin  (None, 1, 128)               0         ['conv1d_7[0][0]']            \n",
      " g1D)                                                                                             \n",
      "                                                                                                  \n",
      " max_pooling1d_8 (MaxPoolin  (None, 1, 128)               0         ['conv1d_8[0][0]']            \n",
      " g1D)                                                                                             \n",
      "                                                                                                  \n",
      " concatenate_2 (Concatenate  (None, 1, 384)               0         ['max_pooling1d_6[0][0]',     \n",
      " )                                                                   'max_pooling1d_7[0][0]',     \n",
      "                                                                     'max_pooling1d_8[0][0]']     \n",
      "                                                                                                  \n",
      " flatten_2 (Flatten)         (None, 384)                  0         ['concatenate_2[0][0]']       \n",
      "                                                                                                  \n",
      " batch_normalization_2 (Bat  (None, 384)                  1536      ['flatten_2[0][0]']           \n",
      " chNormalization)                                                                                 \n",
      "                                                                                                  \n",
      " dense_6 (Dense)             (None, 128)                  49280     ['batch_normalization_2[0][0]'\n",
      "                                                                    ]                             \n",
      "                                                                                                  \n",
      " dropout_2 (Dropout)         (None, 128)                  0         ['dense_6[0][0]']             \n",
      "                                                                                                  \n",
      " dense_7 (Dense)             (None, 64)                   8256      ['dropout_2[0][0]']           \n",
      "                                                                                                  \n",
      " dense_8 (Dense)             (None, 1)                    65        ['dense_7[0][0]']             \n",
      "                                                                                                  \n",
      "==================================================================================================\n",
      "Total params: 261633 (1022.00 KB)\n",
      "Trainable params: 260865 (1019.00 KB)\n",
      "Non-trainable params: 768 (3.00 KB)\n",
      "__________________________________________________________________________________________________\n"
     ]
    }
   ],
   "source": [
    "model = text_cnn_1d(max_sequence_len, vocab_size, embeddings_size, FILTER_SIZES, NUM_FILTERS)\n",
    "model.summary()"
   ]
  },
  {
   "cell_type": "code",
   "execution_count": 120,
   "id": "4c4ab9a3-2878-483b-bc76-2627d64fb13e",
   "metadata": {},
   "outputs": [],
   "source": [
    "# model.summary()"
   ]
  },
  {
   "cell_type": "code",
   "execution_count": 121,
   "id": "4bf115a2-9f1b-42b8-9b62-59728f1da977",
   "metadata": {},
   "outputs": [],
   "source": [
    "def R2(y_true, y_pred):\n",
    "    SS_res =  K.sum(K.square( y_true-y_pred ))\n",
    "    SS_tot = K.sum(K.square( y_true - K.mean(y_true) ) )\n",
    "    return ( 1 - SS_res/(SS_tot + K.epsilon()) )"
   ]
  },
  {
   "cell_type": "code",
   "execution_count": 88,
   "id": "9138b411-fc5d-41bd-8c8e-c12580cc5b14",
   "metadata": {},
   "outputs": [
    {
     "name": "stdout",
     "output_type": "stream",
     "text": [
      "Epoch 1/100\n",
      "36/36 [==============================] - 7s 129ms/step - loss: 33.6837 - R2: -13.0642 - val_loss: 34.1184 - val_R2: -13.0987\n",
      "Epoch 2/100\n",
      "36/36 [==============================] - 5s 125ms/step - loss: 22.7360 - R2: -8.4343 - val_loss: 31.6567 - val_R2: -12.1793\n",
      "Epoch 3/100\n",
      "36/36 [==============================] - 5s 127ms/step - loss: 10.3571 - R2: -3.2974 - val_loss: 28.0975 - val_R2: -10.4678\n",
      "Epoch 4/100\n",
      "36/36 [==============================] - 5s 125ms/step - loss: 5.0652 - R2: -1.1065 - val_loss: 25.8018 - val_R2: -9.5770\n",
      "Epoch 5/100\n",
      "36/36 [==============================] - 5s 128ms/step - loss: 4.0619 - R2: -0.6725 - val_loss: 25.2527 - val_R2: -9.6400\n",
      "Epoch 6/100\n",
      "36/36 [==============================] - 5s 125ms/step - loss: 3.7609 - R2: -0.5970 - val_loss: 24.4449 - val_R2: -8.9891\n",
      "Epoch 7/100\n",
      "36/36 [==============================] - 5s 127ms/step - loss: 3.5251 - R2: -0.4576 - val_loss: 23.5869 - val_R2: -8.8094\n",
      "Epoch 8/100\n",
      "36/36 [==============================] - 5s 125ms/step - loss: 3.3996 - R2: -0.3917 - val_loss: 22.2360 - val_R2: -8.1024\n",
      "Epoch 9/100\n",
      "36/36 [==============================] - 5s 124ms/step - loss: 3.2233 - R2: -0.3476 - val_loss: 20.6474 - val_R2: -7.4024\n",
      "Epoch 10/100\n",
      "36/36 [==============================] - 5s 126ms/step - loss: 3.0876 - R2: -0.3088 - val_loss: 18.5590 - val_R2: -6.6405\n",
      "Epoch 11/100\n",
      "36/36 [==============================] - 5s 124ms/step - loss: 2.9719 - R2: -0.2314 - val_loss: 17.1807 - val_R2: -6.0870\n",
      "Epoch 12/100\n",
      "36/36 [==============================] - 5s 126ms/step - loss: 2.8363 - R2: -0.2044 - val_loss: 14.5889 - val_R2: -5.0297\n",
      "Epoch 13/100\n",
      "36/36 [==============================] - 5s 129ms/step - loss: 2.6065 - R2: -0.1070 - val_loss: 12.4020 - val_R2: -4.0868\n",
      "Epoch 14/100\n",
      "36/36 [==============================] - 5s 127ms/step - loss: 2.6986 - R2: -0.1196 - val_loss: 10.9649 - val_R2: -3.5062\n",
      "Epoch 15/100\n",
      "36/36 [==============================] - 5s 124ms/step - loss: 2.5883 - R2: -0.0901 - val_loss: 8.1938 - val_R2: -2.3885\n",
      "Epoch 16/100\n",
      "36/36 [==============================] - 5s 123ms/step - loss: 2.5308 - R2: -0.0642 - val_loss: 6.3786 - val_R2: -1.6128\n",
      "Epoch 17/100\n",
      "36/36 [==============================] - 5s 124ms/step - loss: 2.4947 - R2: -0.0421 - val_loss: 5.4048 - val_R2: -1.1839\n",
      "Epoch 18/100\n",
      "36/36 [==============================] - 5s 125ms/step - loss: 2.4414 - R2: -5.5156e-04 - val_loss: 3.8327 - val_R2: -0.5683\n",
      "Epoch 19/100\n",
      "36/36 [==============================] - 5s 123ms/step - loss: 2.3689 - R2: 0.0228 - val_loss: 2.8268 - val_R2: -0.1528\n",
      "Epoch 20/100\n",
      "36/36 [==============================] - 5s 123ms/step - loss: 2.3048 - R2: 0.0546 - val_loss: 2.6269 - val_R2: -0.0886\n",
      "Epoch 21/100\n",
      "36/36 [==============================] - 5s 126ms/step - loss: 2.2837 - R2: 0.0355 - val_loss: 2.1197 - val_R2: 0.1298\n",
      "Epoch 22/100\n",
      "36/36 [==============================] - 5s 127ms/step - loss: 2.1678 - R2: 0.1068 - val_loss: 1.7681 - val_R2: 0.2689\n",
      "Epoch 23/100\n",
      "36/36 [==============================] - 5s 130ms/step - loss: 2.3060 - R2: 0.0494 - val_loss: 1.9651 - val_R2: 0.1931\n",
      "Epoch 24/100\n",
      "36/36 [==============================] - 5s 128ms/step - loss: 2.1811 - R2: 0.0644 - val_loss: 1.6626 - val_R2: 0.3198\n",
      "Epoch 25/100\n",
      "36/36 [==============================] - 5s 143ms/step - loss: 2.1219 - R2: 0.1170 - val_loss: 1.4189 - val_R2: 0.4247\n",
      "Epoch 26/100\n",
      "36/36 [==============================] - 5s 142ms/step - loss: 2.1913 - R2: 0.1030 - val_loss: 1.4085 - val_R2: 0.4134\n",
      "Epoch 27/100\n",
      "36/36 [==============================] - 6s 152ms/step - loss: 2.0945 - R2: 0.0960 - val_loss: 1.5512 - val_R2: 0.3735\n",
      "Epoch 28/100\n",
      "36/36 [==============================] - 7s 197ms/step - loss: 2.0644 - R2: 0.1308 - val_loss: 1.5480 - val_R2: 0.3722\n",
      "Epoch 29/100\n",
      "36/36 [==============================] - 5s 147ms/step - loss: 2.0493 - R2: 0.1313 - val_loss: 1.4803 - val_R2: 0.3927\n",
      "Epoch 30/100\n",
      "36/36 [==============================] - 5s 134ms/step - loss: 1.9822 - R2: 0.1667 - val_loss: 1.4110 - val_R2: 0.4241\n",
      "Epoch 31/100\n",
      "36/36 [==============================] - 5s 138ms/step - loss: 1.9676 - R2: 0.1730 - val_loss: 1.4171 - val_R2: 0.4209\n",
      "Epoch 32/100\n",
      "36/36 [==============================] - 5s 135ms/step - loss: 1.9844 - R2: 0.1769 - val_loss: 1.4115 - val_R2: 0.4289\n",
      "Epoch 33/100\n",
      "36/36 [==============================] - 6s 172ms/step - loss: 1.9592 - R2: 0.1621 - val_loss: 1.4401 - val_R2: 0.3991\n",
      "Epoch 34/100\n",
      "36/36 [==============================] - 5s 141ms/step - loss: 1.9037 - R2: 0.1970 - val_loss: 1.3724 - val_R2: 0.4330\n",
      "Epoch 35/100\n",
      "36/36 [==============================] - 5s 136ms/step - loss: 1.8330 - R2: 0.2384 - val_loss: 1.3221 - val_R2: 0.4618\n",
      "Epoch 36/100\n",
      "36/36 [==============================] - 5s 148ms/step - loss: 1.9500 - R2: 0.1876 - val_loss: 1.3484 - val_R2: 0.4493\n",
      "Epoch 37/100\n",
      "36/36 [==============================] - 5s 139ms/step - loss: 1.9298 - R2: 0.2106 - val_loss: 1.2831 - val_R2: 0.4756\n",
      "Epoch 38/100\n",
      "36/36 [==============================] - 6s 157ms/step - loss: 1.8231 - R2: 0.2323 - val_loss: 1.5314 - val_R2: 0.3685\n",
      "Epoch 39/100\n",
      "36/36 [==============================] - 5s 140ms/step - loss: 1.8111 - R2: 0.2556 - val_loss: 1.2070 - val_R2: 0.5030\n",
      "Epoch 40/100\n",
      "36/36 [==============================] - 5s 142ms/step - loss: 1.8152 - R2: 0.2051 - val_loss: 1.3727 - val_R2: 0.4429\n",
      "Epoch 41/100\n",
      "36/36 [==============================] - 5s 143ms/step - loss: 1.7223 - R2: 0.2721 - val_loss: 1.2797 - val_R2: 0.4777\n",
      "Epoch 42/100\n",
      "36/36 [==============================] - 5s 144ms/step - loss: 1.8364 - R2: 0.2454 - val_loss: 1.3222 - val_R2: 0.4610\n",
      "Epoch 43/100\n",
      "36/36 [==============================] - 6s 156ms/step - loss: 1.7532 - R2: 0.2618 - val_loss: 1.3703 - val_R2: 0.4403\n",
      "Epoch 44/100\n",
      "36/36 [==============================] - 6s 158ms/step - loss: 1.7458 - R2: 0.2650 - val_loss: 1.4523 - val_R2: 0.3888\n",
      "Epoch 45/100\n",
      "36/36 [==============================] - 5s 140ms/step - loss: 1.7559 - R2: 0.2716 - val_loss: 1.4282 - val_R2: 0.4173\n",
      "Epoch 46/100\n",
      "36/36 [==============================] - 5s 143ms/step - loss: 1.7360 - R2: 0.2771 - val_loss: 1.3263 - val_R2: 0.4635\n",
      "Epoch 47/100\n",
      "36/36 [==============================] - 5s 140ms/step - loss: 1.6407 - R2: 0.3154 - val_loss: 1.4610 - val_R2: 0.4088\n",
      "Epoch 48/100\n",
      "36/36 [==============================] - 6s 155ms/step - loss: 1.7160 - R2: 0.2901 - val_loss: 1.3120 - val_R2: 0.4575\n",
      "Epoch 49/100\n",
      "36/36 [==============================] - 5s 150ms/step - loss: 1.6316 - R2: 0.3036 - val_loss: 1.2758 - val_R2: 0.4665\n",
      "Epoch 50/100\n",
      "36/36 [==============================] - 5s 147ms/step - loss: 1.6700 - R2: 0.2844 - val_loss: 1.3469 - val_R2: 0.4573\n",
      "Epoch 51/100\n",
      "36/36 [==============================] - 6s 153ms/step - loss: 1.6062 - R2: 0.3293 - val_loss: 1.3209 - val_R2: 0.4520\n",
      "Epoch 52/100\n",
      "36/36 [==============================] - 6s 153ms/step - loss: 1.6385 - R2: 0.3052 - val_loss: 1.3846 - val_R2: 0.4379\n",
      "Epoch 53/100\n",
      "36/36 [==============================] - 6s 162ms/step - loss: 1.5977 - R2: 0.3434 - val_loss: 1.3195 - val_R2: 0.4604\n",
      "Epoch 54/100\n",
      "36/36 [==============================] - 6s 177ms/step - loss: 1.6056 - R2: 0.3180 - val_loss: 1.3803 - val_R2: 0.4306\n",
      "Epoch 55/100\n",
      "36/36 [==============================] - 5s 146ms/step - loss: 1.5992 - R2: 0.3304 - val_loss: 1.4614 - val_R2: 0.4072\n",
      "Epoch 56/100\n",
      "36/36 [==============================] - 5s 145ms/step - loss: 1.5895 - R2: 0.3426 - val_loss: 1.4677 - val_R2: 0.3991\n",
      "Epoch 57/100\n",
      "36/36 [==============================] - 5s 150ms/step - loss: 1.5309 - R2: 0.3602 - val_loss: 1.2523 - val_R2: 0.4904\n",
      "Epoch 58/100\n",
      "36/36 [==============================] - 6s 162ms/step - loss: 1.5653 - R2: 0.3513 - val_loss: 1.3697 - val_R2: 0.4445\n",
      "Epoch 59/100\n",
      "36/36 [==============================] - 6s 155ms/step - loss: 1.5271 - R2: 0.3586 - val_loss: 1.3285 - val_R2: 0.4534\n",
      "Epoch 60/100\n",
      "36/36 [==============================] - 6s 154ms/step - loss: 1.5419 - R2: 0.3356 - val_loss: 1.7342 - val_R2: 0.2969\n",
      "Epoch 61/100\n",
      "36/36 [==============================] - 6s 163ms/step - loss: 1.5170 - R2: 0.3695 - val_loss: 1.3569 - val_R2: 0.4402\n",
      "Epoch 62/100\n",
      "36/36 [==============================] - 6s 161ms/step - loss: 1.5003 - R2: 0.3621 - val_loss: 1.5832 - val_R2: 0.3420\n",
      "Epoch 63/100\n",
      "36/36 [==============================] - 6s 161ms/step - loss: 1.5267 - R2: 0.3593 - val_loss: 1.3207 - val_R2: 0.4662\n",
      "Epoch 64/100\n",
      "36/36 [==============================] - 6s 154ms/step - loss: 1.5137 - R2: 0.3570 - val_loss: 1.2786 - val_R2: 0.4702\n",
      "Epoch 65/100\n",
      "36/36 [==============================] - 5s 146ms/step - loss: 1.4550 - R2: 0.3924 - val_loss: 1.3454 - val_R2: 0.4447\n",
      "Epoch 66/100\n",
      "36/36 [==============================] - 6s 153ms/step - loss: 1.4180 - R2: 0.3943 - val_loss: 1.2406 - val_R2: 0.4986\n",
      "Epoch 67/100\n",
      "36/36 [==============================] - 6s 167ms/step - loss: 1.4371 - R2: 0.4000 - val_loss: 1.4731 - val_R2: 0.4037\n",
      "Epoch 68/100\n",
      "36/36 [==============================] - 6s 173ms/step - loss: 1.4389 - R2: 0.3782 - val_loss: 1.4407 - val_R2: 0.4104\n",
      "Epoch 69/100\n",
      "36/36 [==============================] - 6s 167ms/step - loss: 1.4714 - R2: 0.3895 - val_loss: 1.4049 - val_R2: 0.4226\n",
      "Epoch 70/100\n",
      "36/36 [==============================] - 6s 168ms/step - loss: 1.4486 - R2: 0.3968 - val_loss: 1.3788 - val_R2: 0.4400\n",
      "Epoch 71/100\n",
      "36/36 [==============================] - 6s 172ms/step - loss: 1.4664 - R2: 0.3967 - val_loss: 1.6774 - val_R2: 0.3220\n",
      "Epoch 72/100\n",
      "36/36 [==============================] - 6s 173ms/step - loss: 1.4934 - R2: 0.3796 - val_loss: 1.3727 - val_R2: 0.4413\n",
      "Epoch 73/100\n",
      "36/36 [==============================] - 6s 156ms/step - loss: 1.4834 - R2: 0.3720 - val_loss: 1.3651 - val_R2: 0.4401\n",
      "Epoch 74/100\n",
      "36/36 [==============================] - 6s 160ms/step - loss: 1.3909 - R2: 0.4258 - val_loss: 1.4760 - val_R2: 0.3867\n",
      "Epoch 75/100\n",
      "36/36 [==============================] - 6s 170ms/step - loss: 1.4226 - R2: 0.4002 - val_loss: 1.5620 - val_R2: 0.3681\n",
      "Epoch 76/100\n",
      "36/36 [==============================] - 6s 177ms/step - loss: 1.4167 - R2: 0.4161 - val_loss: 1.2825 - val_R2: 0.4731\n",
      "Epoch 77/100\n",
      "36/36 [==============================] - 6s 171ms/step - loss: 1.4177 - R2: 0.4068 - val_loss: 1.4296 - val_R2: 0.4225\n",
      "Epoch 78/100\n",
      "36/36 [==============================] - 6s 162ms/step - loss: 1.4329 - R2: 0.4081 - val_loss: 1.3796 - val_R2: 0.4414\n",
      "Epoch 79/100\n",
      "36/36 [==============================] - 6s 164ms/step - loss: 1.3594 - R2: 0.4355 - val_loss: 1.1987 - val_R2: 0.5054\n",
      "Epoch 80/100\n",
      "36/36 [==============================] - 6s 164ms/step - loss: 1.3731 - R2: 0.4162 - val_loss: 1.2960 - val_R2: 0.4679\n",
      "Epoch 81/100\n",
      "36/36 [==============================] - 6s 161ms/step - loss: 1.3981 - R2: 0.4105 - val_loss: 1.4357 - val_R2: 0.4078\n",
      "Epoch 82/100\n",
      "36/36 [==============================] - 6s 166ms/step - loss: 1.3849 - R2: 0.4290 - val_loss: 1.4219 - val_R2: 0.4191\n",
      "Epoch 83/100\n",
      "36/36 [==============================] - 6s 157ms/step - loss: 1.3367 - R2: 0.4344 - val_loss: 1.3149 - val_R2: 0.4613\n",
      "Epoch 84/100\n",
      "36/36 [==============================] - 6s 155ms/step - loss: 1.3420 - R2: 0.4025 - val_loss: 1.2085 - val_R2: 0.5072\n",
      "Epoch 85/100\n",
      "36/36 [==============================] - 6s 157ms/step - loss: 1.3435 - R2: 0.4341 - val_loss: 1.2682 - val_R2: 0.4811\n",
      "Epoch 86/100\n",
      "36/36 [==============================] - 6s 163ms/step - loss: 1.3413 - R2: 0.4370 - val_loss: 1.4499 - val_R2: 0.4132\n",
      "Epoch 87/100\n",
      "36/36 [==============================] - 6s 164ms/step - loss: 1.2706 - R2: 0.4594 - val_loss: 1.2309 - val_R2: 0.4892\n",
      "Epoch 88/100\n",
      "36/36 [==============================] - 6s 173ms/step - loss: 1.3116 - R2: 0.4096 - val_loss: 1.2941 - val_R2: 0.4686\n",
      "Epoch 89/100\n",
      "36/36 [==============================] - 6s 173ms/step - loss: 1.3453 - R2: 0.4309 - val_loss: 1.4793 - val_R2: 0.3976\n",
      "Epoch 90/100\n",
      "36/36 [==============================] - 6s 159ms/step - loss: 1.3160 - R2: 0.4594 - val_loss: 1.5641 - val_R2: 0.3577\n",
      "Epoch 91/100\n",
      "36/36 [==============================] - 6s 159ms/step - loss: 1.3422 - R2: 0.4343 - val_loss: 1.5266 - val_R2: 0.3709\n",
      "Epoch 92/100\n",
      "36/36 [==============================] - 6s 157ms/step - loss: 1.2881 - R2: 0.4598 - val_loss: 1.3907 - val_R2: 0.4311\n",
      "Epoch 93/100\n",
      "36/36 [==============================] - 6s 159ms/step - loss: 1.3056 - R2: 0.4602 - val_loss: 1.4005 - val_R2: 0.4179\n",
      "Epoch 94/100\n",
      "36/36 [==============================] - 7s 182ms/step - loss: 1.3007 - R2: 0.4536 - val_loss: 1.3927 - val_R2: 0.4263\n",
      "Epoch 95/100\n",
      "36/36 [==============================] - 6s 154ms/step - loss: 1.2359 - R2: 0.4897 - val_loss: 1.5987 - val_R2: 0.3456\n",
      "Epoch 96/100\n",
      "36/36 [==============================] - 5s 149ms/step - loss: 1.2408 - R2: 0.4839 - val_loss: 1.5938 - val_R2: 0.3492\n",
      "Epoch 97/100\n",
      "36/36 [==============================] - 6s 154ms/step - loss: 1.2291 - R2: 0.4894 - val_loss: 1.4222 - val_R2: 0.4088\n",
      "Epoch 98/100\n",
      "36/36 [==============================] - 6s 153ms/step - loss: 1.2917 - R2: 0.4652 - val_loss: 1.2852 - val_R2: 0.4621\n",
      "Epoch 99/100\n",
      "36/36 [==============================] - 5s 149ms/step - loss: 1.2327 - R2: 0.4899 - val_loss: 1.2948 - val_R2: 0.4687\n",
      "Epoch 100/100\n",
      "36/36 [==============================] - 6s 153ms/step - loss: 1.2382 - R2: 0.4740 - val_loss: 1.3082 - val_R2: 0.4682\n"
     ]
    }
   ],
   "source": [
    "model.compile(optimizer=Adam(learning_rate=0.0001), loss='mse', metrics=[R2])\n",
    "history = model.fit(dgen_train, epochs=100, validation_data=dgen_test)"
   ]
  },
  {
   "cell_type": "code",
   "execution_count": null,
   "id": "62c3f792-f413-4150-8ebf-1f59c5fb986d",
   "metadata": {},
   "outputs": [],
   "source": [
    "mcp = ModelCheckpoint('models/best_model_{epoch}', save_best_only=True, save_format=\"h5\")"
   ]
  },
  {
   "cell_type": "code",
   "execution_count": null,
   "id": "3f37ab4e-0e3a-44c6-a572-ba5c67930c61",
   "metadata": {
    "tags": []
   },
   "outputs": [],
   "source": [
    "history = model.fit(dgen_train, epochs=10, validation_data=dgen_test)"
   ]
  },
  {
   "cell_type": "code",
   "execution_count": 43,
   "id": "a0242588-eede-4e85-8b83-f207ea8ab757",
   "metadata": {},
   "outputs": [],
   "source": [
    "X_test_eval = []\n",
    "y_t_eval = []\n",
    "for X_t, y_t in dgen_test:\n",
    "    X_test_eval = X_test_eval + [list(t) for t in X_t]\n",
    "    y_t_eval = y_t_eval + list(y_t)\n",
    "X_test_eval = np.array(X_test_eval)\n",
    "y_test = np.array(y_t_eval)"
   ]
  },
  {
   "cell_type": "code",
   "execution_count": 44,
   "id": "a1437cbf-fe44-4999-a44b-05cea765f22b",
   "metadata": {},
   "outputs": [
    {
     "data": {
      "text/plain": [
       "((1232, 224), (1232,))"
      ]
     },
     "execution_count": 44,
     "metadata": {},
     "output_type": "execute_result"
    }
   ],
   "source": [
    "X_test_eval.shape, y_test.shape"
   ]
  },
  {
   "cell_type": "code",
   "execution_count": 45,
   "id": "0084fbb1-e83e-4808-99bf-1458f3ea3076",
   "metadata": {},
   "outputs": [
    {
     "name": "stdout",
     "output_type": "stream",
     "text": [
      "39/39 [==============================] - 1s 17ms/step\n"
     ]
    }
   ],
   "source": [
    "y_pred = model.predict(X_test_eval)"
   ]
  },
  {
   "cell_type": "markdown",
   "id": "382979a3-f299-4762-8b6d-10a6ea4d3c70",
   "metadata": {},
   "source": [
    "# Score"
   ]
  },
  {
   "cell_type": "code",
   "execution_count": 46,
   "id": "f9fd5d60-841f-46c3-94b6-5755b4d548cd",
   "metadata": {},
   "outputs": [],
   "source": [
    "r2 = 1 - ((y_test - y_pred.reshape(-1)) ** 2).sum() / ((y_test - y_test.mean()) ** 2).sum()"
   ]
  },
  {
   "cell_type": "code",
   "execution_count": 47,
   "id": "4d2bfabe-2e3e-40cf-a1e8-2d458ee7f328",
   "metadata": {},
   "outputs": [
    {
     "data": {
      "text/plain": [
       "0.3767816676835821"
      ]
     },
     "execution_count": 47,
     "metadata": {},
     "output_type": "execute_result"
    }
   ],
   "source": [
    "r2"
   ]
  },
  {
   "cell_type": "code",
   "execution_count": 48,
   "id": "85262541-e04a-4ff2-b3e6-a47643db66f6",
   "metadata": {},
   "outputs": [
    {
     "name": "stderr",
     "output_type": "stream",
     "text": [
      "/home/nando/miniconda3/envs/tensorflow/lib/python3.9/site-packages/keras/src/engine/training.py:3000: UserWarning: You are saving your model as an HDF5 file via `model.save()`. This file format is considered legacy. We recommend using instead the native Keras format, e.g. `model.save('my_model.keras')`.\n",
      "  saving_api.save_model(\n"
     ]
    }
   ],
   "source": [
    "filename = 'models/embed_128_text_cnn_aug_100x100_0.0001.h5'\n",
    "model.save(filename)"
   ]
  },
  {
   "cell_type": "code",
   "execution_count": 49,
   "id": "67cf753c-a7f6-4b8a-abe3-3253986cc53a",
   "metadata": {},
   "outputs": [],
   "source": [
    "# model.summary()"
   ]
  },
  {
   "cell_type": "markdown",
   "id": "5f683e18-c876-4f7c-93ea-a33d495dcdaa",
   "metadata": {},
   "source": [
    "# Load model (solo si se grabo el modelo)"
   ]
  },
  {
   "cell_type": "code",
   "execution_count": 50,
   "id": "285c8740-f0bb-4237-8593-ff9b815de0e3",
   "metadata": {},
   "outputs": [],
   "source": [
    "from tensorflow.keras.models import load_model"
   ]
  },
  {
   "cell_type": "code",
   "execution_count": 51,
   "id": "2168984f-770c-436e-92da-c1344b1d3abc",
   "metadata": {},
   "outputs": [],
   "source": [
    "model_loaded = load_model(filename, custom_objects={'R2': R2})"
   ]
  },
  {
   "cell_type": "code",
   "execution_count": 52,
   "id": "13a9d7d8-41e0-44a0-a8b9-02157a11f8f2",
   "metadata": {},
   "outputs": [
    {
     "name": "stdout",
     "output_type": "stream",
     "text": [
      "39/39 [==============================] - 1s 17ms/step\n"
     ]
    }
   ],
   "source": [
    "y_pred = model_loaded.predict(X_test_eval)"
   ]
  },
  {
   "cell_type": "code",
   "execution_count": 53,
   "id": "26c63493-3f25-4383-9654-58ee62aa3ae5",
   "metadata": {},
   "outputs": [
    {
     "data": {
      "text/plain": [
       "0.3767816676835821"
      ]
     },
     "execution_count": 53,
     "metadata": {},
     "output_type": "execute_result"
    }
   ],
   "source": [
    "r2 = 1 - ((y_test - y_pred.reshape(-1)) ** 2).sum() / ((y_test - y_test.mean()) ** 2).sum()\n",
    "r2"
   ]
  },
  {
   "cell_type": "markdown",
   "id": "7f1a6260-e31f-4e5e-a923-ce67bf31152f",
   "metadata": {},
   "source": [
    "# Evaluación"
   ]
  },
  {
   "cell_type": "code",
   "execution_count": 54,
   "id": "7dd9d7e6-2789-459e-b9dd-593e10847fc4",
   "metadata": {},
   "outputs": [
    {
     "data": {
      "text/plain": [
       "<function matplotlib.pyplot.show(close=None, block=None)>"
      ]
     },
     "execution_count": 54,
     "metadata": {},
     "output_type": "execute_result"
    },
    {
     "data": {
      "image/png": "[encoded data removed]",
      "text/plain": [
       "<Figure size 500x500 with 1 Axes>"
      ]
     },
     "metadata": {},
     "output_type": "display_data"
    }
   ],
   "source": [
    "import seaborn as sns\n",
    "import matplotlib.pyplot as plt\n",
    "\n",
    "sns.set(color_codes=True)\n",
    "sns.set_style(\"white\")\n",
    "\n",
    "ax = sns.regplot(x=y_test, y=y_pred, scatter_kws={'alpha':0.4})\n",
    "ax.set_xlabel('Experimental pIC50', fontsize='large', fontweight='bold')\n",
    "ax.set_ylabel('Predicted pIC50', fontsize='large', fontweight='bold')\n",
    "ax.set_xlim(0, 12)\n",
    "ax.set_ylim(0, 12)\n",
    "ax.figure.set_size_inches(5, 5)\n",
    "plt.show"
   ]
  },
  {
   "cell_type": "code",
   "execution_count": null,
   "id": "87c4d36c-542f-43bb-a02e-83aed2e030c7",
   "metadata": {},
   "outputs": [],
   "source": []
  },
  {
   "cell_type": "code",
   "execution_count": null,
   "id": "94415fb3-493a-44a1-be44-8f9941da4e26",
   "metadata": {},
   "outputs": [],
   "source": []
  },
  {
   "cell_type": "code",
   "execution_count": null,
   "id": "dbac3579-ca50-43ac-85d7-04448cf1e1a9",
   "metadata": {},
   "outputs": [],
   "source": []
  },
  {
   "cell_type": "code",
   "execution_count": null,
   "id": "1aa20c81-ed7b-48e5-ac05-8dc5ce9152bd",
   "metadata": {},
   "outputs": [],
   "source": []
  },
  {
   "cell_type": "code",
   "execution_count": null,
   "id": "5e3d3397-4df0-410c-9d65-fd1de38cce72",
   "metadata": {},
   "outputs": [],
   "source": []
  },
  {
   "cell_type": "code",
   "execution_count": null,
   "id": "6bc5cd5f-b2d1-47d4-b490-298d2783ec0d",
   "metadata": {},
   "outputs": [],
   "source": []
  },
  {
   "cell_type": "code",
   "execution_count": null,
   "id": "9ad8b539-0173-46b3-be9a-051e991dbf61",
   "metadata": {},
   "outputs": [],
   "source": []
  }
 ],
 "metadata": {
  "kernelspec": {
   "display_name": "Tensorflow",
   "language": "python",
   "name": "tensorflow"
  },
  "language_info": {
   "codemirror_mode": {
    "name": "ipython",
    "version": 3
   },
   "file_extension": ".py",
   "mimetype": "text/x-python",
   "name": "python",
   "nbconvert_exporter": "python",
   "pygments_lexer": "ipython3",
   "version": "3.9.17"
  }
 },
 "nbformat": 4,
 "nbformat_minor": 5
}
